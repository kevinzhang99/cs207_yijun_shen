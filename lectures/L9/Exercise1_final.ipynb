{
 "cells": [
  {
   "cell_type": "code",
   "execution_count": 1,
   "metadata": {
    "collapsed": true
   },
   "outputs": [],
   "source": [
    "import math"
   ]
  },
  {
   "cell_type": "code",
   "execution_count": 2,
   "metadata": {
    "collapsed": true
   },
   "outputs": [],
   "source": [
    "class Circle():\n",
    "    def __init__(self, x, y):\n",
    "        self.x = x\n",
    "        self.y = y\n",
    "    \n",
    "    def radius(self):\n",
    "        r = math.sqrt((self.x)**2 + (self.y)**2)\n",
    "        return r\n",
    "    \n",
    "    def area(self):\n",
    "        a = math.pi * (self.radius()**2)\n",
    "        return a\n",
    "    \n",
    "    def circumference(self):\n",
    "        c = 2 * math.pi * (self.radius())\n",
    "        return c"
   ]
  },
  {
   "cell_type": "code",
   "execution_count": 3,
   "metadata": {},
   "outputs": [
    {
     "name": "stdout",
     "output_type": "stream",
     "text": [
      "The radius of the circle is 5.0\n",
      "The area of the circle is 78.53981633974483\n",
      "The circumference of the circle is 31.41592653589793\n"
     ]
    }
   ],
   "source": [
    "c = Circle(3,4)\n",
    "print(\"The radius of the circle is\", c.radius())\n",
    "print(\"The area of the circle is\", c.area())\n",
    "print(\"The circumference of the circle is\", c.circumference())"
   ]
  }
 ],
 "metadata": {
  "kernelspec": {
   "display_name": "Python 3",
   "language": "python",
   "name": "python3"
  },
  "language_info": {
   "codemirror_mode": {
    "name": "ipython",
    "version": 3
   },
   "file_extension": ".py",
   "mimetype": "text/x-python",
   "name": "python",
   "nbconvert_exporter": "python",
   "pygments_lexer": "ipython3",
   "version": "3.6.1"
  }
 },
 "nbformat": 4,
 "nbformat_minor": 2
}
