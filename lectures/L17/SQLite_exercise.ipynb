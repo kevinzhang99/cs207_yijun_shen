{
 "cells": [
  {
   "cell_type": "code",
   "execution_count": 1,
   "metadata": {
    "collapsed": true
   },
   "outputs": [],
   "source": [
    "import sqlite3"
   ]
  },
  {
   "cell_type": "code",
   "execution_count": 2,
   "metadata": {},
   "outputs": [
    {
     "data": {
      "text/plain": [
       "<sqlite3.Cursor at 0x10a9ff1f0>"
      ]
     },
     "execution_count": 2,
     "metadata": {},
     "output_type": "execute_result"
    }
   ],
   "source": [
    "db = sqlite3.connect('test_db.sqlite')\n",
    "cursor = db.cursor()\n",
    "cursor.execute(\"DROP TABLE IF EXISTS candidates\") # Convenient in case you want to start over\n",
    "cursor.execute(\"DROP TABLE IF EXISTS contributors\") # Convenient in case you want to start over"
   ]
  },
  {
   "cell_type": "code",
   "execution_count": 3,
   "metadata": {},
   "outputs": [
    {
     "data": {
      "text/plain": [
       "<sqlite3.Cursor at 0x10a9ff1f0>"
      ]
     },
     "execution_count": 3,
     "metadata": {},
     "output_type": "execute_result"
    }
   ],
   "source": [
    "# This strange command turns out FOREIGN KEY support in SQLite.\n",
    "# By default, this support is off.\n",
    "# We'll talk about foreign keys later on.  Just setting things up here.\n",
    "cursor.execute(\"PRAGMA foreign_keys=1\")"
   ]
  },
  {
   "cell_type": "code",
   "execution_count": 4,
   "metadata": {
    "collapsed": true
   },
   "outputs": [],
   "source": [
    "cursor.execute('''CREATE TABLE candidates (\n",
    "               id INTEGER PRIMARY KEY NOT NULL, \n",
    "               first_name TEXT, \n",
    "               last_name TEXT, \n",
    "               middle_init TEXT, \n",
    "               party TEXT NOT NULL)''')\n",
    "\n",
    "db.commit() # Commit changes to the database"
   ]
  },
  {
   "cell_type": "code",
   "execution_count": 5,
   "metadata": {},
   "outputs": [],
   "source": [
    "f = open('candidates.txt','r')\n",
    "data = f.read()\n",
    "f.close()"
   ]
  },
  {
   "cell_type": "code",
   "execution_count": 6,
   "metadata": {},
   "outputs": [
    {
     "data": {
      "text/plain": [
       "['id|first_name|last_name|middle_name|party',\n",
       " '33|Joseph|Biden||D',\n",
       " '36|Samuel|Brownback||R',\n",
       " '34|Hillary|Clinton|R.|D',\n",
       " '39|Christopher|Dodd|J.|D',\n",
       " '26|John|Edwards||D',\n",
       " '22|Rudolph|Giuliani||R',\n",
       " '24|Mike|Gravel||D',\n",
       " '16|Mike|Huckabee||R',\n",
       " '30|Duncan|Hunter||R',\n",
       " '31|Dennis|Kucinich||D',\n",
       " '37|John|McCain||R',\n",
       " '20|Barack|Obama||D',\n",
       " '32|Ron|Paul||R',\n",
       " '29|Bill|Richardson||D',\n",
       " '35|Mitt|Romney||R',\n",
       " '38|Tom|Tancredo||R',\n",
       " '41|Fred|Thompson|D.|R',\n",
       " '']"
      ]
     },
     "execution_count": 6,
     "metadata": {},
     "output_type": "execute_result"
    }
   ],
   "source": [
    "d = data.split('\\n')\n",
    "d"
   ]
  },
  {
   "cell_type": "code",
   "execution_count": 7,
   "metadata": {},
   "outputs": [],
   "source": [
    "for i in range(1, len(d)-1):\n",
    "    data = d[i].split('|')\n",
    "    cursor.execute('''INSERT INTO candidates\n",
    "               (id, first_name, last_name, middle_init, party)\n",
    "               VALUES (?, ?, ?, ?, ?)''', \n",
    "                (data[0], data[1], data[2], data[3], data[4]))\n",
    "db.commit()"
   ]
  },
  {
   "cell_type": "code",
   "execution_count": 8,
   "metadata": {},
   "outputs": [
    {
     "name": "stdout",
     "output_type": "stream",
     "text": [
      "[(16, 'Mike', 'Huckabee', '', 'R'), (20, 'Barack', 'Obama', '', 'D'), (22, 'Rudolph', 'Giuliani', '', 'R'), (24, 'Mike', 'Gravel', '', 'D'), (26, 'John', 'Edwards', '', 'D'), (29, 'Bill', 'Richardson', '', 'D'), (30, 'Duncan', 'Hunter', '', 'R'), (31, 'Dennis', 'Kucinich', '', 'D'), (32, 'Ron', 'Paul', '', 'R'), (33, 'Joseph', 'Biden', '', 'D'), (34, 'Hillary', 'Clinton', 'R.', 'D'), (35, 'Mitt', 'Romney', '', 'R'), (36, 'Samuel', 'Brownback', '', 'R'), (37, 'John', 'McCain', '', 'R'), (38, 'Tom', 'Tancredo', '', 'R'), (39, 'Christopher', 'Dodd', 'J.', 'D'), (41, 'Fred', 'Thompson', 'D.', 'R')]\n"
     ]
    }
   ],
   "source": [
    "cursor.execute(\"SELECT * FROM candidates\")\n",
    "all_rows = cursor.fetchall()\n",
    "print(all_rows)"
   ]
  },
  {
   "cell_type": "code",
   "execution_count": 9,
   "metadata": {},
   "outputs": [
    {
     "name": "stdout",
     "output_type": "stream",
     "text": [
      "[(33, 'Joseph', 'Biden', '', 'D')]\n"
     ]
    }
   ],
   "source": [
    "cursor.execute(\"SELECT * FROM candidates WHERE first_name = 'Joseph'\")\n",
    "all_rows = cursor.fetchall()\n",
    "print(all_rows)"
   ]
  },
  {
   "cell_type": "code",
   "execution_count": 10,
   "metadata": {},
   "outputs": [
    {
     "name": "stdout",
     "output_type": "stream",
     "text": [
      "[('Mike',), ('Barack',), ('Rudolph',), ('Mike',), ('John',), ('Bill',), ('Duncan',), ('Dennis',), ('Ron',), ('Joseph',), ('Hillary',), ('Mitt',), ('Samuel',), ('John',), ('Tom',), ('Christopher',), ('Fred',)]\n"
     ]
    }
   ],
   "source": [
    "cursor.execute(\"SELECT first_name FROM candidates\")\n",
    "all_rows = cursor.fetchall()\n",
    "print(all_rows)"
   ]
  },
  {
   "cell_type": "code",
   "execution_count": 11,
   "metadata": {
    "collapsed": true
   },
   "outputs": [],
   "source": [
    "cursor.execute('''CREATE TABLE contributors (\n",
    "          id INTEGER PRIMARY KEY AUTOINCREMENT NOT NULL, \n",
    "          last_name TEXT, \n",
    "          first_name TEXT, \n",
    "          middle_name TEXT, \n",
    "          street_1 TEXT, \n",
    "          street_2 TEXT, \n",
    "          city TEXT, \n",
    "          state TEXT, \n",
    "          zip TEXT, \n",
    "          amount INTEGER, \n",
    "          date DATETIME, \n",
    "          candidate_id INTEGER NOT NULL, \n",
    "          FOREIGN KEY(candidate_id) REFERENCES candidates(id))''')\n",
    "\n",
    "db.commit()"
   ]
  },
  {
   "cell_type": "code",
   "execution_count": 12,
   "metadata": {
    "collapsed": true
   },
   "outputs": [],
   "source": [
    "contributors = [(\"Agee\", \"Steven\", \"\", \"549 Laurel Branch Road\", \"\", \"Floyd\", \"VA\", int(24091), int(500), 2007-6-30, 16),\n",
    "                (\"Aaron\", \"Carole\", \"\", \"PO Box 1806\", \"\", \"Ogunqui\", \"ME\", int(3907), int(70), 2008-2-7, 34)]\n",
    "\n",
    "cursor.executemany('INSERT INTO contributors (last_name, first_name, middle_name, street_1, street_2, city, state, zip, amount, date, candidate_id) VALUES (?, ?, ?, ?, ?, ?, ?, ?, ?, ?, ?)', contributors)\n",
    "db.commit()"
   ]
  },
  {
   "cell_type": "code",
   "execution_count": 13,
   "metadata": {},
   "outputs": [
    {
     "name": "stdout",
     "output_type": "stream",
     "text": [
      "('Aaron',)\n"
     ]
    }
   ],
   "source": [
    "cursor.execute(\"SELECT last_name FROM contributors where amount < 100\")\n",
    "for c in cursor.fetchall():\n",
    "    print(c)"
   ]
  },
  {
   "cell_type": "code",
   "execution_count": 14,
   "metadata": {},
   "outputs": [
    {
     "data": {
      "text/plain": [
       "<sqlite3.Cursor at 0x10a9ff1f0>"
      ]
     },
     "execution_count": 14,
     "metadata": {},
     "output_type": "execute_result"
    }
   ],
   "source": [
    "cursor.execute('INSERT INTO contributors (last_name, first_name, middle_name, street_1, street_2, city, state, zip, amount, date, candidate_id) VALUES (?, ?, ?, ?, ?, ?, ?, ?, ?, ?, ?)', (\"Buckler\", \"Steve\", \"\", \"24351 Armada Dr.\", \"\", \"Dana Point\", \"CA\", int(926291), int(50), 2007-7-30, 20))"
   ]
  },
  {
   "cell_type": "code",
   "execution_count": null,
   "metadata": {
    "collapsed": true
   },
   "outputs": [],
   "source": []
  }
 ],
 "metadata": {
  "kernelspec": {
   "display_name": "Python 3",
   "language": "python",
   "name": "python3"
  },
  "language_info": {
   "codemirror_mode": {
    "name": "ipython",
    "version": 3
   },
   "file_extension": ".py",
   "mimetype": "text/x-python",
   "name": "python",
   "nbconvert_exporter": "python",
   "pygments_lexer": "ipython3",
   "version": "3.6.3"
  }
 },
 "nbformat": 4,
 "nbformat_minor": 2
}
