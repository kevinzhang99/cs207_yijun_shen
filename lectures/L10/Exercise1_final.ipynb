{
 "cells": [
  {
   "cell_type": "code",
   "execution_count": 1,
   "metadata": {
    "collapsed": true
   },
   "outputs": [],
   "source": [
    "import numpy as np\n",
    "\n",
    "class Circle:\n",
    "    \n",
    "    def __init__(self, x, y):\n",
    "        self.x = x\n",
    "        self.y = y\n",
    "    \n",
    "    def radius(self):\n",
    "        self.R = np.sqrt(self.x * self.x + self.y * self.y)\n",
    "    \n",
    "    def area(self):\n",
    "        try:\n",
    "            self.A = np.pi * self.R* self.R\n",
    "        except AttributeError:\n",
    "            r = np.sqrt(self.x * self.x + self.y * self.y)\n",
    "            self.A = np.pi * r * r\n",
    "    \n",
    "    def circum(self):\n",
    "        try:\n",
    "            self.C =  2.0 * np.pi * self.R\n",
    "        except AttributeError:\n",
    "            r = np.sqrt(self.x * self.x + self.y * self.y)\n",
    "            self.C = 2.0 * np.pi * r"
   ]
  },
  {
   "cell_type": "code",
   "execution_count": 2,
   "metadata": {
    "collapsed": true
   },
   "outputs": [],
   "source": [
    "class Rcircle(Circle):\n",
    "    def __init__(self, r):\n",
    "        self.R = r\n",
    "        \n",
    "    def radius(self):\n",
    "        return self.R\n",
    "    \n",
    "    def __eq__(self, other):\n",
    "        return self.R == other.R\n",
    "    \n",
    "    def area(self):\n",
    "        super().area()\n",
    "        return self.A\n",
    "    \n",
    "    def circum(self):\n",
    "        super().circum()\n",
    "        return self.C"
   ]
  },
  {
   "cell_type": "code",
   "execution_count": 3,
   "metadata": {
    "collapsed": true
   },
   "outputs": [],
   "source": [
    "c1 = Rcircle(5)\n",
    "c2 = Rcircle(3)\n",
    "c3 = Rcircle(5)"
   ]
  },
  {
   "cell_type": "code",
   "execution_count": 4,
   "metadata": {},
   "outputs": [
    {
     "name": "stdout",
     "output_type": "stream",
     "text": [
      "The radius of the circle is 5\n"
     ]
    }
   ],
   "source": [
    "print(\"The radius of the circle is\", c1.radius())"
   ]
  },
  {
   "cell_type": "code",
   "execution_count": 5,
   "metadata": {},
   "outputs": [
    {
     "name": "stdout",
     "output_type": "stream",
     "text": [
      "False\n",
      "True\n",
      "False\n"
     ]
    }
   ],
   "source": [
    "print(c1 == c2)\n",
    "print(c1 == c3)\n",
    "print(c2 == c3)"
   ]
  },
  {
   "cell_type": "code",
   "execution_count": 6,
   "metadata": {},
   "outputs": [
    {
     "name": "stdout",
     "output_type": "stream",
     "text": [
      "The area of the circle is 78.53981633974483\n"
     ]
    }
   ],
   "source": [
    "print(\"The area of the circle is\", c1.area())"
   ]
  },
  {
   "cell_type": "code",
   "execution_count": 7,
   "metadata": {},
   "outputs": [
    {
     "name": "stdout",
     "output_type": "stream",
     "text": [
      "The circumference of the circle is 31.41592653589793\n"
     ]
    }
   ],
   "source": [
    "print(\"The circumference of the circle is\", c1.circum())"
   ]
  },
  {
   "cell_type": "code",
   "execution_count": null,
   "metadata": {
    "collapsed": true
   },
   "outputs": [],
   "source": []
  }
 ],
 "metadata": {
  "kernelspec": {
   "display_name": "Python 3",
   "language": "python",
   "name": "python3"
  },
  "language_info": {
   "codemirror_mode": {
    "name": "ipython",
    "version": 3
   },
   "file_extension": ".py",
   "mimetype": "text/x-python",
   "name": "python",
   "nbconvert_exporter": "python",
   "pygments_lexer": "ipython3",
   "version": "3.6.1"
  }
 },
 "nbformat": 4,
 "nbformat_minor": 2
}
