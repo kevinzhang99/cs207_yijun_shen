{
 "cells": [
  {
   "cell_type": "code",
   "execution_count": 1,
   "metadata": {
    "collapsed": true
   },
   "outputs": [],
   "source": [
    "import xml.etree.ElementTree as ET\n",
    "tree = ET.parse('rxns.xml')\n",
    "rxns = tree.getroot()"
   ]
  },
  {
   "cell_type": "code",
   "execution_count": 2,
   "metadata": {},
   "outputs": [
    {
     "name": "stdout",
     "output_type": "stream",
     "text": [
      "['H', 'O', 'OH', 'H2', 'O2']\n"
     ]
    }
   ],
   "source": [
    "for species in rxns.findall(\"phase\"):\n",
    "    species_array = species.find(\"speciesArray\").text\n",
    "\n",
    "species_list = species_array.split()\n",
    "print(species_list)"
   ]
  },
  {
   "cell_type": "code",
   "execution_count": 3,
   "metadata": {},
   "outputs": [
    {
     "name": "stdout",
     "output_type": "stream",
     "text": [
      "686783.918643\n",
      "2310555.92\n"
     ]
    }
   ],
   "source": [
    "import numpy as np\n",
    "As = []\n",
    "bs = []\n",
    "Es = []\n",
    "T = 1500\n",
    "R = 8.314\n",
    "\n",
    "for data in rxns.findall(\"reactionData\"):\n",
    "    reaction = data.findall(\"reaction\")\n",
    "    for r in reaction:\n",
    "        coeff = r.find(\"rateCoeff\")\n",
    "        arr = coeff.find(\"Arrhenius\")\n",
    "        A = float(arr.find('A').text)\n",
    "        b = float(arr.find('b').text)\n",
    "        E = float(arr.find('E').text)\n",
    "        As.append(A)\n",
    "        bs.append(b)\n",
    "        Es.append(E)\n",
    "\n",
    "for i, A in enumerate(As):\n",
    "    k = As[i] * (T**bs[i]) * np.exp(-Es[i] / R / T)\n",
    "    print(k)"
   ]
  }
 ],
 "metadata": {
  "kernelspec": {
   "display_name": "Python 3",
   "language": "python",
   "name": "python3"
  },
  "language_info": {
   "codemirror_mode": {
    "name": "ipython",
    "version": 3
   },
   "file_extension": ".py",
   "mimetype": "text/x-python",
   "name": "python",
   "nbconvert_exporter": "python",
   "pygments_lexer": "ipython3",
   "version": "3.6.1"
  }
 },
 "nbformat": 4,
 "nbformat_minor": 2
}
