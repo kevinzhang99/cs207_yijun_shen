{
 "cells": [
  {
   "cell_type": "code",
   "execution_count": 1,
   "metadata": {
    "collapsed": true
   },
   "outputs": [],
   "source": [
    "# from HW7\n",
    "class TreeNode:\n",
    "    def __init__(self, val):\n",
    "        self.left = None\n",
    "        self.right = None\n",
    "        self.val = val\n",
    "        self.parent = None\n",
    "\n",
    "class BinaryTree:\n",
    "    def __init__(self):\n",
    "        self.root = None\n",
    "    \n",
    "    def insert(self, val):     \n",
    "        if self.root is None:\n",
    "            self.root = TreeNode(val)\n",
    "        else:\n",
    "            self._insert(val, self.root)\n",
    "    \n",
    "    def _insert(self, val, node):\n",
    "        if val <= node.val:\n",
    "            if node.left is not None:\n",
    "                self._insert(val, node.left)\n",
    "            else:\n",
    "                node.left = TreeNode(val)\n",
    "                node.left.parent = node\n",
    "        else:\n",
    "            if node.right is not None:\n",
    "                self._insert(val, node.right)\n",
    "            else:\n",
    "                node.right = TreeNode(val)\n",
    "                node.right.parent = node\n",
    "    \n",
    "    def find(self, val):\n",
    "        if self.root is None:\n",
    "            return None\n",
    "        else:\n",
    "            return self._find(val, self.root)\n",
    "    \n",
    "    def _find(self, val, node):\n",
    "        if val == node.val:\n",
    "            return node\n",
    "        elif val < node.val and node.left is not None:\n",
    "            return self._find(val, node.left)\n",
    "        elif val > node.val and node.right is not None:\n",
    "            return self._find(val, node.right)\n",
    "        else:\n",
    "            return None\n",
    "              \n",
    "    def getValues(self, depth):\n",
    "        if self.root is None:\n",
    "            return []\n",
    "        else:\n",
    "            val_list = []\n",
    "            self._getValues(depth, self.root, val_list)\n",
    "            return val_list\n",
    "            \n",
    "    def _getValues(self, depth, node, vals=[]):\n",
    "        if depth == 0:\n",
    "            vals.append(node.val)\n",
    "        else:\n",
    "            if node.left is not None:\n",
    "                self._getValues(depth-1, node.left, vals)\n",
    "            else:\n",
    "                for i in range(int(2**(depth-1))):\n",
    "                    vals.append(None)\n",
    "            if node.right is not None:\n",
    "                self._getValues(depth-1, node.right, vals)\n",
    "            else:\n",
    "                for i in range(int(2**(depth-1))):\n",
    "                    vals.append(None)\n",
    "        return vals\n",
    "    \n",
    "    def max_depth(self, root):\n",
    "        if root is None:\n",
    "            return 0\n",
    "        else:\n",
    "            return max(self.max_depth(root.left), self.max_depth(root.right)) + 1\n",
    "    def __len__(self):\n",
    "        return self.max_depth(self.root)"
   ]
  },
  {
   "cell_type": "code",
   "execution_count": 2,
   "metadata": {
    "collapsed": true
   },
   "outputs": [],
   "source": [
    "from enum import Enum\n",
    "\n",
    "class DFSTraversalTypes(Enum):\n",
    "    PREORDER = 1\n",
    "    INORDER = 2\n",
    "    POSTORDER = 3"
   ]
  },
  {
   "cell_type": "code",
   "execution_count": 3,
   "metadata": {
    "collapsed": true
   },
   "outputs": [],
   "source": [
    "class DFSTraversal:\n",
    "    def __init__(self, tree, traversalType):\n",
    "        self.traversalType = traversalType.name\n",
    "        self.tree = tree\n",
    "        self.pre_list = []\n",
    "        self.in_list = []\n",
    "        self.post_list = []\n",
    "        self.preorder(self.tree.root)\n",
    "        self.inorder(self.tree.root)\n",
    "        self.postorder(self.tree.root)\n",
    "        self.index = 0\n",
    "        \n",
    "    def changeTraversalType(self, traversalType):\n",
    "        self.traversalType = traversalType.name\n",
    "        self.index = 0\n",
    "                 \n",
    "    def preorder(self, node):\n",
    "        if node is not None:\n",
    "            self.pre_list.append(node.val)\n",
    "            self.preorder(node.left)\n",
    "            self.preorder(node.right)\n",
    "                  \n",
    "    def inorder(self, node):\n",
    "        if node is not None:\n",
    "            self.inorder(node.left)\n",
    "            self.in_list.append(node.val)\n",
    "            self.inorder(node.right)\n",
    "            \n",
    "    def postorder(self, node):\n",
    "        if node is not None:\n",
    "            self.postorder(node.left)\n",
    "            self.postorder(node.right)\n",
    "            self.post_list.append(node.val)\n",
    "            \n",
    "     \n",
    "    def __next__(self):        \n",
    "        if self.traversalType == 'PREORDER':\n",
    "            try:\n",
    "                value = self.pre_list[self.index]\n",
    "            except IndexError:\n",
    "                raise StopIteration()\n",
    "            self.index += 1\n",
    "            return value        \n",
    "            \n",
    "        elif self.traversalType == 'INORDER':\n",
    "            try:\n",
    "                value = self.in_list[self.index]\n",
    "            except IndexError:\n",
    "                raise StopIteration()\n",
    "            self.index += 1\n",
    "            return value \n",
    "            \n",
    "        elif self.traversalType == 'POSTORDER':\n",
    "            try:\n",
    "                value = self.post_list[self.index]\n",
    "            except IndexError:\n",
    "                raise StopIteration()\n",
    "            self.index += 1\n",
    "            return value \n",
    "        \n",
    "        \n",
    "    def __iter__(self):\n",
    "        return self"
   ]
  },
  {
   "cell_type": "code",
   "execution_count": 4,
   "metadata": {},
   "outputs": [
    {
     "name": "stdout",
     "output_type": "stream",
     "text": [
      "Height of binary tree is 3.\n",
      "\n",
      "Level 0 values: [3]\n",
      "Level 1 values: [2, 9]\n",
      "Level 2 values: [None, None, None, 11]\n"
     ]
    }
   ],
   "source": [
    "input_array = [3, 9, 2, 11]\n",
    "bt = BinaryTree()\n",
    "for val in input_array:\n",
    "    bt.insert(val)\n",
    "print(\"Height of binary tree is {}.\\n\".format(len(bt)))\n",
    "for i in range(len(bt)):\n",
    "    print(\"Level {0} values: {1}\".format(i, bt.getValues(i)))"
   ]
  },
  {
   "cell_type": "code",
   "execution_count": 5,
   "metadata": {},
   "outputs": [
    {
     "data": {
      "text/plain": [
       "'PREORDER'"
      ]
     },
     "execution_count": 5,
     "metadata": {},
     "output_type": "execute_result"
    }
   ],
   "source": [
    "traversal = DFSTraversal(bt, DFSTraversalTypes.PREORDER)\n",
    "traversal.traversalType"
   ]
  },
  {
   "cell_type": "code",
   "execution_count": 6,
   "metadata": {},
   "outputs": [
    {
     "name": "stdout",
     "output_type": "stream",
     "text": [
      "3\n",
      "2\n",
      "9\n",
      "11\n"
     ]
    }
   ],
   "source": [
    "for val in traversal:\n",
    "    print(val)"
   ]
  },
  {
   "cell_type": "code",
   "execution_count": 7,
   "metadata": {},
   "outputs": [
    {
     "data": {
      "text/plain": [
       "'INORDER'"
      ]
     },
     "execution_count": 7,
     "metadata": {},
     "output_type": "execute_result"
    }
   ],
   "source": [
    "traversal.changeTraversalType(DFSTraversalTypes.INORDER)\n",
    "traversal.traversalType"
   ]
  },
  {
   "cell_type": "code",
   "execution_count": 8,
   "metadata": {},
   "outputs": [
    {
     "name": "stdout",
     "output_type": "stream",
     "text": [
      "2\n",
      "3\n",
      "9\n",
      "11\n"
     ]
    }
   ],
   "source": [
    "for val in traversal:\n",
    "    print(val)"
   ]
  },
  {
   "cell_type": "code",
   "execution_count": 9,
   "metadata": {},
   "outputs": [
    {
     "name": "stdout",
     "output_type": "stream",
     "text": [
      "2\n",
      "11\n",
      "9\n",
      "3\n"
     ]
    }
   ],
   "source": [
    "traversal.changeTraversalType(DFSTraversalTypes.POSTORDER)\n",
    "for val in traversal:\n",
    "    print(val)"
   ]
  },
  {
   "cell_type": "code",
   "execution_count": 10,
   "metadata": {},
   "outputs": [
    {
     "name": "stdout",
     "output_type": "stream",
     "text": [
      "Height of binary tree is 4.\n",
      "\n",
      "Level 0 values: [20]\n",
      "Level 1 values: [10, None]\n",
      "Level 2 values: [3, 17, None, None]\n",
      "Level 3 values: [0, None, 14, None, None, None, None, None]\n"
     ]
    }
   ],
   "source": [
    "bt2 = BinaryTree()\n",
    "arr = [20, 10, 17, 14, 3, 0]\n",
    "for i in arr:\n",
    "    bt2.insert(i)\n",
    "print(\"Height of binary tree is {}.\\n\".format(len(bt2)))\n",
    "for i in range(len(bt2)):\n",
    "    print(\"Level {0} values: {1}\".format(i, bt2.getValues(i)))    "
   ]
  },
  {
   "cell_type": "code",
   "execution_count": 11,
   "metadata": {},
   "outputs": [
    {
     "data": {
      "text/plain": [
       "'INORDER'"
      ]
     },
     "execution_count": 11,
     "metadata": {},
     "output_type": "execute_result"
    }
   ],
   "source": [
    "traversal2 = DFSTraversal(bt2, DFSTraversalTypes.INORDER)\n",
    "traversal2.traversalType"
   ]
  },
  {
   "cell_type": "code",
   "execution_count": 12,
   "metadata": {},
   "outputs": [
    {
     "name": "stdout",
     "output_type": "stream",
     "text": [
      "0\n",
      "3\n",
      "10\n",
      "14\n",
      "17\n",
      "20\n"
     ]
    }
   ],
   "source": [
    "for val in traversal2:\n",
    "    print(val)"
   ]
  },
  {
   "cell_type": "code",
   "execution_count": 13,
   "metadata": {},
   "outputs": [
    {
     "data": {
      "text/plain": [
       "'PREORDER'"
      ]
     },
     "execution_count": 13,
     "metadata": {},
     "output_type": "execute_result"
    }
   ],
   "source": [
    "traversal2.changeTraversalType(DFSTraversalTypes.PREORDER)\n",
    "traversal2.traversalType"
   ]
  },
  {
   "cell_type": "code",
   "execution_count": 14,
   "metadata": {},
   "outputs": [
    {
     "name": "stdout",
     "output_type": "stream",
     "text": [
      "20\n",
      "10\n",
      "3\n",
      "0\n",
      "17\n",
      "14\n"
     ]
    }
   ],
   "source": [
    "for val in traversal2:\n",
    "    print(val)"
   ]
  },
  {
   "cell_type": "code",
   "execution_count": 15,
   "metadata": {},
   "outputs": [
    {
     "data": {
      "text/plain": [
       "'POSTORDER'"
      ]
     },
     "execution_count": 15,
     "metadata": {},
     "output_type": "execute_result"
    }
   ],
   "source": [
    "traversal2.changeTraversalType(DFSTraversalTypes.POSTORDER)\n",
    "traversal2.traversalType"
   ]
  },
  {
   "cell_type": "code",
   "execution_count": 16,
   "metadata": {},
   "outputs": [
    {
     "name": "stdout",
     "output_type": "stream",
     "text": [
      "0\n",
      "3\n",
      "14\n",
      "17\n",
      "10\n",
      "20\n"
     ]
    }
   ],
   "source": [
    "for val in traversal2:\n",
    "    print(val)"
   ]
  },
  {
   "cell_type": "code",
   "execution_count": null,
   "metadata": {
    "collapsed": true
   },
   "outputs": [],
   "source": []
  }
 ],
 "metadata": {
  "kernelspec": {
   "display_name": "Python 3",
   "language": "python",
   "name": "python3"
  },
  "language_info": {
   "codemirror_mode": {
    "name": "ipython",
    "version": 3
   },
   "file_extension": ".py",
   "mimetype": "text/x-python",
   "name": "python",
   "nbconvert_exporter": "python",
   "pygments_lexer": "ipython3",
   "version": "3.6.3"
  }
 },
 "nbformat": 4,
 "nbformat_minor": 2
}
