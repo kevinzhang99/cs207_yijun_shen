{
 "cells": [
  {
   "cell_type": "markdown",
   "metadata": {},
   "source": [
    "### Problem 2"
   ]
  },
  {
   "cell_type": "code",
   "execution_count": 23,
   "metadata": {},
   "outputs": [
    {
     "name": "stdout",
     "output_type": "stream",
     "text": [
      "Writing reaction_coeffs.py\n"
     ]
    }
   ],
   "source": [
    "%%file reaction_coeffs.py\n",
    "def k_const(k):\n",
    "    \"\"\"Returns the constant reaction rate coefficients\n",
    "    \n",
    "    INPUTS\n",
    "    ======\n",
    "    k: float, constant reaction rate coefficient\n",
    "    \n",
    "    RETURNS\n",
    "    =======\n",
    "    constant reaction rate coefficients, which is k\n",
    "    \n",
    "    EXAMPLES\n",
    "    ========\n",
    "    >>> k_const(1.5)\n",
    "    1.5\n",
    "    \"\"\"\n",
    "    k1 = k\n",
    "    return k1\n",
    "\n",
    "def k_arr(A, E, T, R=8.314):\n",
    "    \"\"\"Returns Arrhenius reaction rate coefficients\n",
    "    \n",
    "    INPUTS\n",
    "    ======\n",
    "    A: float, the Arrhenius prefactor, strictly positive\n",
    "    E: float, a parameter\n",
    "    T: float, temperature using a Kelvin scale, strictly positive\n",
    "    R: float, default value is 8.314 which is the ideal gas constant. \n",
    "        R should not be changed except to convert units\n",
    "    \n",
    "    RETURNS\n",
    "    =======\n",
    "    Arrhenius reaction rate coefficients: a float\n",
    "        a ValueError exception is raised if A <= 0\n",
    "        a ValueError exception is raised if T <= 0\n",
    "    Raise OverflowError if the result is beyond the maximum representable finite float\n",
    "    Raise UnderflowError if the result is below the minimum positive normalized float\n",
    "        since A, T and exponential function are all strictly positive,\n",
    "        only consider positive overflow and positive underflow\n",
    "    \n",
    "    EXAMPLES\n",
    "    ========\n",
    "    >>>k_arr(10**7, 10**3, 10**2)\n",
    "    3003549.08896\n",
    "    \"\"\"\n",
    "    import numpy as np\n",
    "    import sys\n",
    "    if A <= 0:\n",
    "        raise ValueError(\"The Arrhenius prefactor must be strictly positive.\")\n",
    "    if T <= 0:\n",
    "        raise ValueError(\"Temperature must be strictly positive.\")\n",
    "    k2 = A * np.exp(-E / (R*T))\n",
    "    if k2 > sys.float_info.max:\n",
    "        raise OverflowError(\"Arrhenius coefficients overflow.\")\n",
    "    if k2 < sys.float_info.min:\n",
    "        raise UnderflowError(\"Arrhenius coefficients underflow.\")\n",
    "    return k2\n",
    "\n",
    "def k_modarr(A, b, E, T, R=8.314):\n",
    "    \"\"\"Returns the modified Arrhenius reaction rate coefficients.\n",
    "    \n",
    "    INPUTS\n",
    "    ======\n",
    "    A: float, the Arrhenius prefactor, strictly positive\n",
    "    b: float, a parameter, must be real\n",
    "    E: float, a parameter\n",
    "    T: float, temperature using a Kelvin scale, strictly positive\n",
    "    R: float, default value is 8.314 which is the ideal gas constant. \n",
    "        R should not be changed except to convert units\n",
    "    \n",
    "    RETURNS\n",
    "    =======\n",
    "    Modified Arrhenius reaction rate coefficients: a float\n",
    "        a ValueError exception is raised if A <= 0\n",
    "        a ValueError exception is raised if T <= 0\n",
    "        a ValueError exception is raised if b is not real.\n",
    "    Raise OverflowError if the result is beyond the maximum representable finite float\n",
    "    Raise UnderflowError if the result is below the minimum positive normalized float\n",
    "        since A, T and exponential function are all strictly positive,\n",
    "        only consider positive overflow and positive underflow\n",
    "    \n",
    "    EXAMPLES\n",
    "    ========\n",
    "    >>>k_modarr(10**7, 0.5, 10**3, 10**2)\n",
    "    30035490.889639609\n",
    "    \"\"\"\n",
    "    import numpy as np\n",
    "    if A <= 0:\n",
    "        raise ValueError(\"The Arrhenius prefactor must be strictly positive.\")\n",
    "    if T <= 0:\n",
    "        raise ValueError(\"Temperature must be strictly positive.\")\n",
    "    if np.iscomplex(b):\n",
    "        raise ValueError(\"The parameter b must be real.\")\n",
    "    k3 = A * (T**b) * np.exp(-E / (R*T))\n",
    "    if k3 > sys.float_info.max:\n",
    "        raise OverflowError(\"Arrhenius coefficients overflow.\")\n",
    "    if k3 < sys.float_info.min:\n",
    "        raise UnderflowError(\"Arrhenius coefficients underflow.\")\n",
    "    return k3"
   ]
  },
  {
   "cell_type": "markdown",
   "metadata": {},
   "source": [
    "### Problem 3"
   ]
  },
  {
   "cell_type": "code",
   "execution_count": 31,
   "metadata": {
    "collapsed": true
   },
   "outputs": [],
   "source": [
    "def progress_rate1(v_i, x, k):\n",
    "    \"\"\"Returns the progress rate for a reaction (v_A)A+(v_B)B --> (v_C)C\n",
    "    \n",
    "    INPUTS\n",
    "    ====== \n",
    "    v_i: a list of floats representing Stoichiometric coefficients of reactants\n",
    "        ordered according to the reaction form, left to right\n",
    "    x: a list of floats representing the concentration of each reactant and product\n",
    "        ordered according to the reaction form, left to right\n",
    "    k: float, reaction rate coefficient\n",
    "        \n",
    "    RETURNS\n",
    "    =======\n",
    "    progress rate for the reaction: a float\n",
    "    \n",
    "    EXAMPLES\n",
    "    ========\n",
    "    >>>progress_rate1([2.0, 1.0, 1.0], [1.0, 2.0, 3.0], 10)\n",
    "    60.0\n",
    "    \"\"\"\n",
    "    r=1\n",
    "    for v, xi in zip(v_i, x):\n",
    "        r *= xi**v\n",
    "    w = k*r\n",
    "    return w\n",
    "    "
   ]
  },
  {
   "cell_type": "code",
   "execution_count": 32,
   "metadata": {},
   "outputs": [
    {
     "data": {
      "text/plain": [
       "60.0"
      ]
     },
     "execution_count": 32,
     "metadata": {},
     "output_type": "execute_result"
    }
   ],
   "source": [
    "progress_rate1([2.0,1.0,1.0], [1.0,2.0,3.0], 10)"
   ]
  },
  {
   "cell_type": "markdown",
   "metadata": {},
   "source": [
    "### Problem 4"
   ]
  },
  {
   "cell_type": "code",
   "execution_count": 54,
   "metadata": {
    "collapsed": true
   },
   "outputs": [],
   "source": [
    "def progress_rate2(v_ij1, v_ij2, x, k):\n",
    "    \"\"\"Returns the progress rate for a system of reactions of the following form:\n",
    "        (v_11')A + (v_21')B --> (v_31'')C\n",
    "        (v_12')A + (v_32')C --> (v_22'')B + (v_32'')C\n",
    "\n",
    "    INPUTS\n",
    "    =======\n",
    "    v_ij1: a numpy array of floats, representing the stoichiometric coefficient of reactnat i in reaction j\n",
    "    v_ij2: a numpy array of floats, representing the stoichiometric coefficient of product i in reactio j\n",
    "    x: a list of floats representing the concentration of each reactant and product\n",
    "    k: float, reaction rate coefficient\n",
    "    \n",
    "    RETURNS\n",
    "    =======\n",
    "    progress rate for the system of reactions: a list of floats [w1, w2, ..., wj]\n",
    "        wj is the progress rate for reaction j\n",
    "    \n",
    "    EXAMPLES:\n",
    "    >>> progress_rate2(np.array([[1.0, 2.0, 0.0],[2.0, 0.0, 2.0]]),np.array([[0.0, 0.0, 2.0],\n",
    "                        [0.0, 1.0, 1.0]]), [1.0,2.0,1.0], 10)\n",
    "    [40.0, 10.0]\n",
    "\n",
    "\"\"\"\n",
    "    import numpy as np\n",
    "    v_i1 = list(v_ij1[:][0])\n",
    "    v_i2 = list(v_ij1[:][1])\n",
    "    w=[]\n",
    "    r1 = 1\n",
    "    r2 = 1\n",
    "    for v1, xi in zip(v_i1, x):\n",
    "        r1 *= xi**v1\n",
    "    w1 = k*r1\n",
    "    w.append(w1)\n",
    "    for v2, xi in zip(v_i2, x):\n",
    "        r2 *= xi**v2\n",
    "    w2 = k*r2\n",
    "    w.append(w2)\n",
    "    return w"
   ]
  },
  {
   "cell_type": "code",
   "execution_count": 55,
   "metadata": {},
   "outputs": [
    {
     "data": {
      "text/plain": [
       "[40.0, 10.0]"
      ]
     },
     "execution_count": 55,
     "metadata": {},
     "output_type": "execute_result"
    }
   ],
   "source": [
    "import numpy as np\n",
    "v_ij1 = np.array([[1.0, 2.0, 0.0], \n",
    "                 [2.0, 0.0, 2.0]])\n",
    "v_ij2 = np.array([[0.0, 0.0, 2.0], \n",
    "                 [0.0, 1.0, 1.0]])\n",
    "v_i1 = v_ij1[:][0]\n",
    "v_i2 = v_ij1[:][1]\n",
    "progress_rate2(v_ij1, v_ij2, [1.0,2.0,1.0], 10)"
   ]
  },
  {
   "cell_type": "markdown",
   "metadata": {},
   "source": [
    "### Problem 5"
   ]
  },
  {
   "cell_type": "code",
   "execution_count": 80,
   "metadata": {
    "collapsed": true
   },
   "outputs": [],
   "source": [
    "def reaction_rate(v_ij1, v_ij2, x, k):\n",
    "    \"\"\"Returns the reaction rate for a system of reactions of the following form:\n",
    "        (v_11')A + (v_21')B --> (v_31'')C\n",
    "        (v_32')C --> (v_12'')A + (v_22'')B \n",
    "        \n",
    "    INPUTS\n",
    "    =======\n",
    "    v_ij1: a numpy array of floats, representing the stoichiometric coefficient of reactnat i in reaction j\n",
    "    v_ij2: a numpy array of floats, representing the stoichiometric coefficient of product i in reactio j\n",
    "    x: a list of floats representing the concentration of each reactant and product\n",
    "    k: float, reaction rate coefficient\n",
    "    \n",
    "    RETURNS\n",
    "    =======\n",
    "    reaction rate for the system of reactions: a list of floats [f1, f2, ..., fi]\n",
    "        fj is the reaction rate for specie i\n",
    "    \n",
    "    EXAMPLES:\n",
    "    >>> reaction_rate(np.array([[1.0, 2.0, 0.0], [0.0, 0.0, 2.0]]), np.array([[0.0, 0.0, 1.0], [1.0, 2.0, 0.0]]),\n",
    "                      [1.0,2.0,1.0], 10)\n",
    "    [-30.0, -60.0, 20.0]\n",
    "\n",
    "\"\"\"\n",
    "    import numpy as np\n",
    "    v_ij = v_ij2 - v_ij1\n",
    "    vA = list(v_ij[:,0])\n",
    "    vB = list(v_ij[:,1])\n",
    "    vC = list(v_ij[:,2])\n",
    "    w1 = progress_rate2(v_ij1, v_ij2, x, k)[0]\n",
    "    w2 = progress_rate2(v_ij1, v_ij2, x, k)[1]\n",
    "    f1 = vA[0]*w1 + vA[1]*w2\n",
    "    f2 = vB[0]*w1 + vB[1]*w2\n",
    "    f3 = vC[0]*w1 + vC[1]*w2\n",
    "    f = [f1,f2,f3]\n",
    "    return f"
   ]
  },
  {
   "cell_type": "code",
   "execution_count": 81,
   "metadata": {},
   "outputs": [
    {
     "name": "stdout",
     "output_type": "stream",
     "text": [
      "[[-1. -2.  1.]\n",
      " [ 1.  2. -2.]]\n",
      "[-1.0, 1.0]\n",
      "40.0 10.0\n"
     ]
    },
    {
     "data": {
      "text/plain": [
       "[-30.0, -60.0, 20.0]"
      ]
     },
     "execution_count": 81,
     "metadata": {},
     "output_type": "execute_result"
    }
   ],
   "source": [
    "v_ij1 = np.array([[1.0, 2.0, 0.0], \n",
    "                 [0.0, 0.0, 2.0]])\n",
    "v_ij2 = np.array([[0.0, 0.0, 1.0], \n",
    "                 [1.0, 2.0, 0.0]])\n",
    "\n",
    "reaction_rate(v_ij1, v_ij2, [1.0,2.0,1.0], 10)"
   ]
  },
  {
   "cell_type": "markdown",
   "metadata": {},
   "source": [
    "### Problem 6"
   ]
  },
  {
   "cell_type": "code",
   "execution_count": null,
   "metadata": {
    "collapsed": true
   },
   "outputs": [],
   "source": [
    "%% file chemkin.py\n"
   ]
  },
  {
   "cell_type": "code",
   "execution_count": 8,
   "metadata": {},
   "outputs": [],
   "source": [
    "# test\n",
    "def k_arr(A, E, T, R=8.314):\n",
    "    import numpy as np\n",
    "    if A <= 0:\n",
    "        raise ValueError(\"The Arrhenius prefactor must be strictly positive.\")\n",
    "    if T <= 0:\n",
    "        raise ValueError(\"Temperature must be strictly positive.\")\n",
    "    k2 = A * np.exp(-E / (R*T))\n",
    "    return k2"
   ]
  },
  {
   "cell_type": "code",
   "execution_count": 13,
   "metadata": {},
   "outputs": [
    {
     "name": "stdout",
     "output_type": "stream",
     "text": [
      "3003549.08896\n"
     ]
    }
   ],
   "source": [
    "k2 = k_arr(10**7, 10**3, 10**2)\n",
    "print(k2)"
   ]
  },
  {
   "cell_type": "code",
   "execution_count": 14,
   "metadata": {
    "collapsed": true
   },
   "outputs": [],
   "source": [
    "def k_modarr(A, b, E, T, R=8.314):\n",
    "    import numpy as np\n",
    "    if A <= 0:\n",
    "        raise ValueError(\"The Arrhenius prefactor must be strictly positive.\")\n",
    "    if T <= 0:\n",
    "        raise ValueError(\"Temperature must be strictly positive.\")\n",
    "    if np.iscomplex(b):\n",
    "        raise ValueError(\"The parameter b must be real.\")\n",
    "    k3 = A * (T**b) * np.exp(-E / (R*T))\n",
    "    return k3"
   ]
  },
  {
   "cell_type": "code",
   "execution_count": 17,
   "metadata": {},
   "outputs": [
    {
     "data": {
      "text/plain": [
       "30035490.889639609"
      ]
     },
     "execution_count": 17,
     "metadata": {},
     "output_type": "execute_result"
    }
   ],
   "source": [
    "k_modarr(10**7, 0.5, 10**3, 10**2)"
   ]
  },
  {
   "cell_type": "code",
   "execution_count": 22,
   "metadata": {},
   "outputs": [
    {
     "name": "stdout",
     "output_type": "stream",
     "text": [
      "1.7976931348623157e+308\n",
      "2.2250738585072014e-308\n"
     ]
    }
   ],
   "source": [
    "import sys\n",
    "print(sys.float_info.max)\n",
    "print(sys.float_info.min)"
   ]
  },
  {
   "cell_type": "code",
   "execution_count": null,
   "metadata": {
    "collapsed": true
   },
   "outputs": [],
   "source": []
  }
 ],
 "metadata": {
  "kernelspec": {
   "display_name": "Python 3",
   "language": "python",
   "name": "python3"
  },
  "language_info": {
   "codemirror_mode": {
    "name": "ipython",
    "version": 3
   },
   "file_extension": ".py",
   "mimetype": "text/x-python",
   "name": "python",
   "nbconvert_exporter": "python",
   "pygments_lexer": "ipython3",
   "version": "3.6.1"
  }
 },
 "nbformat": 4,
 "nbformat_minor": 2
}
