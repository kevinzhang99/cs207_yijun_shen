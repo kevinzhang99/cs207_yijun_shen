{
 "cells": [
  {
   "cell_type": "code",
   "execution_count": 1,
   "metadata": {
    "collapsed": true
   },
   "outputs": [],
   "source": [
    "import collections\n",
    "import numpy as np"
   ]
  },
  {
   "cell_type": "code",
   "execution_count": 2,
   "metadata": {
    "collapsed": true
   },
   "outputs": [],
   "source": [
    "f = open(\"prog_data.txt\", \"r\")\n",
    "progdata = f.read()\n",
    "f.close()"
   ]
  },
  {
   "cell_type": "code",
   "execution_count": 3,
   "metadata": {},
   "outputs": [
    {
     "data": {
      "text/plain": [
       "str"
      ]
     },
     "execution_count": 3,
     "metadata": {},
     "output_type": "execute_result"
    }
   ],
   "source": [
    "type(progdata)"
   ]
  },
  {
   "cell_type": "code",
   "execution_count": 4,
   "metadata": {},
   "outputs": [],
   "source": [
    "progdata1 = progdata.replace('\\n', '')"
   ]
  },
  {
   "cell_type": "code",
   "execution_count": 5,
   "metadata": {},
   "outputs": [
    {
     "name": "stdout",
     "output_type": "stream",
     "text": [
      "45\n"
     ]
    }
   ],
   "source": [
    "print(len(progdata1))"
   ]
  },
  {
   "cell_type": "code",
   "execution_count": 6,
   "metadata": {
    "collapsed": true
   },
   "outputs": [],
   "source": [
    "datalist = []\n",
    "for i in range(len(progdata1)):\n",
    "    datalist.append(progdata1[i])"
   ]
  },
  {
   "cell_type": "code",
   "execution_count": 7,
   "metadata": {},
   "outputs": [
    {
     "data": {
      "text/plain": [
       "['4',\n",
       " '2',\n",
       " '3',\n",
       " '4',\n",
       " '3',\n",
       " '3',\n",
       " '4',\n",
       " '3',\n",
       " '3',\n",
       " '5',\n",
       " '1',\n",
       " '4',\n",
       " '5',\n",
       " '1',\n",
       " '4',\n",
       " '3',\n",
       " '5',\n",
       " '1',\n",
       " '4',\n",
       " '3',\n",
       " '5',\n",
       " '2',\n",
       " '4',\n",
       " '5',\n",
       " '1',\n",
       " '4',\n",
       " '5',\n",
       " '3',\n",
       " '4',\n",
       " '4',\n",
       " '3',\n",
       " '4',\n",
       " '4',\n",
       " '2',\n",
       " '3',\n",
       " '4',\n",
       " '3',\n",
       " '3',\n",
       " '4',\n",
       " '4',\n",
       " '3',\n",
       " '4',\n",
       " '3',\n",
       " '4',\n",
       " '3']"
      ]
     },
     "execution_count": 7,
     "metadata": {},
     "output_type": "execute_result"
    }
   ],
   "source": [
    "datalist"
   ]
  },
  {
   "cell_type": "code",
   "execution_count": 8,
   "metadata": {},
   "outputs": [],
   "source": [
    "floatlist = []\n",
    "for i in range(len(datalist)):\n",
    "    floatlist.append(float(datalist[i]))"
   ]
  },
  {
   "cell_type": "code",
   "execution_count": 9,
   "metadata": {},
   "outputs": [
    {
     "data": {
      "text/plain": [
       "[4.0,\n",
       " 2.0,\n",
       " 3.0,\n",
       " 4.0,\n",
       " 3.0,\n",
       " 3.0,\n",
       " 4.0,\n",
       " 3.0,\n",
       " 3.0,\n",
       " 5.0,\n",
       " 1.0,\n",
       " 4.0,\n",
       " 5.0,\n",
       " 1.0,\n",
       " 4.0,\n",
       " 3.0,\n",
       " 5.0,\n",
       " 1.0,\n",
       " 4.0,\n",
       " 3.0,\n",
       " 5.0,\n",
       " 2.0,\n",
       " 4.0,\n",
       " 5.0,\n",
       " 1.0,\n",
       " 4.0,\n",
       " 5.0,\n",
       " 3.0,\n",
       " 4.0,\n",
       " 4.0,\n",
       " 3.0,\n",
       " 4.0,\n",
       " 4.0,\n",
       " 2.0,\n",
       " 3.0,\n",
       " 4.0,\n",
       " 3.0,\n",
       " 3.0,\n",
       " 4.0,\n",
       " 4.0,\n",
       " 3.0,\n",
       " 4.0,\n",
       " 3.0,\n",
       " 4.0,\n",
       " 3.0]"
      ]
     },
     "execution_count": 9,
     "metadata": {},
     "output_type": "execute_result"
    }
   ],
   "source": [
    "floatlist"
   ]
  },
  {
   "cell_type": "code",
   "execution_count": 10,
   "metadata": {},
   "outputs": [
    {
     "data": {
      "text/plain": [
       "[(0, '4'),\n",
       " (1, '2'),\n",
       " (2, '3'),\n",
       " (3, '4'),\n",
       " (4, '3'),\n",
       " (5, '3'),\n",
       " (6, '4'),\n",
       " (7, '3'),\n",
       " (8, '3'),\n",
       " (9, '5'),\n",
       " (10, '1'),\n",
       " (11, '4'),\n",
       " (12, '5'),\n",
       " (13, '1'),\n",
       " (14, '4'),\n",
       " (15, '3'),\n",
       " (16, '5'),\n",
       " (17, '1'),\n",
       " (18, '4'),\n",
       " (19, '3'),\n",
       " (20, '5'),\n",
       " (21, '2'),\n",
       " (22, '4'),\n",
       " (23, '5'),\n",
       " (24, '1'),\n",
       " (25, '4'),\n",
       " (26, '5'),\n",
       " (27, '3'),\n",
       " (28, '4'),\n",
       " (29, '4'),\n",
       " (30, '3'),\n",
       " (31, '4'),\n",
       " (32, '4'),\n",
       " (33, '2'),\n",
       " (34, '3'),\n",
       " (35, '4'),\n",
       " (36, '3'),\n",
       " (37, '3'),\n",
       " (38, '4'),\n",
       " (39, '4'),\n",
       " (40, '3'),\n",
       " (41, '4'),\n",
       " (42, '3'),\n",
       " (43, '4'),\n",
       " (44, '3')]"
      ]
     },
     "execution_count": 10,
     "metadata": {},
     "output_type": "execute_result"
    }
   ],
   "source": [
    "list(enumerate(datalist))"
   ]
  },
  {
   "cell_type": "code",
   "execution_count": 11,
   "metadata": {},
   "outputs": [
    {
     "name": "stdout",
     "output_type": "stream",
     "text": [
      "Counter({4.0: 17, 3.0: 15, 5.0: 6, 1.0: 4, 2.0: 3})\n"
     ]
    }
   ],
   "source": [
    "data_counter = collections.Counter(floatlist)\n",
    "print(data_counter)"
   ]
  },
  {
   "cell_type": "code",
   "execution_count": 12,
   "metadata": {},
   "outputs": [
    {
     "name": "stdout",
     "output_type": "stream",
     "text": [
      "45\n"
     ]
    }
   ],
   "source": [
    "print(len(floatlist))"
   ]
  },
  {
   "cell_type": "code",
   "execution_count": 13,
   "metadata": {},
   "outputs": [
    {
     "name": "stdout",
     "output_type": "stream",
     "text": [
      "5.0\n"
     ]
    }
   ],
   "source": [
    "print(max(floatlist))"
   ]
  },
  {
   "cell_type": "code",
   "execution_count": 14,
   "metadata": {},
   "outputs": [
    {
     "name": "stdout",
     "output_type": "stream",
     "text": [
      "1.0\n"
     ]
    }
   ],
   "source": [
    "print(min(floatlist))"
   ]
  },
  {
   "cell_type": "code",
   "execution_count": 15,
   "metadata": {},
   "outputs": [
    {
     "name": "stdout",
     "output_type": "stream",
     "text": [
      "4.0\n"
     ]
    }
   ],
   "source": [
    "print(np.median(floatlist))"
   ]
  },
  {
   "cell_type": "code",
   "execution_count": 16,
   "metadata": {},
   "outputs": [
    {
     "name": "stdout",
     "output_type": "stream",
     "text": [
      "3.4\n"
     ]
    }
   ],
   "source": [
    "print(np.mean(floatlist))"
   ]
  },
  {
   "cell_type": "code",
   "execution_count": 17,
   "metadata": {},
   "outputs": [
    {
     "name": "stdout",
     "output_type": "stream",
     "text": [
      "(4.0, 17)\n"
     ]
    }
   ],
   "source": [
    "print(data_counter.most_common()[0])"
   ]
  },
  {
   "cell_type": "code",
   "execution_count": 18,
   "metadata": {},
   "outputs": [
    {
     "name": "stdout",
     "output_type": "stream",
     "text": [
      "The total number of respondants is 45\n",
      "The maximum programming confidence is 5.0\n",
      "The minimum programming confidence is 1.0\n",
      "The mediam programming level is 4.0\n",
      "The mean programming level is 3.4\n",
      "The most common programming level is 4.0 with 17 respondants.\n"
     ]
    }
   ],
   "source": [
    "print(\"The total number of respondants is\", len(floatlist))\n",
    "print(\"The maximum programming confidence is\", max(floatlist))\n",
    "print(\"The minimum programming confidence is\", min(floatlist))\n",
    "print(\"The mediam programming level is\", np.median(floatlist))\n",
    "print(\"The mean programming level is\", np.mean(floatlist))\n",
    "print(\"The most common programming level is\", data_counter.most_common()[0][0], \"with\", data_counter.most_common()[0][1], \"respondants.\")"
   ]
  }
 ],
 "metadata": {
  "kernelspec": {
   "display_name": "Python 3",
   "language": "python",
   "name": "python3"
  },
  "language_info": {
   "codemirror_mode": {
    "name": "ipython",
    "version": 3
   },
   "file_extension": ".py",
   "mimetype": "text/x-python",
   "name": "python",
   "nbconvert_exporter": "python",
   "pygments_lexer": "ipython3",
   "version": "3.6.1"
  }
 },
 "nbformat": 4,
 "nbformat_minor": 2
}
