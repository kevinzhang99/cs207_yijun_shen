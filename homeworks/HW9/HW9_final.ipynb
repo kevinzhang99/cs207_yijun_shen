{
 "cells": [
  {
   "cell_type": "code",
   "execution_count": 1,
   "metadata": {
    "collapsed": true
   },
   "outputs": [],
   "source": [
    "f = open('thermo.txt','r')\n",
    "lines = f.readlines()\n",
    "f.close()"
   ]
  },
  {
   "cell_type": "code",
   "execution_count": 2,
   "metadata": {},
   "outputs": [],
   "source": [
    "content = []\n",
    "for line in lines:\n",
    "    l = line.strip().split()\n",
    "    content.append(l)\n",
    "# content"
   ]
  },
  {
   "cell_type": "code",
   "execution_count": 3,
   "metadata": {
    "collapsed": true
   },
   "outputs": [],
   "source": [
    "species = ['O','O2','H','H2','OH','H2O','HO2','H2O2']"
   ]
  },
  {
   "cell_type": "code",
   "execution_count": 4,
   "metadata": {},
   "outputs": [],
   "source": [
    "species_i = []\n",
    "first = [c[0] for c in content if c]\n",
    "for i, f in enumerate(first):\n",
    "    if f == 'THERMO':\n",
    "        thermo_i = i+1\n",
    "    for j, s in enumerate(species):\n",
    "        if f == s:\n",
    "            species_i.append(i)\n",
    "            del species[j]\n",
    "# species_i"
   ]
  },
  {
   "cell_type": "code",
   "execution_count": 5,
   "metadata": {},
   "outputs": [
    {
     "data": {
      "text/plain": [
       "['300.000', '1000.000', '5000.000']"
      ]
     },
     "execution_count": 5,
     "metadata": {},
     "output_type": "execute_result"
    }
   ],
   "source": [
    "temperature = content[thermo_i]\n",
    "temperature"
   ]
  },
  {
   "cell_type": "code",
   "execution_count": 6,
   "metadata": {},
   "outputs": [],
   "source": [
    "coeffs = []\n",
    "for i in species_i:\n",
    "    numbers = content[i+1][:-1] + content[i+2][:-1] + content[i+3][:-1]\n",
    "    coeffs.append(numbers)\n",
    "# coeffs"
   ]
  },
  {
   "cell_type": "code",
   "execution_count": 7,
   "metadata": {},
   "outputs": [
    {
     "data": {
      "text/plain": [
       "[['2.56942078E+00',\n",
       "  '-8.59741137E-05',\n",
       "  '4.19484589E-08',\n",
       "  '-1.00177799E-11',\n",
       "  '1.22833691E-15',\n",
       "  '2.92175791E+04',\n",
       "  '4.78433864E+00',\n",
       "  '3.16826710E+00',\n",
       "  '-3.27931884E-03',\n",
       "  '6.64306396E-06',\n",
       "  '-6.12806624E-09',\n",
       "  '2.11265971E-12',\n",
       "  '2.91222592E+04',\n",
       "  '2.05193346E+00'],\n",
       " ['3.28253784E+00',\n",
       "  '1.48308754E-03',\n",
       "  '-7.57966669E-07',\n",
       "  '2.09470555E-10',\n",
       "  '-2.16717794E-14',\n",
       "  '-1.08845772E+03',\n",
       "  '5.45323129E+00',\n",
       "  '3.78245636E+00',\n",
       "  '-2.99673416E-03',\n",
       "  '9.84730201E-06',\n",
       "  '-9.68129509E-09',\n",
       "  '3.24372837E-12',\n",
       "  '-1.06394356E+03',\n",
       "  '3.65767573E+00'],\n",
       " ['2.50000001E+00',\n",
       "  '-2.30842973E-11',\n",
       "  '1.61561948E-14',\n",
       "  '-4.73515235E-18',\n",
       "  '4.98197357E-22',\n",
       "  '2.54736599E+04',\n",
       "  '-4.46682914E-01',\n",
       "  '2.50000000E+00',\n",
       "  '7.05332819E-13',\n",
       "  '-1.99591964E-15',\n",
       "  '2.30081632E-18',\n",
       "  '-9.27732332E-22',\n",
       "  '2.54736599E+04',\n",
       "  '-4.46682853E-01'],\n",
       " ['3.33727920E+00',\n",
       "  '-4.94024731E-05',\n",
       "  '4.99456778E-07',\n",
       "  '-1.79566394E-10',\n",
       "  '2.00255376E-14',\n",
       "  '-9.50158922E+0',\n",
       "  '2-3.20502331E+00',\n",
       "  '2.34433112E+00',\n",
       "  '7.98052075E-03',\n",
       "  '-1.94781510E-05',\n",
       "  '2.01572094E-08',\n",
       "  '-7.37611761E-12-9.17935173E+02',\n",
       "  '6.83010238E-01'],\n",
       " ['3.09288767E+00',\n",
       "  '5.48429716E-04',\n",
       "  '1.26505228E-07',\n",
       "  '-8.79461556E-11',\n",
       "  '1.17412376E-14',\n",
       "  '3.85865700E+03',\n",
       "  '4.47669610E+00',\n",
       "  '3.99201543E+00',\n",
       "  '-2.40131752E-03',\n",
       "  '4.61793841E-06',\n",
       "  '-3.88113333E-09',\n",
       "  '1.36411470E-12',\n",
       "  '3.61508056E+03',\n",
       "  '-1.03925458E-01'],\n",
       " ['3.03399249E+00',\n",
       "  '2.17691804E-03',\n",
       "  '-1.64072518E-07-9.70419870E-11',\n",
       "  '1.68200992E-14',\n",
       "  '-3.00042971E+04',\n",
       "  '4.96677010E+00',\n",
       "  '4.19864056E+00',\n",
       "  '-2.03643410E-03',\n",
       "  '6.52040211E-06',\n",
       "  '-5.48797062E-09',\n",
       "  '1.77197817E-12',\n",
       "  '-3.02937267E+04-8.49032208E-01'],\n",
       " ['4.01721090E+00',\n",
       "  '2.23982013E-03',\n",
       "  '-6.33658150E-07',\n",
       "  '1.14246370E-10',\n",
       "  '-1.07908535E-14',\n",
       "  '1.11856713E+02',\n",
       "  '3.78510215E+00',\n",
       "  '4.30179801E+00',\n",
       "  '-4.74912051E-03',\n",
       "  '2.11582891E-05',\n",
       "  '-2.42763894E-08',\n",
       "  '9.29225124E-12',\n",
       "  '2.94808040E+02',\n",
       "  '3.71666245E+00'],\n",
       " ['4.16500285E+00',\n",
       "  '4.90831694E-03',\n",
       "  '-1.90139225E-06',\n",
       "  '3.71185986E-10',\n",
       "  '-2.87908305E-14',\n",
       "  '-1.78617877E+04',\n",
       "  '2.91615662E+00',\n",
       "  '4.27611269E+00',\n",
       "  '-5.42822417E-04',\n",
       "  '1.67335701E-05',\n",
       "  '-2.15770813E-08',\n",
       "  '8.62454363E-12',\n",
       "  '-1.77025821E+04',\n",
       "  '3.43505074E+00']]"
      ]
     },
     "execution_count": 7,
     "metadata": {},
     "output_type": "execute_result"
    }
   ],
   "source": [
    "total_list = []\n",
    "for lst in coeffs:\n",
    "    new_list = []\n",
    "    for i, n in enumerate(lst):\n",
    "        if len(n) > 15:\n",
    "            lst[i] = n[:14] + ' ' + n[14:]\n",
    "        new = lst[i].strip().split()\n",
    "        new_list.append(new)\n",
    "    concat_list = [j for i in new_list for j in i]\n",
    "    total_list.append(concat_list)\n",
    "total_list"
   ]
  },
  {
   "cell_type": "code",
   "execution_count": null,
   "metadata": {
    "scrolled": true
   },
   "outputs": [],
   "source": [
    "# new_first = []\n",
    "# for i, n in enumerate(first):\n",
    "#     if len(n) > 15:\n",
    "#         first[i] = n[:14] + ' ' + n[14:]\n",
    "#     new = first[i].strip().split()\n",
    "# #     print(new)\n",
    "#     new_first.append(new)\n",
    "# new_first\n",
    "# concat_list = [j for i in new_first for j in i]\n",
    "# concat_list"
   ]
  },
  {
   "cell_type": "code",
   "execution_count": null,
   "metadata": {},
   "outputs": [],
   "source": [
    "d = {}\n",
    "species = ['O','O2','H','H2','OH','H2O','HO2','H2O2']\n",
    "for s, coeff in zip(species, coeffs):\n",
    "    d[s] = coeff\n",
    "d"
   ]
  },
  {
   "cell_type": "code",
   "execution_count": null,
   "metadata": {},
   "outputs": [],
   "source": [
    "content[6][:-1]"
   ]
  }
 ],
 "metadata": {
  "kernelspec": {
   "display_name": "Python 3",
   "language": "python",
   "name": "python3"
  },
  "language_info": {
   "codemirror_mode": {
    "name": "ipython",
    "version": 3
   },
   "file_extension": ".py",
   "mimetype": "text/x-python",
   "name": "python",
   "nbconvert_exporter": "python",
   "pygments_lexer": "ipython3",
   "version": "3.6.3"
  }
 },
 "nbformat": 4,
 "nbformat_minor": 2
}
