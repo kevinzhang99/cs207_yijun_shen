{
 "cells": [
  {
   "cell_type": "code",
   "execution_count": 1,
   "metadata": {},
   "outputs": [
    {
     "name": "stdout",
     "output_type": "stream",
     "text": [
      "Overwriting norm.py\n"
     ]
    }
   ],
   "source": [
    "%%file norm.py\n",
    "import numpy as np\n",
    "import doctest\n",
    "\n",
    "def L2(v, *args):\n",
    "    \"\"\" Returns the L2 norm of a vector v.\n",
    "    INPUTS\n",
    "    ======\n",
    "    v: a list of numbers representing the vector v.\n",
    "    args: a list of numbers representing the weight vevtor w.\n",
    "          weight vector is passed to the function as a list.\n",
    "    NOTE: the length of the above two lists should be the same.\n",
    "          \n",
    "    RETURNS\n",
    "    =======\n",
    "    the L2 norm of the vector (a number)\n",
    "    \n",
    "    EXAMPLES\n",
    "    ========\n",
    "    >>L2([1,1], [3,4])\n",
    "    5\n",
    "    \"\"\"\n",
    "    s = 0.0 # Initialize sum\n",
    "    if len(args) == 0: # No weight vector\n",
    "        for vi in v:\n",
    "            s += vi * vi\n",
    "    else: # Weight vector present\n",
    "        w = args[0] # Get the weight vector\n",
    "        if (len(w) != len(v)): # Check lengths of lists\n",
    "            raise ValueError(\"Length of list of weights must match length of target list.\")\n",
    "        for i, vi in enumerate(v):\n",
    "            s += w[i] * w[i] * vi * vi\n",
    "    return np.sqrt(s)"
   ]
  },
  {
   "cell_type": "code",
   "execution_count": 2,
   "metadata": {},
   "outputs": [
    {
     "name": "stdout",
     "output_type": "stream",
     "text": [
      "Overwriting test_norm.py\n"
     ]
    }
   ],
   "source": [
    "%%file test_norm.py\n",
    "import norm\n",
    "def test_eq_length():\n",
    "    try:\n",
    "        norm.L2([1,1,1,1], [3,4])\n",
    "    except ValueError as err:\n",
    "        assert(type(err) == ValueError)\n",
    "        \n",
    "def test_norm_types():\n",
    "    try:\n",
    "        norm.L2([\"hi\", \"hello\"])\n",
    "    except TypeError as err:\n",
    "        assert(type(err) == TypeError)       "
   ]
  },
  {
   "cell_type": "code",
   "execution_count": 3,
   "metadata": {},
   "outputs": [
    {
     "name": "stdout",
     "output_type": "stream",
     "text": [
      "\u001b[1m============================= test session starts ==============================\u001b[0m\n",
      "platform darwin -- Python 3.6.1, pytest-3.0.7, py-1.4.33, pluggy-0.4.0\n",
      "rootdir: /Users/shenyijun/Desktop/GitHub/cs207_yijun_shen/lectures/L7, inifile:\n",
      "plugins: cov-2.3.1\n",
      "collected 2 items \u001b[0m\u001b[1m\u001b[1m\n",
      "\u001b[0m\n",
      "test_norm.py ..\n",
      "\n",
      "---------- coverage: platform darwin, python 3.6.1-final-0 -----------\n",
      "Name           Stmts   Miss  Cover   Missing\n",
      "--------------------------------------------\n",
      "norm.py           13      3    77%   30-32\n",
      "test_norm.py      11      0   100%\n",
      "--------------------------------------------\n",
      "TOTAL             24      3    88%\n",
      "\n",
      "\n",
      "\u001b[32m\u001b[1m=========================== 2 passed in 0.54 seconds ===========================\u001b[0m\n"
     ]
    }
   ],
   "source": [
    "!pytest --doctest-modules --cov --cov-report term-missing"
   ]
  },
  {
   "cell_type": "code",
   "execution_count": null,
   "metadata": {
    "collapsed": true
   },
   "outputs": [],
   "source": []
  }
 ],
 "metadata": {
  "kernelspec": {
   "display_name": "Python 3",
   "language": "python",
   "name": "python3"
  },
  "language_info": {
   "codemirror_mode": {
    "name": "ipython",
    "version": 3
   },
   "file_extension": ".py",
   "mimetype": "text/x-python",
   "name": "python",
   "nbconvert_exporter": "python",
   "pygments_lexer": "ipython3",
   "version": "3.6.1"
  }
 },
 "nbformat": 4,
 "nbformat_minor": 2
}
