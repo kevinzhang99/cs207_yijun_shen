{
 "cells": [
  {
   "cell_type": "markdown",
   "metadata": {},
   "source": [
    "### Problem 2"
   ]
  },
  {
   "cell_type": "code",
   "execution_count": 1,
   "metadata": {},
   "outputs": [
    {
     "name": "stdout",
     "output_type": "stream",
     "text": [
      "Overwriting reaction_coeffs.py\n"
     ]
    }
   ],
   "source": [
    "%%file reaction_coeffs.py\n",
    "def k_const(k):\n",
    "    \"\"\"Returns the constant reaction rate coefficients\n",
    "    \n",
    "    INPUTS\n",
    "    ======\n",
    "    k: float, constant reaction rate coefficient\n",
    "    \n",
    "    RETURNS\n",
    "    =======\n",
    "    constant reaction rate coefficients, which is k\n",
    "    \n",
    "    EXAMPLES\n",
    "    ========\n",
    "    >>> k_const(1.5)\n",
    "    1.5\n",
    "    \"\"\"\n",
    "    k1 = k\n",
    "    return k1\n",
    "\n",
    "def k_arr(A, E, T, R=8.314):\n",
    "    \"\"\"Returns Arrhenius reaction rate coefficients\n",
    "    \n",
    "    INPUTS\n",
    "    ======\n",
    "    A: float, the Arrhenius prefactor, strictly positive\n",
    "    E: float, a parameter\n",
    "    T: float, temperature using a Kelvin scale, strictly positive\n",
    "    R: float, default value is 8.314 which is the ideal gas constant. \n",
    "        R should not be changed except to convert units\n",
    "    \n",
    "    RETURNS\n",
    "    =======\n",
    "    Arrhenius reaction rate coefficients: a float\n",
    "        a ValueError exception is raised if A <= 0\n",
    "        a ValueError exception is raised if T <= 0\n",
    "    Raise OverflowError if the result is beyond the maximum representable finite float\n",
    "    Raise UnderflowError if the result is below the minimum positive normalized float\n",
    "        since A, T and exponential function are all strictly positive,\n",
    "        only consider positive overflow and positive underflow\n",
    "    \n",
    "    EXAMPLES\n",
    "    ========\n",
    "    >>>k_arr(10**7, 10**3, 10**2)\n",
    "    3003549.08896\n",
    "    \"\"\"\n",
    "    import numpy as np\n",
    "    import sys\n",
    "    if A <= 0:\n",
    "        raise ValueError(\"The Arrhenius prefactor must be strictly positive.\")\n",
    "    if T <= 0:\n",
    "        raise ValueError(\"Temperature must be strictly positive.\")\n",
    "    k2 = A * np.exp(-E / (R*T))\n",
    "    if k2 > sys.float_info.max:\n",
    "        raise OverflowError(\"Arrhenius coefficients overflow.\")\n",
    "    if k2 < sys.float_info.min:\n",
    "        raise UnderflowError(\"Arrhenius coefficients underflow.\")\n",
    "    return k2\n",
    "\n",
    "def k_modarr(A, b, E, T, R=8.314):\n",
    "    \"\"\"Returns the modified Arrhenius reaction rate coefficients.\n",
    "    \n",
    "    INPUTS\n",
    "    ======\n",
    "    A: float, the Arrhenius prefactor, strictly positive\n",
    "    b: float, a parameter, must be real\n",
    "    E: float, a parameter\n",
    "    T: float, temperature using a Kelvin scale, strictly positive\n",
    "    R: float, default value is 8.314 which is the ideal gas constant. \n",
    "        R should not be changed except to convert units\n",
    "    \n",
    "    RETURNS\n",
    "    =======\n",
    "    Modified Arrhenius reaction rate coefficients: a float\n",
    "        a ValueError exception is raised if A <= 0\n",
    "        a ValueError exception is raised if T <= 0\n",
    "        a ValueError exception is raised if b is not real.\n",
    "    Raise OverflowError if the result is beyond the maximum representable finite float\n",
    "    Raise UnderflowError if the result is below the minimum positive normalized float\n",
    "        since A, T and exponential function are all strictly positive,\n",
    "        only consider positive overflow and positive underflow\n",
    "    \n",
    "    EXAMPLES\n",
    "    ========\n",
    "    >>>k_modarr(10**7, 0.5, 10**3, 10**2)\n",
    "    30035490.889639609\n",
    "    \"\"\"\n",
    "    import numpy as np\n",
    "    import sys\n",
    "    if A <= 0:\n",
    "        raise ValueError(\"The Arrhenius prefactor must be strictly positive.\")\n",
    "    if T <= 0:\n",
    "        raise ValueError(\"Temperature must be strictly positive.\")\n",
    "    if np.iscomplex(b):\n",
    "        raise ValueError(\"The parameter b must be real.\")\n",
    "    k3 = A * (T**b) * np.exp(-E / (R*T))\n",
    "    if k3 > sys.float_info.max:\n",
    "        raise OverflowError(\"Arrhenius coefficients overflow.\")\n",
    "    if k3 < sys.float_info.min:\n",
    "        raise UnderflowError(\"Arrhenius coefficients underflow.\")\n",
    "    return k3"
   ]
  },
  {
   "cell_type": "markdown",
   "metadata": {},
   "source": [
    "### Problem 3"
   ]
  },
  {
   "cell_type": "code",
   "execution_count": 2,
   "metadata": {
    "collapsed": true
   },
   "outputs": [],
   "source": [
    "def progress_rate1(v_i, x, k):\n",
    "    \"\"\"Returns the progress rate for a reaction (v_A)A+(v_B)B --> (v_C)C\n",
    "    \n",
    "    INPUTS\n",
    "    ====== \n",
    "    v_i: a list of floats representing Stoichiometric coefficients of reactants\n",
    "        ordered according to the reaction form, left to right\n",
    "    x: a list of floats representing the concentration of each reactant and product\n",
    "        ordered according to the reaction form, left to right\n",
    "    k: float, reaction rate coefficient\n",
    "        \n",
    "    RETURNS\n",
    "    =======\n",
    "    progress rate for the reaction: a float\n",
    "    \n",
    "    EXAMPLES\n",
    "    ========\n",
    "    >>>progress_rate1([2.0, 1.0, 0.0], [1.0, 2.0, 3.0], 10)\n",
    "    20.0\n",
    "    \"\"\"\n",
    "    r=1\n",
    "    for v, xi in zip(v_i, x):\n",
    "        r *= xi**v\n",
    "    w = k*r\n",
    "    return w"
   ]
  },
  {
   "cell_type": "code",
   "execution_count": 3,
   "metadata": {},
   "outputs": [
    {
     "data": {
      "text/plain": [
       "20.0"
      ]
     },
     "execution_count": 3,
     "metadata": {},
     "output_type": "execute_result"
    }
   ],
   "source": [
    "progress_rate1([2.0,1.0,0.0], [1.0,2.0,3.0], 10)"
   ]
  },
  {
   "cell_type": "markdown",
   "metadata": {},
   "source": [
    "### Problem 4"
   ]
  },
  {
   "cell_type": "code",
   "execution_count": 4,
   "metadata": {
    "collapsed": true
   },
   "outputs": [],
   "source": [
    "def progress_rate2(v_ij1, v_ij2, x, k):\n",
    "    \"\"\"Returns the progress rate for a system of reactions of the following form:\n",
    "        (v_11')A + (v_21')B --> (v_31'')C\n",
    "        (v_12')A + (v_32')C --> (v_22'')B + (v_32'')C\n",
    "\n",
    "    INPUTS\n",
    "    =======\n",
    "    v_ij1: a numpy array of floats, representing the stoichiometric coefficient of reactnat i in reaction j\n",
    "    v_ij2: a numpy array of floats, representing the stoichiometric coefficient of product i in reactio j\n",
    "    x: a list of floats representing the concentration of each reactant and product\n",
    "    k: a list of floats, reaction rate coefficient for each reaction\n",
    "    \n",
    "    RETURNS\n",
    "    =======\n",
    "    progress rate for the system of reactions: a list of floats [w1, w2, ..., wj]\n",
    "        wj is the progress rate for reaction j\n",
    "    \n",
    "    EXAMPLES:\n",
    "    >>> progress_rate2(np.array([[1.0, 2.0, 0.0],[2.0, 0.0, 2.0]]),np.array([[0.0, 0.0, 2.0],\n",
    "                        [0.0, 1.0, 1.0]]), [1.0,2.0,1.0], 10)\n",
    "    [40.0, 10.0]\n",
    "\n",
    "\"\"\"\n",
    "    import numpy as np\n",
    "    w_list = []\n",
    "    each_reaction = np.vsplit(v_ij1,1)[0].tolist()\n",
    "    for n in range(0, len(each_reaction)):\n",
    "        r = 1\n",
    "        for v, xi, ki in zip(each_reaction[n], x, k):\n",
    "            r *= (xi**v)\n",
    "            w = ki * r\n",
    "        w_list.append(w)\n",
    "    return w_list"
   ]
  },
  {
   "cell_type": "code",
   "execution_count": 5,
   "metadata": {},
   "outputs": [
    {
     "data": {
      "text/plain": [
       "[40.0, 10.0]"
      ]
     },
     "execution_count": 5,
     "metadata": {},
     "output_type": "execute_result"
    }
   ],
   "source": [
    "import numpy as np\n",
    "v_ij1 = np.array([[1.0, 2.0, 0.0], \n",
    "                 [2.0, 0.0, 2.0]])\n",
    "v_ij2 = np.array([[0.0, 0.0, 2.0], \n",
    "                 [0.0, 1.0, 1.0]])\n",
    "v_i1 = v_ij1[:][0]\n",
    "v_i2 = v_ij1[:][1]\n",
    "progress_rate2(v_ij1, v_ij2, [1.0,2.0,1.0], [10,10])"
   ]
  },
  {
   "cell_type": "code",
   "execution_count": 6,
   "metadata": {},
   "outputs": [
    {
     "data": {
      "text/plain": [
       "[[1.0, 2.0, 0.0], [2.0, 0.0, 2.0]]"
      ]
     },
     "execution_count": 6,
     "metadata": {},
     "output_type": "execute_result"
    }
   ],
   "source": [
    "np.vsplit(v_ij1, 1)[0].tolist()"
   ]
  },
  {
   "cell_type": "markdown",
   "metadata": {},
   "source": [
    "### Problem 5"
   ]
  },
  {
   "cell_type": "code",
   "execution_count": 7,
   "metadata": {},
   "outputs": [],
   "source": [
    "def reaction_rate(v_ij1, v_ij2, x, k):\n",
    "    \"\"\"Returns the reaction rate for a system of reactions of the following form:\n",
    "        (v_11')A + (v_21')B --> (v_31'')C\n",
    "        (v_32')C --> (v_12'')A + (v_22'')B \n",
    "        \n",
    "    INPUTS\n",
    "    =======\n",
    "    v_ij1: a numpy array of floats, representing the stoichiometric coefficient of reactnat i in reaction j\n",
    "    v_ij2: a numpy array of floats, representing the stoichiometric coefficient of product i in reactio j\n",
    "    x: a list of floats representing the concentration of each reactant and product\n",
    "    k: float, reaction rate coefficient\n",
    "    \n",
    "    RETURNS\n",
    "    =======\n",
    "    reaction rate for the system of reactions: a list of floats [f1, f2, ..., fi]\n",
    "        fj is the reaction rate for specie i\n",
    "    \n",
    "    EXAMPLES:\n",
    "    >>> reaction_rate(np.array([[1.0, 2.0, 0.0], [0.0, 0.0, 2.0]]), np.array([[0.0, 0.0, 1.0], [1.0, 2.0, 0.0]]),\n",
    "                      [1.0,2.0,1.0], 10)\n",
    "    [-30.0, -60.0, 20.0]\n",
    "\n",
    "\"\"\"\n",
    "    import numpy as np\n",
    "    v_ij = v_ij2 - v_ij1\n",
    "    f_list = []\n",
    "    if v_ij.ndim > 1:\n",
    "        w_list = progress_rate2(v_ij1, v_ij2, x, k)\n",
    "        component = np.vsplit(np.transpose(v_ij),1)[0].tolist()\n",
    "        for n in range(0, len(component)):\n",
    "            f = 0\n",
    "            for i in range(0, len(w_list)):\n",
    "                f += component[n][i] * w_list[i]\n",
    "            f_list.append(f)\n",
    "    \n",
    "    if v_ij.ndim == 1:\n",
    "        w_list = progress_rate1(v_ij1, x, k)\n",
    "        component = v_ij.tolist()\n",
    "        for i in range(0, len(w_list)):\n",
    "            f_list.append(v_ij[i] * w_list[i])\n",
    "    return f_list"
   ]
  },
  {
   "cell_type": "code",
   "execution_count": 8,
   "metadata": {},
   "outputs": [
    {
     "data": {
      "text/plain": [
       "[-30.0, -60.0, 20.0]"
      ]
     },
     "execution_count": 8,
     "metadata": {},
     "output_type": "execute_result"
    }
   ],
   "source": [
    "v_ij1 = np.array([[1.0, 2.0, 0.0], \n",
    "                 [0.0, 0.0, 2.0]])\n",
    "v_ij2 = np.array([[0.0, 0.0, 1.0], \n",
    "                 [1.0, 2.0, 0.0]])\n",
    "\n",
    "reaction_rate(v_ij1, v_ij2, [1.0,2.0,1.0], [10, 10])"
   ]
  },
  {
   "cell_type": "markdown",
   "metadata": {},
   "source": [
    "### Problem 6"
   ]
  },
  {
   "cell_type": "code",
   "execution_count": 9,
   "metadata": {},
   "outputs": [
    {
     "name": "stdout",
     "output_type": "stream",
     "text": [
      "Overwriting chemkin.py\n"
     ]
    }
   ],
   "source": [
    "%%file chemkin.py\n",
    "def progress_rate1(v_i, x, k):\n",
    "    \"\"\"Returns the progress rate for a reaction (v_A)A+(v_B)B --> (v_C)C\n",
    "    \n",
    "    INPUTS\n",
    "    ====== \n",
    "    v_i: a list of floats representing Stoichiometric coefficients of reactants\n",
    "        ordered according to the reaction form, left to right\n",
    "    x: a list of floats representing the concentration of each reactant and product\n",
    "        ordered according to the reaction form, left to right\n",
    "    k: float, reaction rate coefficient\n",
    "        \n",
    "    RETURNS\n",
    "    =======\n",
    "    progress rate for the reaction: a float\n",
    "    \n",
    "    EXAMPLES\n",
    "    ========\n",
    "    >>>progress_rate1([2.0, 1.0, 0.0], [1.0, 2.0, 3.0], 10)\n",
    "    20.0\n",
    "    \"\"\"\n",
    "    r=1\n",
    "    for v, xi in zip(v_i, x):\n",
    "        r *= xi**v\n",
    "    w = k*r\n",
    "    return w\n",
    "\n",
    "def progress_rate2(v_ij1, v_ij2, x, k):\n",
    "    \"\"\"Returns the progress rate for a system of reactions of the following form:\n",
    "        (v_11')A + (v_21')B --> (v_31'')C\n",
    "        (v_12')A + (v_32')C --> (v_22'')B + (v_32'')C\n",
    "\n",
    "    INPUTS\n",
    "    =======\n",
    "    v_ij1: a numpy array of floats, representing the stoichiometric coefficient of reactnat i in reaction j\n",
    "    v_ij2: a numpy array of floats, representing the stoichiometric coefficient of product i in reactio j\n",
    "    x: a list of floats representing the concentration of each reactant and product\n",
    "    k: float, reaction rate coefficient\n",
    "    \n",
    "    RETURNS\n",
    "    =======\n",
    "    progress rate for the system of reactions: a list of floats [w1, w2, ..., wj]\n",
    "        wj is the progress rate for reaction j\n",
    "    \n",
    "    EXAMPLES:\n",
    "    >>> progress_rate2(np.array([[1.0, 2.0, 0.0],[2.0, 0.0, 2.0]]),np.array([[0.0, 0.0, 2.0],\n",
    "                        [0.0, 1.0, 1.0]]), [1.0,2.0,1.0], 10)\n",
    "    [40.0, 10.0]\n",
    "\n",
    "\"\"\"\n",
    "    import numpy as np\n",
    "    w_list = []\n",
    "    each_reaction = np.vsplit(v_ij1,1)[0].tolist()\n",
    "    for n in range(0, len(each_reaction)):\n",
    "        r = 1\n",
    "        for v, xi, ki in zip(each_reaction[n], x, k):\n",
    "            r *= (xi**v)\n",
    "            w = ki * r\n",
    "        w_list.append(w)\n",
    "    return w_list\n",
    "\n",
    "#     import numpy as np\n",
    "#     w_list = []\n",
    "#     if v_ij1.ndim > 1:\n",
    "#         each_reaction = np.vsplit(v_ij1,1)[0].tolist()\n",
    "#         for n in range(0, len(each_reaction)):\n",
    "#             r = 1\n",
    "#             for v, xi in zip(each_reaction[n], x):\n",
    "#                 r *= xi**v\n",
    "#             w = k*r\n",
    "#             w_list.append(w)\n",
    "        \n",
    "#     if v_ij1.ndim == 1:\n",
    "#         w_list.append(progress_rate1(v_ij1, x, k))\n",
    "#     return w_list\n",
    "\n",
    "def reaction_rate(v_ij1, v_ij2, x, k):\n",
    "    \"\"\"Returns the reaction rate for a system of reactions of the following form:\n",
    "        (v_11')A + (v_21')B --> (v_31'')C\n",
    "        (v_32')C --> (v_12'')A + (v_22'')B \n",
    "        \n",
    "    INPUTS\n",
    "    =======\n",
    "    v_ij1: a numpy array of floats, representing the stoichiometric coefficient of reactnat i in reaction j\n",
    "    v_ij2: a numpy array of floats, representing the stoichiometric coefficient of product i in reactio j\n",
    "    x: a list of floats representing the concentration of each reactant and product\n",
    "    k: a list of floats, reaction rate coefficient for each reaction\n",
    "    \n",
    "    RETURNS\n",
    "    =======\n",
    "    reaction rate for the system of reactions: a list of floats [f1, f2, ..., fi]\n",
    "        fj is the reaction rate for specie i\n",
    "    \n",
    "    EXAMPLES:\n",
    "    >>> reaction_rate(np.array([[1.0, 2.0, 0.0], [0.0, 0.0, 2.0]]), np.array([[0.0, 0.0, 1.0], [1.0, 2.0, 0.0]]),\n",
    "                      [1.0,2.0,1.0], 10)\n",
    "    [-30.0, -60.0, 20.0]\n",
    "\n",
    "\"\"\"\n",
    "#     import numpy as np\n",
    "#     v_ij = v_ij2 - v_ij1\n",
    "#     if v_ij.ndim > 1:\n",
    "#         component = np.vsplit(np.transpose(v_ij),1)[0].tolist()\n",
    "#     if v_ij.ndim == 1:\n",
    "#         component = v_ij.tolist()\n",
    "#     f_list = []\n",
    "#     w_list = progress_rate2(v_ij1, v_ij2, x, k)\n",
    "#     for n in range(0, len(component)):\n",
    "#         f = 0\n",
    "#         for i in range(0, len(w_list)):\n",
    "#             f += component[n][i] * w_list[i]\n",
    "#         f_list.append(f)\n",
    "#     return f_list\n",
    "\n",
    "    import numpy as np\n",
    "    v_ij = v_ij2 - v_ij1\n",
    "    f_list = []\n",
    "    if v_ij.ndim > 1:\n",
    "        w_list = progress_rate2(v_ij1, v_ij2, x, k)\n",
    "        component = np.vsplit(np.transpose(v_ij),1)[0].tolist()\n",
    "        for n in range(0, len(component)):\n",
    "            f = 0\n",
    "            for i in range(0, len(w_list)):\n",
    "                f += component[n][i] * w_list[i]\n",
    "            f_list.append(f)\n",
    "    \n",
    "    if v_ij.ndim == 1:\n",
    "        w_list = progress_rate1(v_ij1, x, k)\n",
    "        component = v_ij.tolist()\n",
    "        for i in range(0, len(w_list)):\n",
    "            f_list.append(v_ij[i] * w_list[i])\n",
    "    return f_list"
   ]
  },
  {
   "cell_type": "code",
   "execution_count": 10,
   "metadata": {},
   "outputs": [],
   "source": [
    "import reaction_coeffs\n",
    "import chemkin\n",
    "\n",
    "T = [750, 1500, 2500]\n",
    "k_reaction1 = [reaction_coeffs.k_modarr(10**8, 0.5, 5*(10**4), t) for t in T]\n",
    "k_reaction2 = [reaction_coeffs.k_const(10**4) for t in T]\n",
    "k_reaction3 = [reaction_coeffs.k_arr(10**7, 10**4, t) for t in T]\n",
    "\n",
    "k_750 = [k_reaction1[0], k_reaction2[0], k_reaction3[0]]\n",
    "k_1500 = [k_reaction1[1], k_reaction2[1], k_reaction3[1]]\n",
    "k_2500 = [k_reaction1[2], k_reaction2[2], k_reaction3[2]]\n",
    "\n",
    "\n",
    "# reaction 1: 2(H2) + O2 -> 2(OH) + H2\n",
    "# reaction 2: OH + HO2 -> H2O + O2\n",
    "# reaction 3: H2O + O2 -> HO2 + OH\n",
    "v_p = np.array([[2.0, 1.0, 0.0, 0.0, 0.0], \n",
    "                [0.0, 0.0, 1.0, 1.0, 0.0],\n",
    "                [0.0, 1.0, 0.0, 0.0, 1.0]])\n",
    "\n",
    "v_pp = np.array([[1.0, 0.0, 2.0, 0.0, 0.0], \n",
    "                 [0.0, 1.0, 0.0, 0.0, 1.0],\n",
    "                 [0.0, 0.0, 1.0, 1.0, 0.0]])\n",
    "\n",
    "x = [2.0, 1.0, 0.5, 1.0, 1.0] # H2 O2 OH HO2 H2O"
   ]
  },
  {
   "cell_type": "code",
   "execution_count": 14,
   "metadata": {},
   "outputs": [
    {
     "name": "stdout",
     "output_type": "stream",
     "text": [
      "The reaction rates of the five species H2, O2, OH, HO2 and H2O at T=750K is:\n",
      "[-8045869.2432669112, -9051602.898675276, 17097472.141942188, 1005733.6554083639, -1005733.6554083639]\n",
      "The reaction rates of the five species H2, O2, OH, HO2 and H2O at T=1500K is:\n",
      "[-17939753.892700881, -20182223.129288491, 38121977.021989368, 2242469.2365876101, -2242469.2365876101]\n",
      "The reaction rates of the five species H2, O2, OH, HO2 and H2O at T=2500K is:\n",
      "[-24723723.902628928, -27814189.390457544, 52537913.293086477, 3090465.4878286161, -3090465.4878286161]\n"
     ]
    }
   ],
   "source": [
    "reaction_rate_750 = [chemkin.reaction_rate(v_p, v_pp, x, k_750)]\n",
    "reaction_rate_1500 = [chemkin.reaction_rate(v_p, v_pp, x, k_1500)]\n",
    "reaction_rate_2500 = [chemkin.reaction_rate(v_p, v_pp, x, k_2500)]\n",
    "\n",
    "print(\"The reaction rates of the five species H2, O2, OH, HO2 and H2O at T=750K is:\")\n",
    "for i in range(0, len(reaction_rate_750)):\n",
    "    print(reaction_rate_750[i])\n",
    "    \n",
    "print(\"The reaction rates of the five species H2, O2, OH, HO2 and H2O at T=1500K is:\")\n",
    "for i in range(0, len(reaction_rate_1500)):\n",
    "    print(reaction_rate_1500[i])\n",
    "          \n",
    "print(\"The reaction rates of the five species H2, O2, OH, HO2 and H2O at T=2500K is:\")\n",
    "for i in range(0, len(reaction_rate_2500)):\n",
    "    print(reaction_rate_2500[i])"
   ]
  },
  {
   "cell_type": "code",
   "execution_count": 16,
   "metadata": {},
   "outputs": [
    {
     "name": "stdout",
     "output_type": "stream",
     "text": [
      "Overwriting test_chemkin.py\n"
     ]
    }
   ],
   "source": [
    "%%file test_chemkin.py\n",
    "import chemkin\n",
    "\n",
    "def test_list_type():\n",
    "    try:\n",
    "        chemkin.progress_rate1([2.0, 1.0, 0.0], [\"\", \"green\", \"hi\"], 10)\n",
    "    except TypeError as err:\n",
    "        assert(type(err) == TypeError)"
   ]
  },
  {
   "cell_type": "markdown",
   "metadata": {},
   "source": [
    "# IGNORE BELOW"
   ]
  },
  {
   "cell_type": "code",
   "execution_count": null,
   "metadata": {
    "collapsed": true
   },
   "outputs": [],
   "source": [
    "# test\n",
    "def k_arr(A, E, T, R=8.314):\n",
    "    import numpy as np\n",
    "    if A <= 0:\n",
    "        raise ValueError(\"The Arrhenius prefactor must be strictly positive.\")\n",
    "    if T <= 0:\n",
    "        raise ValueError(\"Temperature must be strictly positive.\")\n",
    "    k2 = A * np.exp(-E / (R*T))\n",
    "    return k2"
   ]
  },
  {
   "cell_type": "code",
   "execution_count": null,
   "metadata": {},
   "outputs": [],
   "source": [
    "k2 = k_arr(10**7, 10**3, 10**2)\n",
    "print(k2)"
   ]
  },
  {
   "cell_type": "code",
   "execution_count": null,
   "metadata": {
    "collapsed": true
   },
   "outputs": [],
   "source": [
    "def k_modarr(A, b, E, T, R=8.314):\n",
    "    import numpy as np\n",
    "    if A <= 0:\n",
    "        raise ValueError(\"The Arrhenius prefactor must be strictly positive.\")\n",
    "    if T <= 0:\n",
    "        raise ValueError(\"Temperature must be strictly positive.\")\n",
    "    if np.iscomplex(b):\n",
    "        raise ValueError(\"The parameter b must be real.\")\n",
    "    k3 = A * (T**b) * np.exp(-E / (R*T))\n",
    "    return k3"
   ]
  },
  {
   "cell_type": "code",
   "execution_count": null,
   "metadata": {},
   "outputs": [],
   "source": [
    "k_modarr(10**7, 0.5, 10**3, 10**2)"
   ]
  },
  {
   "cell_type": "code",
   "execution_count": null,
   "metadata": {},
   "outputs": [],
   "source": [
    "import sys\n",
    "print(sys.float_info.max)\n",
    "print(sys.float_info.min)"
   ]
  },
  {
   "cell_type": "code",
   "execution_count": null,
   "metadata": {
    "collapsed": true
   },
   "outputs": [],
   "source": []
  }
 ],
 "metadata": {
  "kernelspec": {
   "display_name": "Python 3",
   "language": "python",
   "name": "python3"
  },
  "language_info": {
   "codemirror_mode": {
    "name": "ipython",
    "version": 3
   },
   "file_extension": ".py",
   "mimetype": "text/x-python",
   "name": "python",
   "nbconvert_exporter": "python",
   "pygments_lexer": "ipython3",
   "version": "3.6.1"
  }
 },
 "nbformat": 4,
 "nbformat_minor": 2
}
