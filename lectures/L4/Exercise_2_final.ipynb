{
 "cells": [
  {
   "cell_type": "code",
   "execution_count": 1,
   "metadata": {
    "collapsed": true
   },
   "outputs": [],
   "source": [
    "f = open(\"names.txt\", \"r\")\n",
    "names = f.read()\n",
    "f.close()\n",
    "f = open(\"species.txt\", \"r\")\n",
    "species = f.read()\n",
    "f.close()"
   ]
  },
  {
   "cell_type": "code",
   "execution_count": 2,
   "metadata": {},
   "outputs": [
    {
     "name": "stdout",
     "output_type": "stream",
     "text": [
      "['Hydrogen', 'Oxygen', 'Hydroxyl', 'Water', 'Hydrogen Peroxide']\n",
      "['H2', 'O2', 'OH', 'H2O', 'H2O2']\n"
     ]
    }
   ],
   "source": [
    "names_list = names.split('\\n')[:-1]\n",
    "species_list = species.split('\\n')[:-1]\n",
    "print(names_list)\n",
    "print(species_list)"
   ]
  },
  {
   "cell_type": "code",
   "execution_count": 3,
   "metadata": {
    "collapsed": true
   },
   "outputs": [],
   "source": [
    "my_new_dict = {}\n",
    "for names, species in zip(names_list, species_list):\n",
    "    my_new_dict[species] = names"
   ]
  },
  {
   "cell_type": "code",
   "execution_count": 4,
   "metadata": {},
   "outputs": [
    {
     "data": {
      "text/plain": [
       "{'H2': 'Hydrogen',\n",
       " 'H2O': 'Water',\n",
       " 'H2O2': 'Hydrogen Peroxide',\n",
       " 'O2': 'Oxygen',\n",
       " 'OH': 'Hydroxyl'}"
      ]
     },
     "execution_count": 4,
     "metadata": {},
     "output_type": "execute_result"
    }
   ],
   "source": [
    "my_new_dict"
   ]
  }
 ],
 "metadata": {
  "kernelspec": {
   "display_name": "Python 3",
   "language": "python",
   "name": "python3"
  },
  "language_info": {
   "codemirror_mode": {
    "name": "ipython",
    "version": 3
   },
   "file_extension": ".py",
   "mimetype": "text/x-python",
   "name": "python",
   "nbconvert_exporter": "python",
   "pygments_lexer": "ipython3",
   "version": "3.6.1"
  }
 },
 "nbformat": 4,
 "nbformat_minor": 2
}
