{
 "cells": [
  {
   "cell_type": "code",
   "execution_count": 1,
   "metadata": {},
   "outputs": [
    {
     "name": "stdout",
     "output_type": "stream",
     "text": [
      "The correct answer is: HI!\n"
     ]
    }
   ],
   "source": [
    "def write_message(s):\n",
    "    def key(k):\n",
    "        c = s+k\n",
    "        return c\n",
    "    return key\n",
    "f = write_message('The correct answer is: ')\n",
    "answer = f('HI!')\n",
    "print(answer)"
   ]
  },
  {
   "cell_type": "code",
   "execution_count": 2,
   "metadata": {},
   "outputs": [
    {
     "name": "stdout",
     "output_type": "stream",
     "text": [
      "hello The correct answer is : 42.0\n"
     ]
    }
   ],
   "source": [
    "answer = 42.0\n",
    "message = \"hello\"\n",
    "\n",
    "def my_message(mes):\n",
    "    def print_answer(ans):\n",
    "        print(mes, \"The correct answer is : {}\". format(ans))\n",
    "    return print_answer\n",
    "correct_answer_is = my_message(message)\n",
    "correct_answer_is(answer)"
   ]
  },
  {
   "cell_type": "code",
   "execution_count": null,
   "metadata": {
    "collapsed": true
   },
   "outputs": [],
   "source": []
  }
 ],
 "metadata": {
  "kernelspec": {
   "display_name": "Python 3",
   "language": "python",
   "name": "python3"
  },
  "language_info": {
   "codemirror_mode": {
    "name": "ipython",
    "version": 3
   },
   "file_extension": ".py",
   "mimetype": "text/x-python",
   "name": "python",
   "nbconvert_exporter": "python",
   "pygments_lexer": "ipython3",
   "version": "3.6.1"
  }
 },
 "nbformat": 4,
 "nbformat_minor": 2
}
