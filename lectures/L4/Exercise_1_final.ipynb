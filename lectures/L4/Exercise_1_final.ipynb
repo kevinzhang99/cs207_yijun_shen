{
 "cells": [
  {
   "cell_type": "code",
   "execution_count": 1,
   "metadata": {
    "collapsed": true
   },
   "outputs": [],
   "source": [
    "import collections\n",
    "import numpy as np"
   ]
  },
  {
   "cell_type": "code",
   "execution_count": 2,
   "metadata": {},
   "outputs": [
    {
     "data": {
      "text/plain": [
       "'4\\n2\\n3\\n4\\n3\\n3\\n4\\n3\\n3\\n5\\n1\\n4\\n5\\n1\\n4\\n3\\n5\\n1\\n4\\n3\\n5\\n2\\n4\\n5\\n1\\n4\\n5\\n3\\n4\\n4\\n3\\n4\\n4\\n2\\n3\\n4\\n3\\n3\\n4\\n4\\n3\\n4\\n3\\n4\\n3\\n'"
      ]
     },
     "execution_count": 2,
     "metadata": {},
     "output_type": "execute_result"
    }
   ],
   "source": [
    "f = open(\"prog_data.txt\", \"r\")\n",
    "progdata = f.read()\n",
    "f.close()\n",
    "progdata"
   ]
  },
  {
   "cell_type": "code",
   "execution_count": 3,
   "metadata": {},
   "outputs": [
    {
     "data": {
      "text/plain": [
       "[4,\n",
       " 2,\n",
       " 3,\n",
       " 4,\n",
       " 3,\n",
       " 3,\n",
       " 4,\n",
       " 3,\n",
       " 3,\n",
       " 5,\n",
       " 1,\n",
       " 4,\n",
       " 5,\n",
       " 1,\n",
       " 4,\n",
       " 3,\n",
       " 5,\n",
       " 1,\n",
       " 4,\n",
       " 3,\n",
       " 5,\n",
       " 2,\n",
       " 4,\n",
       " 5,\n",
       " 1,\n",
       " 4,\n",
       " 5,\n",
       " 3,\n",
       " 4,\n",
       " 4,\n",
       " 3,\n",
       " 4,\n",
       " 4,\n",
       " 2,\n",
       " 3,\n",
       " 4,\n",
       " 3,\n",
       " 3,\n",
       " 4,\n",
       " 4,\n",
       " 3,\n",
       " 4,\n",
       " 3,\n",
       " 4,\n",
       " 3]"
      ]
     },
     "execution_count": 3,
     "metadata": {},
     "output_type": "execute_result"
    }
   ],
   "source": [
    "progdata1 = progdata.rstrip('\\n')\n",
    "progdata1\n",
    "datalist = list(map(int, progdata1.split('\\n')))\n",
    "datalist"
   ]
  },
  {
   "cell_type": "code",
   "execution_count": 4,
   "metadata": {},
   "outputs": [
    {
     "name": "stdout",
     "output_type": "stream",
     "text": [
      "[4.0, 2.0, 3.0, 4.0, 3.0, 3.0, 4.0, 3.0, 3.0, 5.0, 1.0, 4.0, 5.0, 1.0, 4.0, 3.0, 5.0, 1.0, 4.0, 3.0, 5.0, 2.0, 4.0, 5.0, 1.0, 4.0, 5.0, 3.0, 4.0, 4.0, 3.0, 4.0, 4.0, 2.0, 3.0, 4.0, 3.0, 3.0, 4.0, 4.0, 3.0, 4.0, 3.0, 4.0, 3.0]\n"
     ]
    }
   ],
   "source": [
    "floatlist = list(enumerate(datalist))\n",
    "for i, v in floatlist:\n",
    "    floatlist[i] = float(v)\n",
    "print(floatlist)"
   ]
  },
  {
   "cell_type": "code",
   "execution_count": 5,
   "metadata": {},
   "outputs": [
    {
     "name": "stdout",
     "output_type": "stream",
     "text": [
      "Counter({4.0: 17, 3.0: 15, 5.0: 6, 1.0: 4, 2.0: 3})\n"
     ]
    }
   ],
   "source": [
    "data_counter = collections.Counter(floatlist)\n",
    "print(data_counter)"
   ]
  },
  {
   "cell_type": "code",
   "execution_count": 6,
   "metadata": {},
   "outputs": [
    {
     "name": "stdout",
     "output_type": "stream",
     "text": [
      "45\n"
     ]
    }
   ],
   "source": [
    "print(len(floatlist))"
   ]
  },
  {
   "cell_type": "code",
   "execution_count": 7,
   "metadata": {},
   "outputs": [
    {
     "name": "stdout",
     "output_type": "stream",
     "text": [
      "5.0\n"
     ]
    }
   ],
   "source": [
    "print(max(floatlist))"
   ]
  },
  {
   "cell_type": "code",
   "execution_count": 8,
   "metadata": {},
   "outputs": [
    {
     "name": "stdout",
     "output_type": "stream",
     "text": [
      "1.0\n"
     ]
    }
   ],
   "source": [
    "print(min(floatlist))"
   ]
  },
  {
   "cell_type": "code",
   "execution_count": 9,
   "metadata": {},
   "outputs": [
    {
     "name": "stdout",
     "output_type": "stream",
     "text": [
      "4.0\n"
     ]
    }
   ],
   "source": [
    "print(np.median(floatlist))"
   ]
  },
  {
   "cell_type": "code",
   "execution_count": 10,
   "metadata": {},
   "outputs": [
    {
     "name": "stdout",
     "output_type": "stream",
     "text": [
      "3.4\n"
     ]
    }
   ],
   "source": [
    "print(np.mean(floatlist))"
   ]
  },
  {
   "cell_type": "code",
   "execution_count": 11,
   "metadata": {},
   "outputs": [
    {
     "name": "stdout",
     "output_type": "stream",
     "text": [
      "(4.0, 17)\n"
     ]
    }
   ],
   "source": [
    "print(data_counter.most_common()[0])"
   ]
  },
  {
   "cell_type": "code",
   "execution_count": 12,
   "metadata": {},
   "outputs": [
    {
     "name": "stdout",
     "output_type": "stream",
     "text": [
      "The total number of respondants is 45\n",
      "The maximum programming confidence is 5.0\n",
      "The minimum programming confidence is 1.0\n",
      "The mediam programming level is 4.0\n",
      "The mean programming level is 3.4\n",
      "The most common programming level is 4.0 with 17 respondants.\n"
     ]
    }
   ],
   "source": [
    "print(\"The total number of respondants is\", len(floatlist))\n",
    "print(\"The maximum programming confidence is\", max(floatlist))\n",
    "print(\"The minimum programming confidence is\", min(floatlist))\n",
    "print(\"The mediam programming level is\", np.median(floatlist))\n",
    "print(\"The mean programming level is\", np.mean(floatlist))\n",
    "print(\"The most common programming level is\", data_counter.most_common()[0][0], \"with\", data_counter.most_common()[0][1], \"respondants.\")"
   ]
  }
 ],
 "metadata": {
  "kernelspec": {
   "display_name": "Python 3",
   "language": "python",
   "name": "python3"
  },
  "language_info": {
   "codemirror_mode": {
    "name": "ipython",
    "version": 3
   },
   "file_extension": ".py",
   "mimetype": "text/x-python",
   "name": "python",
   "nbconvert_exporter": "python",
   "pygments_lexer": "ipython3",
   "version": "3.6.1"
  }
 },
 "nbformat": 4,
 "nbformat_minor": 2
}
