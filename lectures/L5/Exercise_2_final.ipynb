{
 "cells": [
  {
   "cell_type": "code",
   "execution_count": 1,
   "metadata": {
    "collapsed": true
   },
   "outputs": [],
   "source": [
    "import cmath\n",
    "import math"
   ]
  },
  {
   "cell_type": "code",
   "execution_count": 2,
   "metadata": {},
   "outputs": [],
   "source": [
    "def quadratic_eq (a, b, c): # ax^2+bx+c=0  \n",
    "    d = b**2 - 4*a*c\n",
    "    if a == 0:\n",
    "        if b != 0:\n",
    "            print(\"This is a linear function.\")\n",
    "            return -c/b\n",
    "        else:\n",
    "            if c == 0:\n",
    "                print(\"0=0 is always true.\")\n",
    "            else:\n",
    "                print(\"The equation is not valid.\")\n",
    "    elif d < 0:\n",
    "        x1 = ((-b) + cmath.sqrt(d)) / (2*a)\n",
    "        x2 = ((-b) - cmath.sqrt(d)) / (2*a)   \n",
    "        print(\"The roots for the equation are complex numbers:\", x1, \"and\", x2)\n",
    "    else:\n",
    "        x1 = ((-b) + math.sqrt(d)) / (2*a)\n",
    "        x2 = ((-b) - math.sqrt(d)) / (2*a)\n",
    "        print(\"The roots for the equation are real numbers\", x1, \"and\", x2)"
   ]
  },
  {
   "cell_type": "code",
   "execution_count": 3,
   "metadata": {},
   "outputs": [
    {
     "name": "stdout",
     "output_type": "stream",
     "text": [
      "This is a linear function.\n"
     ]
    },
    {
     "data": {
      "text/plain": [
       "-0.5"
      ]
     },
     "execution_count": 3,
     "metadata": {},
     "output_type": "execute_result"
    }
   ],
   "source": [
    "quadratic_eq(0,2,1)"
   ]
  },
  {
   "cell_type": "code",
   "execution_count": null,
   "metadata": {
    "collapsed": true
   },
   "outputs": [],
   "source": []
  }
 ],
 "metadata": {
  "kernelspec": {
   "display_name": "Python 3",
   "language": "python",
   "name": "python3"
  },
  "language_info": {
   "codemirror_mode": {
    "name": "ipython",
    "version": 3
   },
   "file_extension": ".py",
   "mimetype": "text/x-python",
   "name": "python",
   "nbconvert_exporter": "python",
   "pygments_lexer": "ipython3",
   "version": "3.6.1"
  }
 },
 "nbformat": 4,
 "nbformat_minor": 2
}
