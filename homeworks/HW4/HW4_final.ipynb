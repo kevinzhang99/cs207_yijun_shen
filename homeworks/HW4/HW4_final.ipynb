{
 "cells": [
  {
   "cell_type": "markdown",
   "metadata": {},
   "source": [
    "# Homework 4\n",
    "### Due Date:  Tuesday, September 26th at 11:59 PM"
   ]
  },
  {
   "cell_type": "code",
   "execution_count": 1,
   "metadata": {
    "collapsed": true
   },
   "outputs": [],
   "source": [
    "import numpy as np\n",
    "from IPython.display import HTML\n",
    "import time"
   ]
  },
  {
   "cell_type": "markdown",
   "metadata": {},
   "source": [
    "## Problem 1"
   ]
  },
  {
   "cell_type": "code",
   "execution_count": 2,
   "metadata": {},
   "outputs": [],
   "source": [
    "f = open(\"circles.txt\", \"r\")\n",
    "circles = f.read()\n",
    "f.close()\n",
    "circles = circles.rstrip('\\n')\n",
    "circles_list = list(map(float, circles.split('\\n')))\n",
    "# print(circles_list)"
   ]
  },
  {
   "cell_type": "code",
   "execution_count": 3,
   "metadata": {},
   "outputs": [
    {
     "name": "stdout",
     "output_type": "stream",
     "text": [
      "The mean of the areas in circles.txt is:  3.1958990970819956\n"
     ]
    }
   ],
   "source": [
    "def circle_area(r):\n",
    "    return r**2*np.pi\n",
    "def myave(lst, fct):\n",
    "    areas = [fct(r) for r in lst]   \n",
    "    return sum(areas)/len(areas)\n",
    "mean_of_circles_list = myave(circles_list, circle_area)\n",
    "print(\"The mean of the areas in circles.txt is: \", mean_of_circles_list)"
   ]
  },
  {
   "cell_type": "markdown",
   "metadata": {},
   "source": [
    "## Problem 2\n",
    "### Part 1"
   ]
  },
  {
   "cell_type": "code",
   "execution_count": 4,
   "metadata": {},
   "outputs": [
    {
     "data": {
      "text/plain": [
       "90"
      ]
     },
     "execution_count": 4,
     "metadata": {},
     "output_type": "execute_result"
    }
   ],
   "source": [
    "def make_withdraw(balance):\n",
    "    def inner(amount):\n",
    "        return (balance - amount)\n",
    "    return inner\n",
    "\n",
    "# Notice the following does not behave correctly: We want two continuous withdraw which should return:\n",
    "# (init_balance - withdraw_amount - new_withdraw_amount)\n",
    "# But if fact, it just return (init_balance - new_withdraw_amount).\n",
    "\n",
    "wd = make_withdraw(100) # wd = make_withdraw(init_balance)\n",
    "wd(26) # wd(withdraw_amount)\n",
    "wd(10) # wd(new_withdraw_amount)"
   ]
  },
  {
   "cell_type": "markdown",
   "metadata": {},
   "source": [
    "#### (Part 1 cont.) Why the above does not behave correctly?\n",
    "\n",
    "Because the second time we call wd(new_withdraw_amount), it does the calculation again and the new result covers the previous result."
   ]
  },
  {
   "cell_type": "markdown",
   "metadata": {},
   "source": [
    "### Part 2"
   ]
  },
  {
   "cell_type": "code",
   "execution_count": 5,
   "metadata": {},
   "outputs": [
    {
     "ename": "UnboundLocalError",
     "evalue": "local variable 'balance' referenced before assignment",
     "output_type": "error",
     "traceback": [
      "\u001b[0;31m---------------------------------------------------------------------------\u001b[0m",
      "\u001b[0;31mUnboundLocalError\u001b[0m                         Traceback (most recent call last)",
      "\u001b[0;32m<ipython-input-5-b23d870500d0>\u001b[0m in \u001b[0;36m<module>\u001b[0;34m()\u001b[0m\n\u001b[1;32m      7\u001b[0m \u001b[0;31m# Still doesn't work!\u001b[0m\u001b[0;34m\u001b[0m\u001b[0;34m\u001b[0m\u001b[0m\n\u001b[1;32m      8\u001b[0m \u001b[0mwd\u001b[0m \u001b[0;34m=\u001b[0m \u001b[0mmake_withdraw\u001b[0m\u001b[0;34m(\u001b[0m\u001b[0;36m100\u001b[0m\u001b[0;34m)\u001b[0m \u001b[0;31m# wd = make_withdraw(init_balance)\u001b[0m\u001b[0;34m\u001b[0m\u001b[0m\n\u001b[0;32m----> 9\u001b[0;31m \u001b[0mwd\u001b[0m\u001b[0;34m(\u001b[0m\u001b[0;36m26\u001b[0m\u001b[0;34m)\u001b[0m \u001b[0;31m# wd(withdraw_amount)\u001b[0m\u001b[0;34m\u001b[0m\u001b[0m\n\u001b[0m\u001b[1;32m     10\u001b[0m \u001b[0mwd\u001b[0m\u001b[0;34m(\u001b[0m\u001b[0;36m10\u001b[0m\u001b[0;34m)\u001b[0m \u001b[0;31m# wd(new_withdraw_amount)\u001b[0m\u001b[0;34m\u001b[0m\u001b[0m\n",
      "\u001b[0;32m<ipython-input-5-b23d870500d0>\u001b[0m in \u001b[0;36minner\u001b[0;34m(amount)\u001b[0m\n\u001b[1;32m      1\u001b[0m \u001b[0;32mdef\u001b[0m \u001b[0mmake_withdraw\u001b[0m\u001b[0;34m(\u001b[0m\u001b[0mbalance\u001b[0m\u001b[0;34m)\u001b[0m\u001b[0;34m:\u001b[0m\u001b[0;34m\u001b[0m\u001b[0m\n\u001b[1;32m      2\u001b[0m     \u001b[0;32mdef\u001b[0m \u001b[0minner\u001b[0m\u001b[0;34m(\u001b[0m\u001b[0mamount\u001b[0m\u001b[0;34m)\u001b[0m\u001b[0;34m:\u001b[0m\u001b[0;34m\u001b[0m\u001b[0m\n\u001b[0;32m----> 3\u001b[0;31m         \u001b[0mbalance\u001b[0m \u001b[0;34m=\u001b[0m \u001b[0mbalance\u001b[0m \u001b[0;34m-\u001b[0m \u001b[0mamount\u001b[0m\u001b[0;34m\u001b[0m\u001b[0m\n\u001b[0m\u001b[1;32m      4\u001b[0m         \u001b[0;32mreturn\u001b[0m \u001b[0mbalance\u001b[0m\u001b[0;34m\u001b[0m\u001b[0m\n\u001b[1;32m      5\u001b[0m     \u001b[0;32mreturn\u001b[0m \u001b[0minner\u001b[0m\u001b[0;34m\u001b[0m\u001b[0m\n",
      "\u001b[0;31mUnboundLocalError\u001b[0m: local variable 'balance' referenced before assignment"
     ]
    }
   ],
   "source": [
    "def make_withdraw(balance):\n",
    "    def inner(amount):\n",
    "        balance = balance - amount\n",
    "        return balance\n",
    "    return inner\n",
    "\n",
    "# Still doesn't work!\n",
    "wd = make_withdraw(100) # wd = make_withdraw(init_balance)\n",
    "wd(26) # wd(withdraw_amount)\n",
    "wd(10) # wd(new_withdraw_amount)"
   ]
  },
  {
   "cell_type": "markdown",
   "metadata": {},
   "source": [
    "#### (Part 2 cont.) Why this still doesn't work?\n",
    "\n",
    "Because the inner function captures the information from the outer function. The input balance is already captured by the inner function and thus we lose direct access to its manipulation. (Encapsulation)"
   ]
  },
  {
   "cell_type": "markdown",
   "metadata": {},
   "source": [
    "### Part 3"
   ]
  },
  {
   "cell_type": "code",
   "execution_count": 6,
   "metadata": {},
   "outputs": [
    {
     "data": {
      "text/plain": [
       "64"
      ]
     },
     "execution_count": 6,
     "metadata": {},
     "output_type": "execute_result"
    }
   ],
   "source": [
    "def make_withdraw(balance):\n",
    "    def inner(amount):\n",
    "        nonlocal balance\n",
    "        balance = balance - amount\n",
    "        return balance\n",
    "    return inner\n",
    "\n",
    "# Not this works! 100-26-10=64\n",
    "wd = make_withdraw(100) # wd = make_withdraw(init_balance)\n",
    "wd(26) # wd(withdraw_amount)\n",
    "wd(10) # wd(new_withdraw_amount)"
   ]
  },
  {
   "cell_type": "markdown",
   "metadata": {},
   "source": [
    "### Part 4"
   ]
  },
  {
   "cell_type": "code",
   "execution_count": 7,
   "metadata": {},
   "outputs": [
    {
     "data": {
      "text/html": [
       "<iframe width=\"800\" height=\"500\" frameborder=\"0\" src=\"http://pythontutor.com/iframe-embed.html#code=def%20make_withdraw%28balance%29%3A%0A%20%20%20%20def%20inner%28amount%29%3A%0A%20%20%20%20%20%20%20%20nonlocal%20balance%0A%20%20%20%20%20%20%20%20balance%20%3D%20balance%20-%20amount%0A%20%20%20%20%20%20%20%20return%20balance%0A%20%20%20%20return%20inner%0A%0Awd%20%3D%20make_withdraw%28100%29%0Awd%2826%29%0Awd%2810%29&codeDivHeight=400&codeDivWidth=350&cumulative=false&curInstr=0&heapPrimitives=false&origin=opt-frontend.js&py=3&rawInputLstJSON=%5B%5D&textReferences=false\"> </iframe>"
      ],
      "text/plain": [
       "<IPython.core.display.HTML object>"
      ]
     },
     "execution_count": 7,
     "metadata": {},
     "output_type": "execute_result"
    }
   ],
   "source": [
    "HTML('<iframe width=\"800\" height=\"500\" frameborder=\"0\" src=\"http://pythontutor.com/iframe-embed.html#code=def%20make_withdraw%28balance%29%3A%0A%20%20%20%20def%20inner%28amount%29%3A%0A%20%20%20%20%20%20%20%20nonlocal%20balance%0A%20%20%20%20%20%20%20%20balance%20%3D%20balance%20-%20amount%0A%20%20%20%20%20%20%20%20return%20balance%0A%20%20%20%20return%20inner%0A%0Awd%20%3D%20make_withdraw%28100%29%0Awd%2826%29%0Awd%2810%29&codeDivHeight=400&codeDivWidth=350&cumulative=false&curInstr=0&heapPrimitives=false&origin=opt-frontend.js&py=3&rawInputLstJSON=%5B%5D&textReferences=false\"> </iframe>')"
   ]
  },
  {
   "cell_type": "markdown",
   "metadata": {},
   "source": [
    "## Problem 3"
   ]
  },
  {
   "cell_type": "code",
   "execution_count": 8,
   "metadata": {},
   "outputs": [],
   "source": [
    "areas_list = [circle_area(r) for r in circles_list]\n",
    "areas_np = np.array(areas_list)\n",
    "\n",
    "# print(areas_list)\n",
    "# print(areas_np)\n",
    "\n",
    "def timer(f):\n",
    "    def inner(*args):\n",
    "        t0 = time.time()\n",
    "        output = f(*args)\n",
    "        elapsed = time.time() - t0\n",
    "        print(\"Time Elapsed\", elapsed)\n",
    "        return output\n",
    "    return inner\n",
    "\n",
    "@timer\n",
    "def my_ave(lst): \n",
    "    return sum(lst)/len(lst)\n",
    "\n",
    "@timer\n",
    "def np_ave(arr):\n",
    "    return np.mean(arr)"
   ]
  },
  {
   "cell_type": "code",
   "execution_count": 9,
   "metadata": {},
   "outputs": [
    {
     "name": "stdout",
     "output_type": "stream",
     "text": [
      "Time Elapsed 1.811981201171875e-05\n"
     ]
    },
    {
     "data": {
      "text/plain": [
       "3.1958990970819956"
      ]
     },
     "execution_count": 9,
     "metadata": {},
     "output_type": "execute_result"
    }
   ],
   "source": [
    "my_ave(areas_list)"
   ]
  },
  {
   "cell_type": "code",
   "execution_count": 10,
   "metadata": {},
   "outputs": [
    {
     "name": "stdout",
     "output_type": "stream",
     "text": [
      "Time Elapsed 0.00023698806762695312\n"
     ]
    },
    {
     "data": {
      "text/plain": [
       "3.1958990970819938"
      ]
     },
     "execution_count": 10,
     "metadata": {},
     "output_type": "execute_result"
    }
   ],
   "source": [
    "np_ave(areas_np)"
   ]
  },
  {
   "cell_type": "markdown",
   "metadata": {},
   "source": [
    "## Problem 4"
   ]
  },
  {
   "cell_type": "code",
   "execution_count": 11,
   "metadata": {},
   "outputs": [],
   "source": [
    "def decorate(f):\n",
    "    def wrapper(*args):\n",
    "        output = f(*args)\n",
    "        if output > 0:\n",
    "            print(\"The quantity returned from the function is positive.\")\n",
    "        else:\n",
    "            print(\"The quantity returned from the function is NOT positive.\")\n",
    "    return wrapper\n",
    "\n",
    "\n",
    "@decorate\n",
    "def discriminant(a,b,c):\n",
    "    dis = b**2 - 4*a*c\n",
    "    return dis\n",
    "\n",
    "@decorate\n",
    "def absolute(a,b):\n",
    "    if a >= b:\n",
    "        return (a-b)\n",
    "    else:\n",
    "        return (b-a)\n",
    "\n",
    "@decorate\n",
    "def cube(x):\n",
    "    return x**3\n",
    "    "
   ]
  },
  {
   "cell_type": "code",
   "execution_count": 12,
   "metadata": {},
   "outputs": [
    {
     "name": "stdout",
     "output_type": "stream",
     "text": [
      "The quantity returned from the function is positive.\n"
     ]
    }
   ],
   "source": [
    "discriminant(1,2,0)"
   ]
  },
  {
   "cell_type": "code",
   "execution_count": 13,
   "metadata": {},
   "outputs": [
    {
     "name": "stdout",
     "output_type": "stream",
     "text": [
      "The quantity returned from the function is NOT positive.\n"
     ]
    }
   ],
   "source": [
    "discriminant(1,0,0)"
   ]
  },
  {
   "cell_type": "code",
   "execution_count": 14,
   "metadata": {},
   "outputs": [
    {
     "name": "stdout",
     "output_type": "stream",
     "text": [
      "The quantity returned from the function is positive.\n"
     ]
    }
   ],
   "source": [
    "absolute(1,0)"
   ]
  },
  {
   "cell_type": "code",
   "execution_count": 15,
   "metadata": {},
   "outputs": [
    {
     "name": "stdout",
     "output_type": "stream",
     "text": [
      "The quantity returned from the function is positive.\n"
     ]
    }
   ],
   "source": [
    "absolute(1,2)"
   ]
  },
  {
   "cell_type": "code",
   "execution_count": 16,
   "metadata": {},
   "outputs": [
    {
     "name": "stdout",
     "output_type": "stream",
     "text": [
      "The quantity returned from the function is positive.\n"
     ]
    }
   ],
   "source": [
    "cube(1)"
   ]
  },
  {
   "cell_type": "code",
   "execution_count": 17,
   "metadata": {},
   "outputs": [
    {
     "name": "stdout",
     "output_type": "stream",
     "text": [
      "The quantity returned from the function is NOT positive.\n"
     ]
    }
   ],
   "source": [
    "cube(0)"
   ]
  },
  {
   "cell_type": "markdown",
   "metadata": {},
   "source": [
    "## Problem 5"
   ]
  },
  {
   "cell_type": "code",
   "execution_count": null,
   "metadata": {
    "collapsed": true
   },
   "outputs": [],
   "source": []
  }
 ],
 "metadata": {
  "kernelspec": {
   "display_name": "Python 3",
   "language": "python",
   "name": "python3"
  },
  "language_info": {
   "codemirror_mode": {
    "name": "ipython",
    "version": 3
   },
   "file_extension": ".py",
   "mimetype": "text/x-python",
   "name": "python",
   "nbconvert_exporter": "python",
   "pygments_lexer": "ipython3",
   "version": "3.6.1"
  }
 },
 "nbformat": 4,
 "nbformat_minor": 2
}
