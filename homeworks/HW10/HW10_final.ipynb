{
 "cells": [
  {
   "cell_type": "markdown",
   "metadata": {},
   "source": [
    "# Question 1: Convert XML to a SQL database"
   ]
  },
  {
   "cell_type": "markdown",
   "metadata": {},
   "source": [
    "Create two tables named `LOW` and `HIGH`, each corresponding to data given for the low and high temperature range.\n",
    "Each should have the following column names:\n",
    "\n",
    "- `SPECIES_NAME`\n",
    "- `TLOW`\n",
    "- `THIGH`\n",
    "- `COEFF_1`\n",
    "- `COEFF_2`\n",
    "- `COEFF_3`\n",
    "- `COEFF_4`\n",
    "- `COEFF_5`\n",
    "- `COEFF_6`\n",
    "- `COEFF_7`\n",
    "\n",
    "Populate the tables using the XML file you created in last assignment. If you did not complete the last assignment, you may also use the `example_thermo.xml` file.\n",
    "\n",
    "`TLOW` should refer to the temperature at the low range and `THIGH` should refer to the temperature at the high range.  For example, in the `LOW` table, $H$ would have `TLOW` at $300$ and `THIGH` at $1000$ and in the `HIGH` table, $H$ would have `TLOW` at $1000$ and `THIGH` at $5000$.\n",
    "\n",
    "For both tables, `COEFF_1` through `COEFF_7` should be populated with the corresponding coefficients for the low temperature data and high temperature data."
   ]
  },
  {
   "cell_type": "code",
   "execution_count": 1,
   "metadata": {
    "collapsed": true
   },
   "outputs": [],
   "source": [
    "import xml.etree.ElementTree as ET\n",
    "import sqlite3\n",
    "import pandas as pd\n",
    "import numpy as np\n",
    "pd.set_option('display.width', 500)\n",
    "pd.set_option('display.max_columns', 100)\n",
    "pd.set_option('display.notebook_repr_html', True)"
   ]
  },
  {
   "cell_type": "code",
   "execution_count": 2,
   "metadata": {},
   "outputs": [
    {
     "data": {
      "text/plain": [
       "['O', 'O2', 'H', 'H2', 'OH', 'H2O', 'HO2', 'H2O2']"
      ]
     },
     "execution_count": 2,
     "metadata": {},
     "output_type": "execute_result"
    }
   ],
   "source": [
    "tree = ET.parse('../HW9/thermo.xml')\n",
    "root = tree.getroot()\n",
    "species = root.find(\"phase\")\n",
    "species_array = species.find(\"speciesArray\").text\n",
    "species_name = species_array.split()\n",
    "\n",
    "species_name"
   ]
  },
  {
   "cell_type": "code",
   "execution_count": 3,
   "metadata": {},
   "outputs": [],
   "source": [
    "dic = {}\n",
    "for specie in root.findall(\"speciesData\"):\n",
    "    for s in specie.findall(\"species\"):\n",
    "        name = s.get(\"name\")\n",
    "        dic[name] = {}\n",
    "        coeffs = s.find(\"thermo\").findall(\"NASA\")\n",
    "        T_max = []\n",
    "        T_min = []\n",
    "        coeff = []\n",
    "        for c in coeffs:\n",
    "            T_max.append(c.get(\"TMAX\"))\n",
    "            T_min.append(c.get(\"TMIN\"))   \n",
    "            coeff.append(c.find(\"floatArray\").text.split(','))\n",
    "        dic[name][\"TMAX\"] = T_max\n",
    "        dic[name][\"TMIN\"] = T_min\n",
    "        dic[name][\"coeffs\"] = coeff"
   ]
  },
  {
   "cell_type": "code",
   "execution_count": 4,
   "metadata": {},
   "outputs": [],
   "source": [
    "# dic"
   ]
  },
  {
   "cell_type": "code",
   "execution_count": 5,
   "metadata": {},
   "outputs": [],
   "source": [
    "db = sqlite3.connect('HW10.sqlite')\n",
    "cursor = db.cursor()\n",
    "cursor.execute(\"DROP TABLE IF EXISTS HIGH\")\n",
    "cursor.execute(\"DROP TABLE IF EXISTS LOW\")\n",
    "cursor.execute(\"PRAGMA foreign_keys=1\")\n",
    "\n",
    "cursor.execute('''CREATE TABLE HIGH (\n",
    "               SPECIES_NAME TEXT PRIMARY KEY NOT NULL, \n",
    "               TLOW FLOAT, \n",
    "               THIGH FLOAT, \n",
    "               COEFF_1 FLOAT,\n",
    "               COEFF_2 FLOAT,\n",
    "               COEFF_3 FLOAT,\n",
    "               COEFF_4 FLOAT,\n",
    "               COEFF_5 FLOAT,\n",
    "               COEFF_6 FLOAT,\n",
    "               COEFF_7 FLOAT)''')\n",
    "\n",
    "cursor.execute('''CREATE TABLE LOW (\n",
    "               SPECIES_NAME TEXT PRIMARY KEY NOT NULL, \n",
    "               TLOW FLOAT, \n",
    "               THIGH FLOAT, \n",
    "               COEFF_1 FLOAT,\n",
    "               COEFF_2 FLOAT,\n",
    "               COEFF_3 FLOAT,\n",
    "               COEFF_4 FLOAT,\n",
    "               COEFF_5 FLOAT,\n",
    "               COEFF_6 FLOAT,\n",
    "               COEFF_7 FLOAT)''')\n",
    "\n",
    "db.commit() # Commit changes to the database"
   ]
  },
  {
   "cell_type": "code",
   "execution_count": 6,
   "metadata": {
    "collapsed": true
   },
   "outputs": [],
   "source": [
    "def viz_tables(cols, query):\n",
    "    q = cursor.execute(query).fetchall()\n",
    "    framelist = []\n",
    "    for i, col_name in enumerate(cols):\n",
    "        framelist.append((col_name, [col[i] for col in q]))\n",
    "    return pd.DataFrame.from_items(framelist)"
   ]
  },
  {
   "cell_type": "code",
   "execution_count": 7,
   "metadata": {},
   "outputs": [],
   "source": [
    "for key, value in dic.items():\n",
    "    vals_to_insert_high = (key, float(value[\"TMIN\"][0]), float(value[\"TMAX\"][0]), float(value[\"coeffs\"][0][0]), \\\n",
    "                           float(value[\"coeffs\"][0][1]), float(value[\"coeffs\"][0][2]), \\\n",
    "                           float(value[\"coeffs\"][0][3]), float(value[\"coeffs\"][0][4]), \\\n",
    "                           float(value[\"coeffs\"][0][5]), float(value[\"coeffs\"][0][6]))\n",
    "    cursor.execute('''INSERT INTO HIGH \n",
    "                  (SPECIES_NAME, TLOW, THIGH, COEFF_1, COEFF_2, COEFF_3, COEFF_4, COEFF_5, COEFF_6, COEFF_7)\n",
    "                  VALUES (?, ?, ?, ?, ?, ?, ?, ?, ?, ?)''', vals_to_insert_high)\n"
   ]
  },
  {
   "cell_type": "code",
   "execution_count": 8,
   "metadata": {},
   "outputs": [
    {
     "data": {
      "text/html": [
       "<div>\n",
       "<style>\n",
       "    .dataframe thead tr:only-child th {\n",
       "        text-align: right;\n",
       "    }\n",
       "\n",
       "    .dataframe thead th {\n",
       "        text-align: left;\n",
       "    }\n",
       "\n",
       "    .dataframe tbody tr th {\n",
       "        vertical-align: top;\n",
       "    }\n",
       "</style>\n",
       "<table border=\"1\" class=\"dataframe\">\n",
       "  <thead>\n",
       "    <tr style=\"text-align: right;\">\n",
       "      <th></th>\n",
       "      <th>SPECIES_NAME</th>\n",
       "      <th>TLOW</th>\n",
       "      <th>THIGH</th>\n",
       "      <th>COEFF_1</th>\n",
       "      <th>COEFF_2</th>\n",
       "      <th>COEFF_3</th>\n",
       "      <th>COEFF_4</th>\n",
       "      <th>COEFF_5</th>\n",
       "      <th>COEFF_6</th>\n",
       "      <th>COEFF_7</th>\n",
       "    </tr>\n",
       "  </thead>\n",
       "  <tbody>\n",
       "    <tr>\n",
       "      <th>0</th>\n",
       "      <td>O</td>\n",
       "      <td>1000.0</td>\n",
       "      <td>5000.0</td>\n",
       "      <td>2.569421</td>\n",
       "      <td>-8.597411e-05</td>\n",
       "      <td>4.194846e-08</td>\n",
       "      <td>-1.001778e-11</td>\n",
       "      <td>1.228337e-15</td>\n",
       "      <td>29217.579100</td>\n",
       "      <td>4.784339</td>\n",
       "    </tr>\n",
       "    <tr>\n",
       "      <th>1</th>\n",
       "      <td>O2</td>\n",
       "      <td>1000.0</td>\n",
       "      <td>5000.0</td>\n",
       "      <td>3.282538</td>\n",
       "      <td>1.483088e-03</td>\n",
       "      <td>-7.579667e-07</td>\n",
       "      <td>2.094706e-10</td>\n",
       "      <td>-2.167178e-14</td>\n",
       "      <td>-1088.457720</td>\n",
       "      <td>5.453231</td>\n",
       "    </tr>\n",
       "    <tr>\n",
       "      <th>2</th>\n",
       "      <td>H</td>\n",
       "      <td>1000.0</td>\n",
       "      <td>5000.0</td>\n",
       "      <td>2.500000</td>\n",
       "      <td>-2.308430e-11</td>\n",
       "      <td>1.615619e-14</td>\n",
       "      <td>-4.735152e-18</td>\n",
       "      <td>4.981974e-22</td>\n",
       "      <td>25473.659900</td>\n",
       "      <td>-0.446683</td>\n",
       "    </tr>\n",
       "    <tr>\n",
       "      <th>3</th>\n",
       "      <td>H2</td>\n",
       "      <td>1000.0</td>\n",
       "      <td>5000.0</td>\n",
       "      <td>3.337279</td>\n",
       "      <td>-4.940247e-05</td>\n",
       "      <td>4.994568e-07</td>\n",
       "      <td>-1.795664e-10</td>\n",
       "      <td>2.002554e-14</td>\n",
       "      <td>-950.158922</td>\n",
       "      <td>-3.205023</td>\n",
       "    </tr>\n",
       "    <tr>\n",
       "      <th>4</th>\n",
       "      <td>OH</td>\n",
       "      <td>1000.0</td>\n",
       "      <td>5000.0</td>\n",
       "      <td>3.092888</td>\n",
       "      <td>5.484297e-04</td>\n",
       "      <td>1.265052e-07</td>\n",
       "      <td>-8.794616e-11</td>\n",
       "      <td>1.174124e-14</td>\n",
       "      <td>3858.657000</td>\n",
       "      <td>4.476696</td>\n",
       "    </tr>\n",
       "    <tr>\n",
       "      <th>5</th>\n",
       "      <td>H2O</td>\n",
       "      <td>1000.0</td>\n",
       "      <td>5000.0</td>\n",
       "      <td>3.033992</td>\n",
       "      <td>2.176918e-03</td>\n",
       "      <td>-1.640725e-07</td>\n",
       "      <td>-9.704199e-11</td>\n",
       "      <td>1.682010e-14</td>\n",
       "      <td>-30004.297100</td>\n",
       "      <td>4.966770</td>\n",
       "    </tr>\n",
       "    <tr>\n",
       "      <th>6</th>\n",
       "      <td>HO2</td>\n",
       "      <td>1000.0</td>\n",
       "      <td>5000.0</td>\n",
       "      <td>4.017211</td>\n",
       "      <td>2.239820e-03</td>\n",
       "      <td>-6.336581e-07</td>\n",
       "      <td>1.142464e-10</td>\n",
       "      <td>-1.079085e-14</td>\n",
       "      <td>111.856713</td>\n",
       "      <td>3.785102</td>\n",
       "    </tr>\n",
       "    <tr>\n",
       "      <th>7</th>\n",
       "      <td>H2O2</td>\n",
       "      <td>1000.0</td>\n",
       "      <td>5000.0</td>\n",
       "      <td>4.165003</td>\n",
       "      <td>4.908317e-03</td>\n",
       "      <td>-1.901392e-06</td>\n",
       "      <td>3.711860e-10</td>\n",
       "      <td>-2.879083e-14</td>\n",
       "      <td>-17861.787700</td>\n",
       "      <td>2.916157</td>\n",
       "    </tr>\n",
       "  </tbody>\n",
       "</table>\n",
       "</div>"
      ],
      "text/plain": [
       "  SPECIES_NAME    TLOW   THIGH   COEFF_1       COEFF_2       COEFF_3       COEFF_4       COEFF_5       COEFF_6   COEFF_7\n",
       "0            O  1000.0  5000.0  2.569421 -8.597411e-05  4.194846e-08 -1.001778e-11  1.228337e-15  29217.579100  4.784339\n",
       "1           O2  1000.0  5000.0  3.282538  1.483088e-03 -7.579667e-07  2.094706e-10 -2.167178e-14  -1088.457720  5.453231\n",
       "2            H  1000.0  5000.0  2.500000 -2.308430e-11  1.615619e-14 -4.735152e-18  4.981974e-22  25473.659900 -0.446683\n",
       "3           H2  1000.0  5000.0  3.337279 -4.940247e-05  4.994568e-07 -1.795664e-10  2.002554e-14   -950.158922 -3.205023\n",
       "4           OH  1000.0  5000.0  3.092888  5.484297e-04  1.265052e-07 -8.794616e-11  1.174124e-14   3858.657000  4.476696\n",
       "5          H2O  1000.0  5000.0  3.033992  2.176918e-03 -1.640725e-07 -9.704199e-11  1.682010e-14 -30004.297100  4.966770\n",
       "6          HO2  1000.0  5000.0  4.017211  2.239820e-03 -6.336581e-07  1.142464e-10 -1.079085e-14    111.856713  3.785102\n",
       "7         H2O2  1000.0  5000.0  4.165003  4.908317e-03 -1.901392e-06  3.711860e-10 -2.879083e-14 -17861.787700  2.916157"
      ]
     },
     "execution_count": 8,
     "metadata": {},
     "output_type": "execute_result"
    }
   ],
   "source": [
    "HIGH_cols = [col[1] for col in cursor.execute(\"PRAGMA table_info(HIGH)\")]\n",
    "query_HIGH = '''SELECT * FROM HIGH'''\n",
    "viz_tables(HIGH_cols, query_HIGH)"
   ]
  },
  {
   "cell_type": "code",
   "execution_count": 9,
   "metadata": {
    "collapsed": true
   },
   "outputs": [],
   "source": [
    "for key, value in dic.items():\n",
    "    vals_to_insert_low = (key, float(value[\"TMIN\"][1]), float(value[\"TMAX\"][1]), float(value[\"coeffs\"][1][0]), \\\n",
    "                          float(value[\"coeffs\"][1][1]), float(value[\"coeffs\"][1][2]), \\\n",
    "                          float(value[\"coeffs\"][1][3]), float(value[\"coeffs\"][1][4]), \\\n",
    "                          float(value[\"coeffs\"][1][5]), float(value[\"coeffs\"][1][6]))\n",
    "    cursor.execute('''INSERT INTO LOW \n",
    "                  (SPECIES_NAME, TLOW, THIGH, COEFF_1, COEFF_2, COEFF_3, COEFF_4, COEFF_5, COEFF_6, COEFF_7)\n",
    "                  VALUES (?, ?, ?, ?, ?, ?, ?, ?, ?, ?)''', vals_to_insert_low)"
   ]
  },
  {
   "cell_type": "code",
   "execution_count": 10,
   "metadata": {},
   "outputs": [
    {
     "data": {
      "text/html": [
       "<div>\n",
       "<style>\n",
       "    .dataframe thead tr:only-child th {\n",
       "        text-align: right;\n",
       "    }\n",
       "\n",
       "    .dataframe thead th {\n",
       "        text-align: left;\n",
       "    }\n",
       "\n",
       "    .dataframe tbody tr th {\n",
       "        vertical-align: top;\n",
       "    }\n",
       "</style>\n",
       "<table border=\"1\" class=\"dataframe\">\n",
       "  <thead>\n",
       "    <tr style=\"text-align: right;\">\n",
       "      <th></th>\n",
       "      <th>SPECIES_NAME</th>\n",
       "      <th>TLOW</th>\n",
       "      <th>THIGH</th>\n",
       "      <th>COEFF_1</th>\n",
       "      <th>COEFF_2</th>\n",
       "      <th>COEFF_3</th>\n",
       "      <th>COEFF_4</th>\n",
       "      <th>COEFF_5</th>\n",
       "      <th>COEFF_6</th>\n",
       "      <th>COEFF_7</th>\n",
       "    </tr>\n",
       "  </thead>\n",
       "  <tbody>\n",
       "    <tr>\n",
       "      <th>0</th>\n",
       "      <td>O</td>\n",
       "      <td>300.0</td>\n",
       "      <td>1000.0</td>\n",
       "      <td>3.168267</td>\n",
       "      <td>-3.279319e-03</td>\n",
       "      <td>6.643064e-06</td>\n",
       "      <td>-6.128066e-09</td>\n",
       "      <td>2.112660e-12</td>\n",
       "      <td>29122.259200</td>\n",
       "      <td>2.051933</td>\n",
       "    </tr>\n",
       "    <tr>\n",
       "      <th>1</th>\n",
       "      <td>O2</td>\n",
       "      <td>300.0</td>\n",
       "      <td>1000.0</td>\n",
       "      <td>3.782456</td>\n",
       "      <td>-2.996734e-03</td>\n",
       "      <td>9.847302e-06</td>\n",
       "      <td>-9.681295e-09</td>\n",
       "      <td>3.243728e-12</td>\n",
       "      <td>-1063.943560</td>\n",
       "      <td>3.657676</td>\n",
       "    </tr>\n",
       "    <tr>\n",
       "      <th>2</th>\n",
       "      <td>H</td>\n",
       "      <td>300.0</td>\n",
       "      <td>1000.0</td>\n",
       "      <td>2.500000</td>\n",
       "      <td>7.053328e-13</td>\n",
       "      <td>-1.995920e-15</td>\n",
       "      <td>2.300816e-18</td>\n",
       "      <td>-9.277323e-22</td>\n",
       "      <td>25473.659900</td>\n",
       "      <td>-0.446683</td>\n",
       "    </tr>\n",
       "    <tr>\n",
       "      <th>3</th>\n",
       "      <td>H2</td>\n",
       "      <td>300.0</td>\n",
       "      <td>1000.0</td>\n",
       "      <td>2.344331</td>\n",
       "      <td>7.980521e-03</td>\n",
       "      <td>-1.947815e-05</td>\n",
       "      <td>2.015721e-08</td>\n",
       "      <td>-7.376118e-12</td>\n",
       "      <td>-917.935173</td>\n",
       "      <td>0.683010</td>\n",
       "    </tr>\n",
       "    <tr>\n",
       "      <th>4</th>\n",
       "      <td>OH</td>\n",
       "      <td>300.0</td>\n",
       "      <td>1000.0</td>\n",
       "      <td>3.992015</td>\n",
       "      <td>-2.401318e-03</td>\n",
       "      <td>4.617938e-06</td>\n",
       "      <td>-3.881133e-09</td>\n",
       "      <td>1.364115e-12</td>\n",
       "      <td>3615.080560</td>\n",
       "      <td>-0.103925</td>\n",
       "    </tr>\n",
       "    <tr>\n",
       "      <th>5</th>\n",
       "      <td>H2O</td>\n",
       "      <td>300.0</td>\n",
       "      <td>1000.0</td>\n",
       "      <td>4.198641</td>\n",
       "      <td>-2.036434e-03</td>\n",
       "      <td>6.520402e-06</td>\n",
       "      <td>-5.487971e-09</td>\n",
       "      <td>1.771978e-12</td>\n",
       "      <td>-30293.726700</td>\n",
       "      <td>-0.849032</td>\n",
       "    </tr>\n",
       "    <tr>\n",
       "      <th>6</th>\n",
       "      <td>HO2</td>\n",
       "      <td>300.0</td>\n",
       "      <td>1000.0</td>\n",
       "      <td>4.301798</td>\n",
       "      <td>-4.749121e-03</td>\n",
       "      <td>2.115829e-05</td>\n",
       "      <td>-2.427639e-08</td>\n",
       "      <td>9.292251e-12</td>\n",
       "      <td>294.808040</td>\n",
       "      <td>3.716662</td>\n",
       "    </tr>\n",
       "    <tr>\n",
       "      <th>7</th>\n",
       "      <td>H2O2</td>\n",
       "      <td>300.0</td>\n",
       "      <td>1000.0</td>\n",
       "      <td>4.276113</td>\n",
       "      <td>-5.428224e-04</td>\n",
       "      <td>1.673357e-05</td>\n",
       "      <td>-2.157708e-08</td>\n",
       "      <td>8.624544e-12</td>\n",
       "      <td>-17702.582100</td>\n",
       "      <td>3.435051</td>\n",
       "    </tr>\n",
       "  </tbody>\n",
       "</table>\n",
       "</div>"
      ],
      "text/plain": [
       "  SPECIES_NAME   TLOW   THIGH   COEFF_1       COEFF_2       COEFF_3       COEFF_4       COEFF_5       COEFF_6   COEFF_7\n",
       "0            O  300.0  1000.0  3.168267 -3.279319e-03  6.643064e-06 -6.128066e-09  2.112660e-12  29122.259200  2.051933\n",
       "1           O2  300.0  1000.0  3.782456 -2.996734e-03  9.847302e-06 -9.681295e-09  3.243728e-12  -1063.943560  3.657676\n",
       "2            H  300.0  1000.0  2.500000  7.053328e-13 -1.995920e-15  2.300816e-18 -9.277323e-22  25473.659900 -0.446683\n",
       "3           H2  300.0  1000.0  2.344331  7.980521e-03 -1.947815e-05  2.015721e-08 -7.376118e-12   -917.935173  0.683010\n",
       "4           OH  300.0  1000.0  3.992015 -2.401318e-03  4.617938e-06 -3.881133e-09  1.364115e-12   3615.080560 -0.103925\n",
       "5          H2O  300.0  1000.0  4.198641 -2.036434e-03  6.520402e-06 -5.487971e-09  1.771978e-12 -30293.726700 -0.849032\n",
       "6          HO2  300.0  1000.0  4.301798 -4.749121e-03  2.115829e-05 -2.427639e-08  9.292251e-12    294.808040  3.716662\n",
       "7         H2O2  300.0  1000.0  4.276113 -5.428224e-04  1.673357e-05 -2.157708e-08  8.624544e-12 -17702.582100  3.435051"
      ]
     },
     "execution_count": 10,
     "metadata": {},
     "output_type": "execute_result"
    }
   ],
   "source": [
    "LOW_cols = [col[1] for col in cursor.execute(\"PRAGMA table_info(LOW)\")]\n",
    "query_LOW = '''SELECT * FROM LOW'''\n",
    "viz_tables(LOW_cols, query_LOW)"
   ]
  },
  {
   "cell_type": "markdown",
   "metadata": {},
   "source": [
    "# Question 2: `WHERE` Statements"
   ]
  },
  {
   "cell_type": "markdown",
   "metadata": {},
   "source": [
    "1. Write a `Python` function `get_coeffs` that returns an array of 7 coefficients.  \n",
    "   \n",
    "   The function should take in two parameters: 1.) `species_name` and 2.) `temp_range`, an indicator variable ('low' or 'high') to indicate whether the coefficients should come from the low or high temperature range.  \n",
    "   The function should use `SQL` commands and `WHERE` statements on the table you just created in Question 1 (rather than taking data from the XML directly).\n",
    "```python\n",
    "def get_coeffs(species_name, temp_range):\n",
    "    ''' Fill in here'''\n",
    "    return coeffs\n",
    "```\n",
    "\n",
    "2. Write a python function `get_species` that returns all species that have a temperature range above or below a given value. The function should take in two parameters: 1.) `temp` and 2.) `temp_range`, an indicator variable ('low' or 'high').\n",
    "\n",
    "  When temp_range is 'low', we are looking for species with a temperature range lower than the given temperature, and for a 'high' temp_range, we want species with a temperature range higher than the given temperature.\n",
    "\n",
    "  This exercise may be useful if different species have different `LOW` and `HIGH` ranges.\n",
    "\n",
    "  And as before, you should accomplish this through `SQL` queries and where statements.\n",
    "\n",
    "```python\n",
    "def get_species(temp, temp_range):\n",
    "    ''' Fill in here'''\n",
    "    return coeffs\n",
    "```"
   ]
  },
  {
   "cell_type": "code",
   "execution_count": 30,
   "metadata": {
    "collapsed": true
   },
   "outputs": [],
   "source": [
    "def get_coeffs(species_name, temp_range):\n",
    "    if temp_range == 'high':\n",
    "        query = '''SELECT COEFF_1, COEFF_2, COEFF_3, COEFF_4, COEFF_5, COEFF_6, COEFF_7 FROM HIGH WHERE SPECIES_NAME==species_name'''\n",
    "    elif temp_range == 'low':\n",
    "        query = '''SELECT COEFF_1, COEFF_2, COEFF_3, COEFF_4, COEFF_5, COEFF_6, COEFF_7 FROM LOW WHERE SPECIES_NAME==species_name'''\n",
    "    coeffs = cursor.execute(query).fetchall()\n",
    "    return coeffs"
   ]
  },
  {
   "cell_type": "code",
   "execution_count": 31,
   "metadata": {},
   "outputs": [
    {
     "data": {
      "text/plain": [
       "[(2.56942078,\n",
       "  -8.59741137e-05,\n",
       "  4.19484589e-08,\n",
       "  -1.00177799e-11,\n",
       "  1.22833691e-15,\n",
       "  29217.5791,\n",
       "  4.78433864),\n",
       " (3.28253784,\n",
       "  0.00148308754,\n",
       "  -7.57966669e-07,\n",
       "  2.09470555e-10,\n",
       "  -2.16717794e-14,\n",
       "  -1088.45772,\n",
       "  5.45323129),\n",
       " (2.50000001,\n",
       "  -2.30842973e-11,\n",
       "  1.61561948e-14,\n",
       "  -4.73515235e-18,\n",
       "  4.98197357e-22,\n",
       "  25473.6599,\n",
       "  -0.446682914),\n",
       " (3.3372792,\n",
       "  -4.94024731e-05,\n",
       "  4.99456778e-07,\n",
       "  -1.79566394e-10,\n",
       "  2.00255376e-14,\n",
       "  -950.158922,\n",
       "  -3.20502331),\n",
       " (3.09288767,\n",
       "  0.000548429716,\n",
       "  1.26505228e-07,\n",
       "  -8.79461556e-11,\n",
       "  1.17412376e-14,\n",
       "  3858.657,\n",
       "  4.4766961),\n",
       " (3.03399249,\n",
       "  0.00217691804,\n",
       "  -1.64072518e-07,\n",
       "  -9.7041987e-11,\n",
       "  1.68200992e-14,\n",
       "  -30004.2971,\n",
       "  4.9667701),\n",
       " (4.0172109,\n",
       "  0.00223982013,\n",
       "  -6.3365815e-07,\n",
       "  1.1424637e-10,\n",
       "  -1.07908535e-14,\n",
       "  111.856713,\n",
       "  3.78510215),\n",
       " (4.16500285,\n",
       "  0.00490831694,\n",
       "  -1.90139225e-06,\n",
       "  3.71185986e-10,\n",
       "  -2.87908305e-14,\n",
       "  -17861.7877,\n",
       "  2.91615662)]"
      ]
     },
     "execution_count": 31,
     "metadata": {},
     "output_type": "execute_result"
    }
   ],
   "source": [
    "get_coeffs('O', 'high')"
   ]
  },
  {
   "cell_type": "code",
   "execution_count": 13,
   "metadata": {
    "collapsed": true
   },
   "outputs": [],
   "source": [
    "# def get_species(temp, temp_range):\n",
    "    \n",
    "#     return coeffs"
   ]
  },
  {
   "cell_type": "markdown",
   "metadata": {},
   "source": [
    "# Question 3: `JOIN` STATEMENTS"
   ]
  },
  {
   "cell_type": "markdown",
   "metadata": {},
   "source": [
    "Create a table named `ALL_TEMPS` that has the following columns:\n",
    "\n",
    "- `SPECIES_NAME`\n",
    "- `TEMP_LOW`\n",
    "- `TEMP_HIGH`\n",
    "\n",
    "This table should be created by joining the tables `LOW` and `HIGH` on the value `SPECIES_NAME`."
   ]
  },
  {
   "cell_type": "markdown",
   "metadata": {},
   "source": [
    "1. Write a `Python` function `get_range` that returns the range of temperatures for a given species_name.\n",
    "\n",
    "The range should be computed within the `SQL` query (i.e. you should subtract within the `SELECT` statement in the `SQL` query).\n",
    "```python\n",
    "def get_range(species_name):\n",
    "    '''Fill in here'''\n",
    "    return range\n",
    "```\n",
    "\n",
    "Note that `TEMP_LOW` is the lowest temperature in the `LOW` range and `TEMP_HIGH` is the highest temperature in the `HIGH` range."
   ]
  },
  {
   "cell_type": "code",
   "execution_count": 17,
   "metadata": {},
   "outputs": [],
   "source": [
    "cursor.execute(\"DROP TABLE IF EXISTS ALL_TEMPS\")\n",
    "cursor.execute('''CREATE TABLE ALL_TEMPS (\n",
    "               SPECIES_NAME TEXT PRIMARY KEY NOT NULL, \n",
    "               TEMP_LOW FLOAT, \n",
    "               TEMP_HIGH FLOAT)''')\n",
    "\n",
    "db.commit()"
   ]
  },
  {
   "cell_type": "code",
   "execution_count": 28,
   "metadata": {},
   "outputs": [
    {
     "data": {
      "text/plain": [
       "<sqlite3.Cursor at 0x10ed52b20>"
      ]
     },
     "execution_count": 28,
     "metadata": {},
     "output_type": "execute_result"
    }
   ],
   "source": [
    "query = '''SELECT LOW.SPECIES_NAME, LOW.TLOW, HIGH.THIGH FROM LOW INNER JOIN HIGH ON LOW.SPECIES_NAME = HIGH.SPECIES_NAME'''\n",
    "cursor.execute(query)"
   ]
  },
  {
   "cell_type": "code",
   "execution_count": 29,
   "metadata": {},
   "outputs": [
    {
     "data": {
      "text/html": [
       "<div>\n",
       "<style>\n",
       "    .dataframe thead tr:only-child th {\n",
       "        text-align: right;\n",
       "    }\n",
       "\n",
       "    .dataframe thead th {\n",
       "        text-align: left;\n",
       "    }\n",
       "\n",
       "    .dataframe tbody tr th {\n",
       "        vertical-align: top;\n",
       "    }\n",
       "</style>\n",
       "<table border=\"1\" class=\"dataframe\">\n",
       "  <thead>\n",
       "    <tr style=\"text-align: right;\">\n",
       "      <th></th>\n",
       "      <th>SPECIES_NAME</th>\n",
       "      <th>TEMP_LOW</th>\n",
       "      <th>TEMP_HIGH</th>\n",
       "    </tr>\n",
       "  </thead>\n",
       "  <tbody>\n",
       "  </tbody>\n",
       "</table>\n",
       "</div>"
      ],
      "text/plain": [
       "Empty DataFrame\n",
       "Columns: [SPECIES_NAME, TEMP_LOW, TEMP_HIGH]\n",
       "Index: []"
      ]
     },
     "execution_count": 29,
     "metadata": {},
     "output_type": "execute_result"
    }
   ],
   "source": [
    "ALL_cols = [col[1] for col in cursor.execute(\"PRAGMA table_info(ALL_TEMPS)\")]\n",
    "query_ALL = '''SELECT * FROM ALL_TEMPS'''\n",
    "viz_tables(ALL_cols, query_ALL)"
   ]
  },
  {
   "cell_type": "code",
   "execution_count": null,
   "metadata": {
    "collapsed": true
   },
   "outputs": [],
   "source": [
    "# def get_range(species_name):\n",
    "    \n",
    "#     return range"
   ]
  },
  {
   "cell_type": "code",
   "execution_count": 16,
   "metadata": {
    "collapsed": true
   },
   "outputs": [],
   "source": [
    "db.commit()\n",
    "# db.close()"
   ]
  },
  {
   "cell_type": "code",
   "execution_count": null,
   "metadata": {
    "collapsed": true
   },
   "outputs": [],
   "source": []
  }
 ],
 "metadata": {
  "kernelspec": {
   "display_name": "Python 3",
   "language": "python",
   "name": "python3"
  },
  "language_info": {
   "codemirror_mode": {
    "name": "ipython",
    "version": 3
   },
   "file_extension": ".py",
   "mimetype": "text/x-python",
   "name": "python",
   "nbconvert_exporter": "python",
   "pygments_lexer": "ipython3",
   "version": "3.6.3"
  }
 },
 "nbformat": 4,
 "nbformat_minor": 2
}
