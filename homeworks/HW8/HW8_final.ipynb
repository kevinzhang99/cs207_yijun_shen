{
 "cells": [
  {
   "cell_type": "markdown",
   "metadata": {},
   "source": [
    "# Problem 1:  BST Traversal\n",
    "This problem builds on Problem 1 of Homework 7 in which you wrote a binary search tree.\n",
    "\n",
    "### Part 1\n",
    "\n",
    "As discussed in lecture, three different types to do a depth-first traversal are: preorder, inorder, and postorder. Here is a reference: [Tree Traversal](https://en.wikipedia.org/wiki/Tree_traversal#Depth-first_search).\n",
    "\n",
    "Write an iterator class called `DFSTraversal` with the following specifications:\n",
    "\n",
    "* `__init__(self, tree, traversalType)`: Constructor takes a `BinaryTree` object and one of the enums from `DFSTraversalTypes`\n",
    "\n",
    "```python\n",
    "from enum import Enum\n",
    "\n",
    "class DFSTraversalTypes(Enum):\n",
    "    PREORDER = 1\n",
    "    INORDER = 2\n",
    "    POSTORDER = 3\n",
    "```\n",
    "\n",
    "* `changeTraversalType(self, traversalType)`: Change the traversal type\n",
    "* `__iter__(self)`: This is the initialization of an iterator\n",
    "* `__next__(self)`: This is called in the iterator for getting the next value\n",
    "\n",
    "Here's how you might use your `DFSTraversal` class:\n",
    "\n",
    "```python\n",
    "input_array = [3, 9, 2, 11]\n",
    "bt = BinaryTree()\n",
    "for val in input_array:\n",
    "    bt.insert(val)\n",
    "traversal = DFSTraversal(bt, DFSTraversalTypes.INORDER)\n",
    "for val in traversal:\n",
    "    print(val)\n",
    "2\n",
    "3\n",
    "9\n",
    "11\n",
    "```\n",
    "\n",
    "### Part 2\n",
    "Put your `BinaryTree` class (from homework 7) and your `DFSTraversal` class (from Part 1 of this homework) in a file titled `TreeTraversal.py`."
   ]
  },
  {
   "cell_type": "code",
   "execution_count": 1,
   "metadata": {
    "collapsed": true
   },
   "outputs": [],
   "source": [
    "# from HW7\n",
    "class TreeNode:\n",
    "    def __init__(self, val):\n",
    "        self.left = None\n",
    "        self.right = None\n",
    "        self.val = val\n",
    "        self.parent = None\n",
    "\n",
    "class BinaryTree:\n",
    "    def __init__(self):\n",
    "        self.root = None\n",
    "    \n",
    "    def insert(self, val):     \n",
    "        if self.root is None:\n",
    "            self.root = TreeNode(val)\n",
    "        else:\n",
    "            self._insert(val, self.root)\n",
    "    \n",
    "    def _insert(self, val, node):\n",
    "        if val <= node.val:\n",
    "            if node.left is not None:\n",
    "                self._insert(val, node.left)\n",
    "            else:\n",
    "                node.left = TreeNode(val)\n",
    "                node.left.parent = node\n",
    "        else:\n",
    "            if node.right is not None:\n",
    "                self._insert(val, node.right)\n",
    "            else:\n",
    "                node.right = TreeNode(val)\n",
    "                node.right.parent = node\n",
    "    \n",
    "    def find(self, val):\n",
    "        if self.root is None:\n",
    "            return None\n",
    "        else:\n",
    "            return self._find(val, self.root)\n",
    "    \n",
    "    def _find(self, val, node):\n",
    "        if val == node.val:\n",
    "            return node\n",
    "        elif val < node.val and node.left is not None:\n",
    "            return self._find(val, node.left)\n",
    "        elif val > node.val and node.right is not None:\n",
    "            return self._find(val, node.right)\n",
    "        else:\n",
    "            return None\n",
    "              \n",
    "    def getValues(self, depth):\n",
    "        if self.root is None:\n",
    "            return []\n",
    "        else:\n",
    "            val_list = []\n",
    "            self._getValues(depth, self.root, val_list)\n",
    "            return val_list\n",
    "            \n",
    "    def _getValues(self, depth, node, vals=[]):\n",
    "        if depth == 0:\n",
    "            vals.append(node.val)\n",
    "        else:\n",
    "            if node.left is not None:\n",
    "                self._getValues(depth-1, node.left, vals)\n",
    "            else:\n",
    "                for i in range(int(2**(depth-1))):\n",
    "                    vals.append(None)\n",
    "            if node.right is not None:\n",
    "                self._getValues(depth-1, node.right, vals)\n",
    "            else:\n",
    "                for i in range(int(2**(depth-1))):\n",
    "                    vals.append(None)\n",
    "        return vals\n",
    "    \n",
    "    def max_depth(self, root):\n",
    "        if root is None:\n",
    "            return 0\n",
    "        else:\n",
    "            return max(self.max_depth(root.left), self.max_depth(root.right)) + 1\n",
    "    def __len__(self):\n",
    "        return self.max_depth(self.root)"
   ]
  },
  {
   "cell_type": "code",
   "execution_count": 2,
   "metadata": {
    "collapsed": true
   },
   "outputs": [],
   "source": [
    "from enum import Enum\n",
    "\n",
    "class DFSTraversalTypes(Enum):\n",
    "    PREORDER = 1\n",
    "    INORDER = 2\n",
    "    POSTORDER = 3"
   ]
  },
  {
   "cell_type": "code",
   "execution_count": 3,
   "metadata": {
    "collapsed": true
   },
   "outputs": [],
   "source": [
    "class DFSTraversal:\n",
    "    def __init__(self, tree, traversalType):\n",
    "        self.traversalType = traversalType.name\n",
    "        self.tree = tree\n",
    "        \n",
    "    def changeTraversalType(self, traversalType):\n",
    "        self.traversalType = traversalType.name\n",
    "                 \n",
    "    def preorder(self, node):\n",
    "        if node is not None:\n",
    "            yield node.val\n",
    "            yield from self.preorder(node.left)\n",
    "            yield from self.preorder(node.right)\n",
    "                       \n",
    "    def inorder(self, node):\n",
    "        if node is not None:\n",
    "            yield from self.inorder(node.left)\n",
    "            yield node.val\n",
    "            yield from self.inorder(node.right)\n",
    "            \n",
    "    def postorder(self, node):\n",
    "        if node is not None:\n",
    "            yield from self.postorder(node.left)\n",
    "            yield from self.postorder(node.right)\n",
    "            yield node.val\n",
    "        \n",
    "    def __iter__(self):\n",
    "        if self.traversalType == 'PREORDER':\n",
    "            yield from self.preorder(self.tree.root)\n",
    "        elif self.traversalType == 'INORDER':\n",
    "            yield from self.inorder(self.tree.root)\n",
    "        elif self.traversalType == 'POSTORDER':\n",
    "            yield from self.postorder(self.tree.root)"
   ]
  },
  {
   "cell_type": "code",
   "execution_count": 4,
   "metadata": {},
   "outputs": [
    {
     "name": "stdout",
     "output_type": "stream",
     "text": [
      "3\n",
      "2\n",
      "9\n",
      "11\n"
     ]
    }
   ],
   "source": [
    "input_array = [3, 9, 2, 11]\n",
    "bt = BinaryTree()\n",
    "for val in input_array:\n",
    "    bt.insert(val)\n",
    "\n",
    "traversal = DFSTraversal(bt, DFSTraversalTypes.PREORDER)\n",
    "for val in traversal:\n",
    "    print(val)"
   ]
  },
  {
   "cell_type": "code",
   "execution_count": 5,
   "metadata": {},
   "outputs": [
    {
     "name": "stdout",
     "output_type": "stream",
     "text": [
      "2\n",
      "3\n",
      "9\n",
      "11\n"
     ]
    }
   ],
   "source": [
    "traversal.changeTraversalType(DFSTraversalTypes.INORDER)\n",
    "for val in traversal:\n",
    "    print(val)"
   ]
  },
  {
   "cell_type": "code",
   "execution_count": 6,
   "metadata": {},
   "outputs": [
    {
     "name": "stdout",
     "output_type": "stream",
     "text": [
      "2\n",
      "11\n",
      "9\n",
      "3\n"
     ]
    }
   ],
   "source": [
    "traversal.changeTraversalType(DFSTraversalTypes.POSTORDER)\n",
    "for val in traversal:\n",
    "    print(val)"
   ]
  },
  {
   "cell_type": "code",
   "execution_count": 7,
   "metadata": {},
   "outputs": [
    {
     "name": "stdout",
     "output_type": "stream",
     "text": [
      "2\n",
      "3\n",
      "9\n",
      "11\n"
     ]
    }
   ],
   "source": [
    "traversal.changeTraversalType(DFSTraversalTypes.INORDER)\n",
    "# traversal.inorder(bt.root)\n",
    "for val in traversal:\n",
    "    print(val)"
   ]
  },
  {
   "cell_type": "code",
   "execution_count": 21,
   "metadata": {},
   "outputs": [
    {
     "name": "stdout",
     "output_type": "stream",
     "text": [
      "Height of binary tree is 4.\n",
      "\n",
      "Level 0 values: [20]\n",
      "Level 1 values: [10, None]\n",
      "Level 2 values: [3, 17, None, None]\n",
      "Level 3 values: [0, None, 14, None, None, None, None, None]\n",
      "0\n",
      "3\n",
      "10\n",
      "14\n",
      "17\n",
      "20\n"
     ]
    }
   ],
   "source": [
    "bt2 = BinaryTree()\n",
    "arr = [20, 10, 17, 14, 3, 0]\n",
    "for i in arr:\n",
    "    bt2.insert(i)\n",
    "print(\"Height of binary tree is {}.\\n\".format(len(bt2)))\n",
    "for i in range(len(bt2)):\n",
    "    print(\"Level {0} values: {1}\".format(i, bt2.getValues(i)))   \n",
    "traversal2 = DFSTraversal(bt2, DFSTraversalTypes.INORDER)\n",
    "for val in traversal2:\n",
    "    print(val)"
   ]
  },
  {
   "cell_type": "code",
   "execution_count": 20,
   "metadata": {},
   "outputs": [
    {
     "name": "stdout",
     "output_type": "stream",
     "text": [
      "Overwriting TreeTraversal.py\n"
     ]
    }
   ],
   "source": [
    "%%file TreeTraversal.py\n",
    "class TreeNode:\n",
    "    def __init__(self, val):\n",
    "        self.left = None\n",
    "        self.right = None\n",
    "        self.val = val\n",
    "        self.parent = None\n",
    "\n",
    "class BinaryTree:\n",
    "    def __init__(self):\n",
    "        self.root = None\n",
    "    \n",
    "    def insert(self, val):     \n",
    "        if self.root is None:\n",
    "            self.root = TreeNode(val)\n",
    "        else:\n",
    "            self._insert(val, self.root)\n",
    "    \n",
    "    def _insert(self, val, node):\n",
    "        if val <= node.val:\n",
    "            if node.left is not None:\n",
    "                self._insert(val, node.left)\n",
    "            else:\n",
    "                node.left = TreeNode(val)\n",
    "                node.left.parent = node\n",
    "        else:\n",
    "            if node.right is not None:\n",
    "                self._insert(val, node.right)\n",
    "            else:\n",
    "                node.right = TreeNode(val)\n",
    "                node.right.parent = node\n",
    "    \n",
    "    def find(self, val):\n",
    "        if self.root is None:\n",
    "            return None\n",
    "        else:\n",
    "            return self._find(val, self.root)\n",
    "    \n",
    "    def _find(self, val, node):\n",
    "        if val == node.val:\n",
    "            return node\n",
    "        elif val < node.val and node.left is not None:\n",
    "            return self._find(val, node.left)\n",
    "        elif val > node.val and node.right is not None:\n",
    "            return self._find(val, node.right)\n",
    "        else:\n",
    "            return None\n",
    "              \n",
    "    def getValues(self, depth):\n",
    "        if self.root is None:\n",
    "            return []\n",
    "        else:\n",
    "            val_list = []\n",
    "            self._getValues(depth, self.root, val_list)\n",
    "            return val_list\n",
    "            \n",
    "    def _getValues(self, depth, node, vals=[]):\n",
    "        if depth == 0:\n",
    "            vals.append(node.val)\n",
    "        else:\n",
    "            if node.left is not None:\n",
    "                self._getValues(depth-1, node.left, vals)\n",
    "            else:\n",
    "                for i in range(int(2**(depth-1))):\n",
    "                    vals.append(None)\n",
    "            if node.right is not None:\n",
    "                self._getValues(depth-1, node.right, vals)\n",
    "            else:\n",
    "                for i in range(int(2**(depth-1))):\n",
    "                    vals.append(None)\n",
    "        return vals\n",
    "    \n",
    "    def max_depth(self, root):\n",
    "        if root is None:\n",
    "            return 0\n",
    "        else:\n",
    "            return max(self.max_depth(root.left), self.max_depth(root.right)) + 1\n",
    "    def __len__(self):\n",
    "        return self.max_depth(self.root)\n",
    "    \n",
    "from enum import Enum\n",
    "\n",
    "class DFSTraversalTypes(Enum):\n",
    "    PREORDER = 1\n",
    "    INORDER = 2\n",
    "    POSTORDER = 3\n",
    "    \n",
    "\n",
    "class DFSTraversal:\n",
    "    def __init__(self, tree, traversalType):\n",
    "        self.traversalType = traversalType.name\n",
    "        self.tree = tree\n",
    "        \n",
    "    def changeTraversalType(self, traversalType):\n",
    "        self.traversalType = traversalType.name\n",
    "                 \n",
    "    def preorder(self, node):\n",
    "        if node is not None:\n",
    "            yield node.val\n",
    "            yield from self.preorder(node.left)\n",
    "            yield from self.preorder(node.right)\n",
    "                       \n",
    "    def inorder(self, node):\n",
    "        if node is not None:\n",
    "            yield from self.inorder(node.left)\n",
    "            yield node.val\n",
    "            yield from self.inorder(node.right)\n",
    "            \n",
    "    def postorder(self, node):\n",
    "        if node is not None:\n",
    "            yield from self.postorder(node.left)\n",
    "            yield from self.postorder(node.right)\n",
    "            yield node.val\n",
    "        \n",
    "    def __iter__(self):\n",
    "        if self.traversalType == 'PREORDER':\n",
    "            yield from self.preorder(self.tree.root)\n",
    "        elif self.traversalType == 'INORDER':\n",
    "            yield from self.inorder(self.tree.root)\n",
    "        elif self.traversalType == 'POSTORDER':\n",
    "            yield from self.postorder(self.tree.root)"
   ]
  },
  {
   "cell_type": "markdown",
   "metadata": {},
   "source": [
    "## Problem 2: Markov Chains\n",
    "\n",
    "[Markov Chains](https://en.wikipedia.org/wiki/Markov_chain) are widely used to model and predict discrete events. Underlying Markov chains are Markov processes which make the assumption that the outcome of a future event only depends on the event immediately preceeding it. In this exercise, we will be assuming that weather has Markov properties (e.g. today's weather is dependent only on yesterday's weather). We will use the Markov assumption to create a basic model for predicting weather."
   ]
  },
  {
   "cell_type": "markdown",
   "metadata": {},
   "source": [
    "To begin, let's categorize weather into 7 types: ['sunny', 'cloudy', 'rainy', 'snowy', 'windy', 'hailing'].\n",
    "\n",
    "In the `weather.csv` file accompanying this homework, each row corresponds to one type of weather (in the order given above) and each column is the probability of one type of weather occurring the following day (also in the order given above).\n",
    "\n",
    "The $ij$th element is the probability that the $j$th weather type occurs after the $i$th weather type. So for example, (1,2) is the probability a cloudy day occurs after a sunny day.\n",
    "\n",
    "Take a look at the data. Make sure you see how if the previous day was sunny, the following day will have a 0.4 probability of being sunny as well. If the previous day was raining (index $i = 3$), then the following day (index $j$) has a 0.05 probability of being windy ($j = 5$)."
   ]
  },
  {
   "cell_type": "code",
   "execution_count": 9,
   "metadata": {},
   "outputs": [
    {
     "data": {
      "text/html": [
       "<div>\n",
       "<style>\n",
       "    .dataframe thead tr:only-child th {\n",
       "        text-align: right;\n",
       "    }\n",
       "\n",
       "    .dataframe thead th {\n",
       "        text-align: left;\n",
       "    }\n",
       "\n",
       "    .dataframe tbody tr th {\n",
       "        vertical-align: top;\n",
       "    }\n",
       "</style>\n",
       "<table border=\"1\" class=\"dataframe\">\n",
       "  <thead>\n",
       "    <tr style=\"text-align: right;\">\n",
       "      <th></th>\n",
       "      <th>0</th>\n",
       "      <th>1</th>\n",
       "      <th>2</th>\n",
       "      <th>3</th>\n",
       "      <th>4</th>\n",
       "      <th>5</th>\n",
       "    </tr>\n",
       "  </thead>\n",
       "  <tbody>\n",
       "    <tr>\n",
       "      <th>0</th>\n",
       "      <td>0.40</td>\n",
       "      <td>0.3</td>\n",
       "      <td>0.10</td>\n",
       "      <td>0.05</td>\n",
       "      <td>0.10</td>\n",
       "      <td>0.05</td>\n",
       "    </tr>\n",
       "    <tr>\n",
       "      <th>1</th>\n",
       "      <td>0.30</td>\n",
       "      <td>0.4</td>\n",
       "      <td>0.10</td>\n",
       "      <td>0.10</td>\n",
       "      <td>0.08</td>\n",
       "      <td>0.02</td>\n",
       "    </tr>\n",
       "    <tr>\n",
       "      <th>2</th>\n",
       "      <td>0.20</td>\n",
       "      <td>0.3</td>\n",
       "      <td>0.35</td>\n",
       "      <td>0.05</td>\n",
       "      <td>0.05</td>\n",
       "      <td>0.05</td>\n",
       "    </tr>\n",
       "    <tr>\n",
       "      <th>3</th>\n",
       "      <td>0.10</td>\n",
       "      <td>0.2</td>\n",
       "      <td>0.25</td>\n",
       "      <td>0.30</td>\n",
       "      <td>0.10</td>\n",
       "      <td>0.05</td>\n",
       "    </tr>\n",
       "    <tr>\n",
       "      <th>4</th>\n",
       "      <td>0.15</td>\n",
       "      <td>0.2</td>\n",
       "      <td>0.10</td>\n",
       "      <td>0.15</td>\n",
       "      <td>0.30</td>\n",
       "      <td>0.10</td>\n",
       "    </tr>\n",
       "    <tr>\n",
       "      <th>5</th>\n",
       "      <td>0.10</td>\n",
       "      <td>0.2</td>\n",
       "      <td>0.35</td>\n",
       "      <td>0.10</td>\n",
       "      <td>0.05</td>\n",
       "      <td>0.20</td>\n",
       "    </tr>\n",
       "  </tbody>\n",
       "</table>\n",
       "</div>"
      ],
      "text/plain": [
       "      0    1     2     3     4     5\n",
       "0  0.40  0.3  0.10  0.05  0.10  0.05\n",
       "1  0.30  0.4  0.10  0.10  0.08  0.02\n",
       "2  0.20  0.3  0.35  0.05  0.05  0.05\n",
       "3  0.10  0.2  0.25  0.30  0.10  0.05\n",
       "4  0.15  0.2  0.10  0.15  0.30  0.10\n",
       "5  0.10  0.2  0.35  0.10  0.05  0.20"
      ]
     },
     "execution_count": 9,
     "metadata": {},
     "output_type": "execute_result"
    }
   ],
   "source": [
    "import pandas as pd\n",
    "df = pd.read_csv('weather.csv', header=None)\n",
    "df"
   ]
  },
  {
   "cell_type": "markdown",
   "metadata": {},
   "source": [
    "### Part 1:  Parse the `.csv` file into a `Numpy` array"
   ]
  },
  {
   "cell_type": "code",
   "execution_count": 10,
   "metadata": {},
   "outputs": [
    {
     "data": {
      "text/plain": [
       "array([[ 0.4 ,  0.3 ,  0.1 ,  0.05,  0.1 ,  0.05],\n",
       "       [ 0.3 ,  0.4 ,  0.1 ,  0.1 ,  0.08,  0.02],\n",
       "       [ 0.2 ,  0.3 ,  0.35,  0.05,  0.05,  0.05],\n",
       "       [ 0.1 ,  0.2 ,  0.25,  0.3 ,  0.1 ,  0.05],\n",
       "       [ 0.15,  0.2 ,  0.1 ,  0.15,  0.3 ,  0.1 ],\n",
       "       [ 0.1 ,  0.2 ,  0.35,  0.1 ,  0.05,  0.2 ]])"
      ]
     },
     "execution_count": 10,
     "metadata": {},
     "output_type": "execute_result"
    }
   ],
   "source": [
    "#Load CSV file -- hint: you can use np.genfromtxt()\n",
    "import numpy as np\n",
    "data = np.genfromtxt(\"weather.csv\", delimiter=\",\")\n",
    "data"
   ]
  },
  {
   "cell_type": "code",
   "execution_count": 11,
   "metadata": {},
   "outputs": [
    {
     "data": {
      "text/plain": [
       "(6, 6)"
      ]
     },
     "execution_count": 11,
     "metadata": {},
     "output_type": "execute_result"
    }
   ],
   "source": [
    "data.shape\n"
   ]
  },
  {
   "cell_type": "markdown",
   "metadata": {},
   "source": [
    "### Part 2:  Create a class called `Markov` that has the following methods:\n",
    "\n",
    "* `load_data(array)`: loads the Numpy 2D array and stores it as a class variable.\n",
    "* `get_prob(previous_day, following_day)`: returns the probability of `following_day` weather given `previous_day` weather. \n",
    "\n",
    "**Note:** `previous_day` and `following_day` should be passed in string form (e.g. \"sunny\"), as opposed to an index (e.g. 0). "
   ]
  },
  {
   "cell_type": "code",
   "execution_count": 12,
   "metadata": {
    "collapsed": true
   },
   "outputs": [],
   "source": [
    "class Markov:\n",
    "    def __init__(self):\n",
    "        # implement here\n",
    "        self.weather = {\"sunny\":0, \"cloudy\":1, \"rainy\":2, \"snowy\":3, \"windy\":4, \"hailing\":5}\n",
    "        \n",
    "    def load_data(self, array):\n",
    "        # implement here\n",
    "        self.array = array\n",
    "    \n",
    "    def get_prob(self, previous_day, following_day):\n",
    "        # implement here -- returns a probability\n",
    "        i = self.weather[previous_day]\n",
    "        j = self.weather[following_day]\n",
    "        return self.array[i,j]\n",
    "        "
   ]
  },
  {
   "cell_type": "code",
   "execution_count": 13,
   "metadata": {},
   "outputs": [
    {
     "data": {
      "text/plain": [
       "0.10000000000000001"
      ]
     },
     "execution_count": 13,
     "metadata": {},
     "output_type": "execute_result"
    }
   ],
   "source": [
    "m = Markov()\n",
    "m.load_data(data)\n",
    "m.get_prob(\"sunny\", \"rainy\")"
   ]
  },
  {
   "cell_type": "code",
   "execution_count": 14,
   "metadata": {},
   "outputs": [
    {
     "data": {
      "text/plain": [
       "0.050000000000000003"
      ]
     },
     "execution_count": 14,
     "metadata": {},
     "output_type": "execute_result"
    }
   ],
   "source": [
    "m.get_prob(\"rainy\", \"windy\") "
   ]
  },
  {
   "cell_type": "markdown",
   "metadata": {},
   "source": [
    "## Problem 3: Iterators"
   ]
  },
  {
   "cell_type": "markdown",
   "metadata": {},
   "source": [
    "Iterators are a convenient way to walk along your Markov chain.\n",
    "\n",
    "#### Part 1: Using your `Markov` class from Problem 3, write `Markov` as an iterator by implementing the `__iter__()` and `__next__()` methods.\n",
    "\n",
    "Remember:  \n",
    "* `__iter__()` should return the iterator object and should be implicitly called when the loop begins\n",
    "* The `__next()__` method should return the next value and is implicitly called at each step in the loop.\n",
    "\n",
    "Each 'next' step should be stochastic (i.e. randomly selected based on the relative probabilities of the following day weather types) and should return the next day's weather as a string (e.g. \"sunny\") rather than an index (e.g. 0)."
   ]
  },
  {
   "cell_type": "code",
   "execution_count": 15,
   "metadata": {
    "collapsed": true
   },
   "outputs": [],
   "source": [
    "class MarkovIterator:\n",
    "    def __init__(self, markov):\n",
    "        self.markov = markov;\n",
    "        self.current_idx = self.markov.current_idx\n",
    "        self.table = self.markov.array\n",
    "        \n",
    "    def __next__(self):\n",
    "        rand_num = np.random.random()\n",
    "        try:\n",
    "            nextProb = self.table[self.current_idx];\n",
    "        except IndexError:\n",
    "            raise StopIteration()\n",
    "        cdf = np.zeros(nextProb.shape);\n",
    "        for i in range(nextProb.shape[0]):\n",
    "            cdf[i] = nextProb[i] + cdf[i-1]\n",
    "        \n",
    "#         print(cdf, rand_num)\n",
    "        next_idx = 0\n",
    "        for i in range(nextProb.shape[0]):\n",
    "            if rand_num <= cdf[i]:\n",
    "                next_idx = i\n",
    "                break\n",
    "        \n",
    "        current_str = self.markov.idx2str[self.current_idx]\n",
    "        self.current_idx = next_idx\n",
    "        \n",
    "        return current_str\n",
    "        \n",
    "    \n",
    "    def __iter__(self):\n",
    "        return self\n",
    "\n",
    "class Markov:\n",
    "    def __init__(self, current_weather = \"sunny\"):\n",
    "        self.idx2str = [\"sunny\", \"cloudy\", \"rainy\", \"snowy\", \"windy\", \"hailing\"]\n",
    "        self.weather = {\"sunny\":0, \"cloudy\":1, \"rainy\":2, \"snowy\":3, \"windy\":4, \"hailing\":5}\n",
    "        self.current_idx = self.weather[current_weather]\n",
    "\n",
    "    def load_data(self, array):\n",
    "        self.array = array\n",
    "    \n",
    "    def get_prob(self, previous_day, following_day):\n",
    "        i = self.weather[previous_day]\n",
    "        j = self.weather[following_day]\n",
    "        return self.array[i,j]\n",
    "    \n",
    "    def set_current(self, current_weather):\n",
    "        self.current_idx = self.weather[current_weather]\n",
    "    \n",
    "    def __iter__(self):\n",
    "        return MarkovIterator(self)"
   ]
  },
  {
   "cell_type": "code",
   "execution_count": 16,
   "metadata": {},
   "outputs": [
    {
     "name": "stdout",
     "output_type": "stream",
     "text": [
      "0\n",
      "5\n",
      "hailing\n",
      "rainy\n",
      "rainy\n",
      "rainy\n"
     ]
    }
   ],
   "source": [
    "m2 = Markov()\n",
    "m2.load_data(data)\n",
    "print(m2.current_idx)\n",
    "m2.set_current(\"hailing\")\n",
    "print(m2.current_idx)\n",
    "\n",
    "iter1 = iter(m2)\n",
    "iter2 = iter(m2)\n",
    "print(next(iter1))\n",
    "print(next(iter1))\n",
    "print(next(iter1))\n",
    "print(next(iter1))\n",
    "# print(next(iter(m2)))"
   ]
  },
  {
   "cell_type": "markdown",
   "metadata": {},
   "source": [
    "#### Part 2: We want to predict what weather will be like in a week for 5 different cities.\n",
    "\n",
    "Now that we have our `Markov` iterator, we can try to predict what the weather will be like in seven days from now.\n",
    "\n",
    "Given each city's current weather in the dictionary `city_weather` (see below), simulate what the weather will be like in 7 days from now.  Rather than just producing one prediction per city, simulate 100 such predictions per city and store the most commonly occuring prediction.\n",
    "\n",
    "In your submission, print a dictionary `city_weather_predictions` that has each city as a key and the most commonly predicted weather as the corresponding value.\n",
    "\n",
    "**Note**: Don't worry if your values don't seem to make intuitive sense.  We made up the weather probabilities."
   ]
  },
  {
   "cell_type": "code",
   "execution_count": 17,
   "metadata": {
    "collapsed": true
   },
   "outputs": [],
   "source": [
    "city_weather = {\n",
    "    'New York': 'rainy',\n",
    "    'Chicago': 'snowy',\n",
    "    'Seattle': 'rainy',\n",
    "    'Boston': 'hailing',\n",
    "    'Miami': 'windy',\n",
    "    'Los Angeles': 'cloudy',\n",
    "    'San Fransisco': 'windy'\n",
    "}"
   ]
  },
  {
   "cell_type": "code",
   "execution_count": 18,
   "metadata": {
    "collapsed": true
   },
   "outputs": [],
   "source": [
    "from collections import Counter\n",
    "total_predictions = {}\n",
    "nPredictions = 7\n",
    "nSimulations = 100\n",
    "\n",
    "m1 = Markov()\n",
    "m1.load_data(data)\n",
    "\n",
    "for city, weather in city_weather.items():    \n",
    "    m1.set_current(weather)\n",
    "    simulations = []\n",
    "    for i in range(nSimulations):\n",
    "        predictor = iter(m1)\n",
    "        next(predictor)\n",
    "        predictions = []\n",
    "        for j in range(nPredictions):\n",
    "            predictions.append(next(predictor))\n",
    "        simulations.append(predictions)\n",
    "    total_predictions[city] = simulations\n",
    "    \n",
    "city_weather_predictions = {}\n",
    "for c, w in total_predictions.items():\n",
    "    most_common = []\n",
    "    for i in range(nPredictions):\n",
    "        each_day = [item[i] for item in total_predictions[c]]\n",
    "        most_common.append(Counter(each_day).most_common(1)[0][0])\n",
    "    city_weather_predictions[c] = most_common"
   ]
  },
  {
   "cell_type": "code",
   "execution_count": 19,
   "metadata": {},
   "outputs": [
    {
     "data": {
      "text/plain": [
       "{'Boston': ['rainy',\n",
       "  'cloudy',\n",
       "  'cloudy',\n",
       "  'cloudy',\n",
       "  'cloudy',\n",
       "  'cloudy',\n",
       "  'sunny'],\n",
       " 'Chicago': ['snowy', 'cloudy', 'sunny', 'sunny', 'sunny', 'sunny', 'cloudy'],\n",
       " 'Los Angeles': ['sunny',\n",
       "  'cloudy',\n",
       "  'sunny',\n",
       "  'cloudy',\n",
       "  'sunny',\n",
       "  'cloudy',\n",
       "  'sunny'],\n",
       " 'Miami': ['cloudy',\n",
       "  'cloudy',\n",
       "  'cloudy',\n",
       "  'cloudy',\n",
       "  'cloudy',\n",
       "  'sunny',\n",
       "  'cloudy'],\n",
       " 'New York': ['rainy',\n",
       "  'cloudy',\n",
       "  'cloudy',\n",
       "  'cloudy',\n",
       "  'cloudy',\n",
       "  'cloudy',\n",
       "  'cloudy'],\n",
       " 'San Fransisco': ['windy',\n",
       "  'cloudy',\n",
       "  'cloudy',\n",
       "  'cloudy',\n",
       "  'cloudy',\n",
       "  'cloudy',\n",
       "  'cloudy'],\n",
       " 'Seattle': ['rainy',\n",
       "  'cloudy',\n",
       "  'cloudy',\n",
       "  'cloudy',\n",
       "  'cloudy',\n",
       "  'cloudy',\n",
       "  'cloudy']}"
      ]
     },
     "execution_count": 19,
     "metadata": {},
     "output_type": "execute_result"
    }
   ],
   "source": [
    "city_weather_predictions"
   ]
  },
  {
   "cell_type": "code",
   "execution_count": null,
   "metadata": {
    "collapsed": true
   },
   "outputs": [],
   "source": []
  }
 ],
 "metadata": {
  "kernelspec": {
   "display_name": "Python 3",
   "language": "python",
   "name": "python3"
  },
  "language_info": {
   "codemirror_mode": {
    "name": "ipython",
    "version": 3
   },
   "file_extension": ".py",
   "mimetype": "text/x-python",
   "name": "python",
   "nbconvert_exporter": "python",
   "pygments_lexer": "ipython3",
   "version": "3.6.3"
  }
 },
 "nbformat": 4,
 "nbformat_minor": 2
}
