{
 "cells": [
  {
   "cell_type": "markdown",
   "metadata": {},
   "source": [
    "# Question 1: Convert XML to a SQL database"
   ]
  },
  {
   "cell_type": "markdown",
   "metadata": {},
   "source": [
    "Create two tables named `LOW` and `HIGH`, each corresponding to data given for the low and high temperature range.\n",
    "Each should have the following column names:\n",
    "\n",
    "- `SPECIES_NAME`\n",
    "- `TLOW`\n",
    "- `THIGH`\n",
    "- `COEFF_1`\n",
    "- `COEFF_2`\n",
    "- `COEFF_3`\n",
    "- `COEFF_4`\n",
    "- `COEFF_5`\n",
    "- `COEFF_6`\n",
    "- `COEFF_7`\n",
    "\n",
    "Populate the tables using the XML file you created in last assignment. If you did not complete the last assignment, you may also use the `example_thermo.xml` file.\n",
    "\n",
    "`TLOW` should refer to the temperature at the low range and `THIGH` should refer to the temperature at the high range.  For example, in the `LOW` table, $H$ would have `TLOW` at $200$ and `THIGH` at $1000$ and in the `HIGH` table, $H$ would have `TLOW` at $1000$ and `THIGH` at $3500$.\n",
    "\n",
    "For both tables, `COEFF_1` through `COEFF_7` should be populated with the corresponding coefficients for the low temperature data and high temperature data."
   ]
  },
  {
   "cell_type": "code",
   "execution_count": 1,
   "metadata": {
    "collapsed": true
   },
   "outputs": [],
   "source": [
    "import xml.etree.ElementTree as ET\n",
    "import sqlite3\n",
    "import pandas as pd\n",
    "import numpy as np\n",
    "pd.set_option('display.width', 500)\n",
    "pd.set_option('display.max_columns', 100)\n",
    "pd.set_option('display.notebook_repr_html', True)"
   ]
  },
  {
   "cell_type": "code",
   "execution_count": 2,
   "metadata": {},
   "outputs": [
    {
     "data": {
      "text/plain": [
       "['H', 'O', 'OH', 'H2', 'O2', 'H2O', 'HO2', 'H2O2', 'N2', 'Hp', 'Op']"
      ]
     },
     "execution_count": 2,
     "metadata": {},
     "output_type": "execute_result"
    }
   ],
   "source": [
    "tree = ET.parse('example_thermo.xml')\n",
    "root = tree.getroot()\n",
    "species = root.find(\"phase\")\n",
    "species_array = species.find(\"speciesArray\").text\n",
    "species_name = species_array.split()\n",
    "\n",
    "species_name"
   ]
  },
  {
   "cell_type": "code",
   "execution_count": 3,
   "metadata": {
    "collapsed": true
   },
   "outputs": [],
   "source": [
    "dic = {}\n",
    "for specie in root.findall(\"speciesData\"):\n",
    "    for s in specie.findall(\"species\"):\n",
    "        name = s.get(\"name\")\n",
    "        dic[name] = {}\n",
    "        coeffs = s.find(\"thermo\").findall(\"NASA\")\n",
    "        T_max = []\n",
    "        T_min = []\n",
    "        coeff = []\n",
    "        for c in coeffs:\n",
    "            T_max.append(c.get(\"Tmax\"))\n",
    "            T_min.append(c.get(\"Tmin\"))   \n",
    "            coeff.append(c.find(\"floatArray\").text.strip().split(','))\n",
    "        dic[name][\"TMAX\"] = T_max\n",
    "        dic[name][\"TMIN\"] = T_min\n",
    "        dic[name][\"coeffs\"] = coeff"
   ]
  },
  {
   "cell_type": "code",
   "execution_count": 4,
   "metadata": {
    "scrolled": false
   },
   "outputs": [],
   "source": [
    "# dic"
   ]
  },
  {
   "cell_type": "code",
   "execution_count": 5,
   "metadata": {
    "collapsed": true
   },
   "outputs": [],
   "source": [
    "db = sqlite3.connect('HW10.sqlite')\n",
    "cursor = db.cursor()\n",
    "cursor.execute(\"DROP TABLE IF EXISTS HIGH\")\n",
    "cursor.execute(\"DROP TABLE IF EXISTS LOW\")\n",
    "cursor.execute(\"PRAGMA foreign_keys=1\")\n",
    "\n",
    "cursor.execute('''CREATE TABLE HIGH (\n",
    "               SPECIES_NAME TEXT PRIMARY KEY NOT NULL, \n",
    "               TLOW FLOAT, \n",
    "               THIGH FLOAT, \n",
    "               COEFF_1 FLOAT,\n",
    "               COEFF_2 FLOAT,\n",
    "               COEFF_3 FLOAT,\n",
    "               COEFF_4 FLOAT,\n",
    "               COEFF_5 FLOAT,\n",
    "               COEFF_6 FLOAT,\n",
    "               COEFF_7 FLOAT)''')\n",
    "\n",
    "cursor.execute('''CREATE TABLE LOW (\n",
    "               SPECIES_NAME TEXT PRIMARY KEY NOT NULL, \n",
    "               TLOW FLOAT, \n",
    "               THIGH FLOAT, \n",
    "               COEFF_1 FLOAT,\n",
    "               COEFF_2 FLOAT,\n",
    "               COEFF_3 FLOAT,\n",
    "               COEFF_4 FLOAT,\n",
    "               COEFF_5 FLOAT,\n",
    "               COEFF_6 FLOAT,\n",
    "               COEFF_7 FLOAT)''')\n",
    "\n",
    "db.commit() # Commit changes to the database"
   ]
  },
  {
   "cell_type": "code",
   "execution_count": 6,
   "metadata": {
    "collapsed": true
   },
   "outputs": [],
   "source": [
    "def viz_tables(cols, query):\n",
    "    q = cursor.execute(query).fetchall()\n",
    "    framelist = []\n",
    "    for i, col_name in enumerate(cols):\n",
    "        framelist.append((col_name, [col[i] for col in q]))\n",
    "    return pd.DataFrame.from_items(framelist)"
   ]
  },
  {
   "cell_type": "code",
   "execution_count": 7,
   "metadata": {
    "collapsed": true
   },
   "outputs": [],
   "source": [
    "for key, value in dic.items():\n",
    "    vals_to_insert_low = (key, float(value[\"TMIN\"][0]), float(value[\"TMAX\"][0]), float(value[\"coeffs\"][0][0]), \\\n",
    "                           float(value[\"coeffs\"][0][1]), float(value[\"coeffs\"][0][2]), \\\n",
    "                           float(value[\"coeffs\"][0][3]), float(value[\"coeffs\"][0][4]), \\\n",
    "                           float(value[\"coeffs\"][0][5]), float(value[\"coeffs\"][0][6]))\n",
    "    cursor.execute('''INSERT INTO LOW \n",
    "                  (SPECIES_NAME, TLOW, THIGH, COEFF_1, COEFF_2, COEFF_3, COEFF_4, COEFF_5, COEFF_6, COEFF_7)\n",
    "                  VALUES (?, ?, ?, ?, ?, ?, ?, ?, ?, ?)''', vals_to_insert_low)\n"
   ]
  },
  {
   "cell_type": "code",
   "execution_count": 8,
   "metadata": {},
   "outputs": [
    {
     "data": {
      "text/html": [
       "<div>\n",
       "<style>\n",
       "    .dataframe thead tr:only-child th {\n",
       "        text-align: right;\n",
       "    }\n",
       "\n",
       "    .dataframe thead th {\n",
       "        text-align: left;\n",
       "    }\n",
       "\n",
       "    .dataframe tbody tr th {\n",
       "        vertical-align: top;\n",
       "    }\n",
       "</style>\n",
       "<table border=\"1\" class=\"dataframe\">\n",
       "  <thead>\n",
       "    <tr style=\"text-align: right;\">\n",
       "      <th></th>\n",
       "      <th>SPECIES_NAME</th>\n",
       "      <th>TLOW</th>\n",
       "      <th>THIGH</th>\n",
       "      <th>COEFF_1</th>\n",
       "      <th>COEFF_2</th>\n",
       "      <th>COEFF_3</th>\n",
       "      <th>COEFF_4</th>\n",
       "      <th>COEFF_5</th>\n",
       "      <th>COEFF_6</th>\n",
       "      <th>COEFF_7</th>\n",
       "    </tr>\n",
       "  </thead>\n",
       "  <tbody>\n",
       "    <tr>\n",
       "      <th>0</th>\n",
       "      <td>H</td>\n",
       "      <td>300.0</td>\n",
       "      <td>1000.0</td>\n",
       "      <td>2.500000</td>\n",
       "      <td>0.000000</td>\n",
       "      <td>0.000000e+00</td>\n",
       "      <td>0.000000e+00</td>\n",
       "      <td>0.000000e+00</td>\n",
       "      <td>25471.627000</td>\n",
       "      <td>-0.460118</td>\n",
       "    </tr>\n",
       "    <tr>\n",
       "      <th>1</th>\n",
       "      <td>O</td>\n",
       "      <td>300.0</td>\n",
       "      <td>1000.0</td>\n",
       "      <td>2.946429</td>\n",
       "      <td>-0.001638</td>\n",
       "      <td>2.421032e-06</td>\n",
       "      <td>-1.602843e-09</td>\n",
       "      <td>3.890696e-13</td>\n",
       "      <td>29147.644500</td>\n",
       "      <td>2.963995</td>\n",
       "    </tr>\n",
       "    <tr>\n",
       "      <th>2</th>\n",
       "      <td>OH</td>\n",
       "      <td>200.0</td>\n",
       "      <td>1000.0</td>\n",
       "      <td>4.125306</td>\n",
       "      <td>-0.003225</td>\n",
       "      <td>6.527647e-06</td>\n",
       "      <td>-5.798536e-09</td>\n",
       "      <td>2.062374e-12</td>\n",
       "      <td>3346.309130</td>\n",
       "      <td>-0.690433</td>\n",
       "    </tr>\n",
       "    <tr>\n",
       "      <th>3</th>\n",
       "      <td>H2</td>\n",
       "      <td>300.0</td>\n",
       "      <td>1000.0</td>\n",
       "      <td>3.298124</td>\n",
       "      <td>0.000825</td>\n",
       "      <td>-8.143015e-07</td>\n",
       "      <td>-9.475434e-11</td>\n",
       "      <td>4.134872e-13</td>\n",
       "      <td>-1012.520870</td>\n",
       "      <td>-3.294094</td>\n",
       "    </tr>\n",
       "    <tr>\n",
       "      <th>4</th>\n",
       "      <td>O2</td>\n",
       "      <td>300.0</td>\n",
       "      <td>1000.0</td>\n",
       "      <td>3.212936</td>\n",
       "      <td>0.001127</td>\n",
       "      <td>-5.756150e-07</td>\n",
       "      <td>1.313877e-09</td>\n",
       "      <td>-8.768554e-13</td>\n",
       "      <td>-1005.249020</td>\n",
       "      <td>6.034738</td>\n",
       "    </tr>\n",
       "    <tr>\n",
       "      <th>5</th>\n",
       "      <td>H2O</td>\n",
       "      <td>300.0</td>\n",
       "      <td>1000.0</td>\n",
       "      <td>3.386842</td>\n",
       "      <td>0.003475</td>\n",
       "      <td>-6.354696e-06</td>\n",
       "      <td>6.968581e-09</td>\n",
       "      <td>-2.506588e-12</td>\n",
       "      <td>-30208.113300</td>\n",
       "      <td>2.590233</td>\n",
       "    </tr>\n",
       "    <tr>\n",
       "      <th>6</th>\n",
       "      <td>HO2</td>\n",
       "      <td>200.0</td>\n",
       "      <td>1000.0</td>\n",
       "      <td>4.301798</td>\n",
       "      <td>-0.004749</td>\n",
       "      <td>2.115829e-05</td>\n",
       "      <td>-2.427639e-08</td>\n",
       "      <td>9.292251e-12</td>\n",
       "      <td>294.808040</td>\n",
       "      <td>3.716662</td>\n",
       "    </tr>\n",
       "    <tr>\n",
       "      <th>7</th>\n",
       "      <td>H2O2</td>\n",
       "      <td>300.0</td>\n",
       "      <td>1000.0</td>\n",
       "      <td>3.388754</td>\n",
       "      <td>0.006569</td>\n",
       "      <td>-1.485013e-07</td>\n",
       "      <td>-4.625806e-09</td>\n",
       "      <td>2.471515e-12</td>\n",
       "      <td>-17663.146500</td>\n",
       "      <td>6.785363</td>\n",
       "    </tr>\n",
       "    <tr>\n",
       "      <th>8</th>\n",
       "      <td>N2</td>\n",
       "      <td>300.0</td>\n",
       "      <td>1000.0</td>\n",
       "      <td>3.298677</td>\n",
       "      <td>0.001408</td>\n",
       "      <td>-3.963222e-06</td>\n",
       "      <td>5.641515e-09</td>\n",
       "      <td>-2.444855e-12</td>\n",
       "      <td>-1020.900000</td>\n",
       "      <td>3.950372</td>\n",
       "    </tr>\n",
       "    <tr>\n",
       "      <th>9</th>\n",
       "      <td>Hp</td>\n",
       "      <td>300.0</td>\n",
       "      <td>1000.0</td>\n",
       "      <td>1.642435</td>\n",
       "      <td>0.000290</td>\n",
       "      <td>0.000000e+00</td>\n",
       "      <td>0.000000e+00</td>\n",
       "      <td>0.000000e+00</td>\n",
       "      <td>-4.695103</td>\n",
       "      <td>-11.148334</td>\n",
       "    </tr>\n",
       "    <tr>\n",
       "      <th>10</th>\n",
       "      <td>Op</td>\n",
       "      <td>300.0</td>\n",
       "      <td>1000.0</td>\n",
       "      <td>1.642435</td>\n",
       "      <td>0.000290</td>\n",
       "      <td>0.000000e+00</td>\n",
       "      <td>0.000000e+00</td>\n",
       "      <td>0.000000e+00</td>\n",
       "      <td>-4.695103</td>\n",
       "      <td>-14.467683</td>\n",
       "    </tr>\n",
       "  </tbody>\n",
       "</table>\n",
       "</div>"
      ],
      "text/plain": [
       "   SPECIES_NAME   TLOW   THIGH   COEFF_1   COEFF_2       COEFF_3       COEFF_4       COEFF_5       COEFF_6    COEFF_7\n",
       "0             H  300.0  1000.0  2.500000  0.000000  0.000000e+00  0.000000e+00  0.000000e+00  25471.627000  -0.460118\n",
       "1             O  300.0  1000.0  2.946429 -0.001638  2.421032e-06 -1.602843e-09  3.890696e-13  29147.644500   2.963995\n",
       "2            OH  200.0  1000.0  4.125306 -0.003225  6.527647e-06 -5.798536e-09  2.062374e-12   3346.309130  -0.690433\n",
       "3            H2  300.0  1000.0  3.298124  0.000825 -8.143015e-07 -9.475434e-11  4.134872e-13  -1012.520870  -3.294094\n",
       "4            O2  300.0  1000.0  3.212936  0.001127 -5.756150e-07  1.313877e-09 -8.768554e-13  -1005.249020   6.034738\n",
       "5           H2O  300.0  1000.0  3.386842  0.003475 -6.354696e-06  6.968581e-09 -2.506588e-12 -30208.113300   2.590233\n",
       "6           HO2  200.0  1000.0  4.301798 -0.004749  2.115829e-05 -2.427639e-08  9.292251e-12    294.808040   3.716662\n",
       "7          H2O2  300.0  1000.0  3.388754  0.006569 -1.485013e-07 -4.625806e-09  2.471515e-12 -17663.146500   6.785363\n",
       "8            N2  300.0  1000.0  3.298677  0.001408 -3.963222e-06  5.641515e-09 -2.444855e-12  -1020.900000   3.950372\n",
       "9            Hp  300.0  1000.0  1.642435  0.000290  0.000000e+00  0.000000e+00  0.000000e+00     -4.695103 -11.148334\n",
       "10           Op  300.0  1000.0  1.642435  0.000290  0.000000e+00  0.000000e+00  0.000000e+00     -4.695103 -14.467683"
      ]
     },
     "execution_count": 8,
     "metadata": {},
     "output_type": "execute_result"
    }
   ],
   "source": [
    "LOW_cols = [col[1] for col in cursor.execute(\"PRAGMA table_info(LOW)\")]\n",
    "query_LOW = '''SELECT * FROM LOW'''\n",
    "viz_tables(LOW_cols, query_LOW)"
   ]
  },
  {
   "cell_type": "code",
   "execution_count": 9,
   "metadata": {
    "collapsed": true
   },
   "outputs": [],
   "source": [
    "for key, value in dic.items():\n",
    "    vals_to_insert_high = (key, float(value[\"TMIN\"][1]), float(value[\"TMAX\"][1]), float(value[\"coeffs\"][1][0]), \\\n",
    "                          float(value[\"coeffs\"][1][1]), float(value[\"coeffs\"][1][2]), \\\n",
    "                          float(value[\"coeffs\"][1][3]), float(value[\"coeffs\"][1][4]), \\\n",
    "                          float(value[\"coeffs\"][1][5]), float(value[\"coeffs\"][1][6]))\n",
    "    cursor.execute('''INSERT INTO HIGH \n",
    "                  (SPECIES_NAME, TLOW, THIGH, COEFF_1, COEFF_2, COEFF_3, COEFF_4, COEFF_5, COEFF_6, COEFF_7)\n",
    "                  VALUES (?, ?, ?, ?, ?, ?, ?, ?, ?, ?)''', vals_to_insert_high)"
   ]
  },
  {
   "cell_type": "code",
   "execution_count": 10,
   "metadata": {},
   "outputs": [
    {
     "data": {
      "text/html": [
       "<div>\n",
       "<style>\n",
       "    .dataframe thead tr:only-child th {\n",
       "        text-align: right;\n",
       "    }\n",
       "\n",
       "    .dataframe thead th {\n",
       "        text-align: left;\n",
       "    }\n",
       "\n",
       "    .dataframe tbody tr th {\n",
       "        vertical-align: top;\n",
       "    }\n",
       "</style>\n",
       "<table border=\"1\" class=\"dataframe\">\n",
       "  <thead>\n",
       "    <tr style=\"text-align: right;\">\n",
       "      <th></th>\n",
       "      <th>SPECIES_NAME</th>\n",
       "      <th>TLOW</th>\n",
       "      <th>THIGH</th>\n",
       "      <th>COEFF_1</th>\n",
       "      <th>COEFF_2</th>\n",
       "      <th>COEFF_3</th>\n",
       "      <th>COEFF_4</th>\n",
       "      <th>COEFF_5</th>\n",
       "      <th>COEFF_6</th>\n",
       "      <th>COEFF_7</th>\n",
       "    </tr>\n",
       "  </thead>\n",
       "  <tbody>\n",
       "    <tr>\n",
       "      <th>0</th>\n",
       "      <td>H</td>\n",
       "      <td>1000.0</td>\n",
       "      <td>5000.0</td>\n",
       "      <td>2.500000</td>\n",
       "      <td>0.000000</td>\n",
       "      <td>0.000000e+00</td>\n",
       "      <td>0.000000e+00</td>\n",
       "      <td>0.000000e+00</td>\n",
       "      <td>25471.627000</td>\n",
       "      <td>-0.460118</td>\n",
       "    </tr>\n",
       "    <tr>\n",
       "      <th>1</th>\n",
       "      <td>O</td>\n",
       "      <td>1000.0</td>\n",
       "      <td>5000.0</td>\n",
       "      <td>2.542060</td>\n",
       "      <td>-0.000028</td>\n",
       "      <td>-3.102803e-09</td>\n",
       "      <td>4.551067e-12</td>\n",
       "      <td>-4.368051e-16</td>\n",
       "      <td>29230.802700</td>\n",
       "      <td>4.920308</td>\n",
       "    </tr>\n",
       "    <tr>\n",
       "      <th>2</th>\n",
       "      <td>OH</td>\n",
       "      <td>1000.0</td>\n",
       "      <td>6000.0</td>\n",
       "      <td>2.864729</td>\n",
       "      <td>0.001057</td>\n",
       "      <td>-2.590828e-07</td>\n",
       "      <td>3.052187e-11</td>\n",
       "      <td>-1.331959e-15</td>\n",
       "      <td>3683.628750</td>\n",
       "      <td>5.701641</td>\n",
       "    </tr>\n",
       "    <tr>\n",
       "      <th>3</th>\n",
       "      <td>H2</td>\n",
       "      <td>1000.0</td>\n",
       "      <td>5000.0</td>\n",
       "      <td>2.991423</td>\n",
       "      <td>0.000700</td>\n",
       "      <td>-5.633829e-08</td>\n",
       "      <td>-9.231578e-12</td>\n",
       "      <td>1.582752e-15</td>\n",
       "      <td>-835.033997</td>\n",
       "      <td>-1.355110</td>\n",
       "    </tr>\n",
       "    <tr>\n",
       "      <th>4</th>\n",
       "      <td>O2</td>\n",
       "      <td>1000.0</td>\n",
       "      <td>5000.0</td>\n",
       "      <td>3.697578</td>\n",
       "      <td>0.000614</td>\n",
       "      <td>-1.258842e-07</td>\n",
       "      <td>1.775281e-11</td>\n",
       "      <td>-1.136435e-15</td>\n",
       "      <td>-1233.930180</td>\n",
       "      <td>3.189166</td>\n",
       "    </tr>\n",
       "    <tr>\n",
       "      <th>5</th>\n",
       "      <td>H2O</td>\n",
       "      <td>1000.0</td>\n",
       "      <td>5000.0</td>\n",
       "      <td>2.672146</td>\n",
       "      <td>0.003056</td>\n",
       "      <td>-8.730260e-07</td>\n",
       "      <td>1.200996e-10</td>\n",
       "      <td>-6.391618e-15</td>\n",
       "      <td>-29899.209000</td>\n",
       "      <td>6.862817</td>\n",
       "    </tr>\n",
       "    <tr>\n",
       "      <th>6</th>\n",
       "      <td>HO2</td>\n",
       "      <td>1000.0</td>\n",
       "      <td>3500.0</td>\n",
       "      <td>4.017211</td>\n",
       "      <td>0.002240</td>\n",
       "      <td>-6.336581e-07</td>\n",
       "      <td>1.142464e-10</td>\n",
       "      <td>-1.079085e-14</td>\n",
       "      <td>111.856713</td>\n",
       "      <td>3.785102</td>\n",
       "    </tr>\n",
       "    <tr>\n",
       "      <th>7</th>\n",
       "      <td>H2O2</td>\n",
       "      <td>1000.0</td>\n",
       "      <td>5000.0</td>\n",
       "      <td>4.573167</td>\n",
       "      <td>0.004336</td>\n",
       "      <td>-1.474689e-06</td>\n",
       "      <td>2.348904e-10</td>\n",
       "      <td>-1.431654e-14</td>\n",
       "      <td>-18006.960900</td>\n",
       "      <td>0.501137</td>\n",
       "    </tr>\n",
       "    <tr>\n",
       "      <th>8</th>\n",
       "      <td>N2</td>\n",
       "      <td>1000.0</td>\n",
       "      <td>5000.0</td>\n",
       "      <td>2.926640</td>\n",
       "      <td>0.001488</td>\n",
       "      <td>-5.684761e-07</td>\n",
       "      <td>1.009704e-10</td>\n",
       "      <td>-6.753351e-15</td>\n",
       "      <td>-922.797700</td>\n",
       "      <td>5.980528</td>\n",
       "    </tr>\n",
       "    <tr>\n",
       "      <th>9</th>\n",
       "      <td>Hp</td>\n",
       "      <td>1000.0</td>\n",
       "      <td>5000.0</td>\n",
       "      <td>1.642435</td>\n",
       "      <td>0.000290</td>\n",
       "      <td>0.000000e+00</td>\n",
       "      <td>0.000000e+00</td>\n",
       "      <td>0.000000e+00</td>\n",
       "      <td>-4.695103</td>\n",
       "      <td>-11.148334</td>\n",
       "    </tr>\n",
       "    <tr>\n",
       "      <th>10</th>\n",
       "      <td>Op</td>\n",
       "      <td>1000.0</td>\n",
       "      <td>5000.0</td>\n",
       "      <td>1.642435</td>\n",
       "      <td>0.000290</td>\n",
       "      <td>0.000000e+00</td>\n",
       "      <td>0.000000e+00</td>\n",
       "      <td>0.000000e+00</td>\n",
       "      <td>-4.695103</td>\n",
       "      <td>-14.467683</td>\n",
       "    </tr>\n",
       "  </tbody>\n",
       "</table>\n",
       "</div>"
      ],
      "text/plain": [
       "   SPECIES_NAME    TLOW   THIGH   COEFF_1   COEFF_2       COEFF_3       COEFF_4       COEFF_5       COEFF_6    COEFF_7\n",
       "0             H  1000.0  5000.0  2.500000  0.000000  0.000000e+00  0.000000e+00  0.000000e+00  25471.627000  -0.460118\n",
       "1             O  1000.0  5000.0  2.542060 -0.000028 -3.102803e-09  4.551067e-12 -4.368051e-16  29230.802700   4.920308\n",
       "2            OH  1000.0  6000.0  2.864729  0.001057 -2.590828e-07  3.052187e-11 -1.331959e-15   3683.628750   5.701641\n",
       "3            H2  1000.0  5000.0  2.991423  0.000700 -5.633829e-08 -9.231578e-12  1.582752e-15   -835.033997  -1.355110\n",
       "4            O2  1000.0  5000.0  3.697578  0.000614 -1.258842e-07  1.775281e-11 -1.136435e-15  -1233.930180   3.189166\n",
       "5           H2O  1000.0  5000.0  2.672146  0.003056 -8.730260e-07  1.200996e-10 -6.391618e-15 -29899.209000   6.862817\n",
       "6           HO2  1000.0  3500.0  4.017211  0.002240 -6.336581e-07  1.142464e-10 -1.079085e-14    111.856713   3.785102\n",
       "7          H2O2  1000.0  5000.0  4.573167  0.004336 -1.474689e-06  2.348904e-10 -1.431654e-14 -18006.960900   0.501137\n",
       "8            N2  1000.0  5000.0  2.926640  0.001488 -5.684761e-07  1.009704e-10 -6.753351e-15   -922.797700   5.980528\n",
       "9            Hp  1000.0  5000.0  1.642435  0.000290  0.000000e+00  0.000000e+00  0.000000e+00     -4.695103 -11.148334\n",
       "10           Op  1000.0  5000.0  1.642435  0.000290  0.000000e+00  0.000000e+00  0.000000e+00     -4.695103 -14.467683"
      ]
     },
     "execution_count": 10,
     "metadata": {},
     "output_type": "execute_result"
    }
   ],
   "source": [
    "HIGH_cols = [col[1] for col in cursor.execute(\"PRAGMA table_info(HIGH)\")]\n",
    "query_HIGH = '''SELECT * FROM HIGH'''\n",
    "viz_tables(HIGH_cols, query_HIGH)"
   ]
  },
  {
   "cell_type": "markdown",
   "metadata": {},
   "source": [
    "# Question 2: `WHERE` Statements"
   ]
  },
  {
   "cell_type": "markdown",
   "metadata": {},
   "source": [
    "1. Write a `Python` function `get_coeffs` that returns an array of 7 coefficients.  \n",
    "   \n",
    "   The function should take in two parameters: 1.) `species_name` and 2.) `temp_range`, an indicator variable ('low' or 'high') to indicate whether the coefficients should come from the low or high temperature range.  \n",
    "   The function should use `SQL` commands and `WHERE` statements on the table you just created in Question 1 (rather than taking data from the XML directly).\n",
    "```python\n",
    "def get_coeffs(species_name, temp_range):\n",
    "    ''' Fill in here'''\n",
    "    return coeffs\n",
    "```\n",
    "\n",
    "2. Write a python function `get_species` that returns all species that have a temperature range above or below a given value. The function should take in two parameters: 1.) `temp` and 2.) `temp_range`, an indicator variable ('low' or 'high').\n",
    "\n",
    "  When temp_range is 'low', we are looking for species with a temperature range lower than the given temperature, and for a 'high' temp_range, we want species with a temperature range higher than the given temperature.\n",
    "\n",
    "  This exercise may be useful if different species have different `LOW` and `HIGH` ranges.\n",
    "\n",
    "  And as before, you should accomplish this through `SQL` queries and where statements.\n",
    "\n",
    "```python\n",
    "def get_species(temp, temp_range):\n",
    "    ''' Fill in here'''\n",
    "    return coeffs\n",
    "```"
   ]
  },
  {
   "cell_type": "code",
   "execution_count": 11,
   "metadata": {
    "collapsed": true
   },
   "outputs": [],
   "source": [
    "def get_coeffs(species_name, temp_range):\n",
    "    if temp_range == 'high':\n",
    "        query = '''SELECT COEFF_1, COEFF_2, COEFF_3, COEFF_4, COEFF_5, COEFF_6, COEFF_7 FROM HIGH WHERE SPECIES_NAME=\"{}\"'''.format(species_name)\n",
    "    elif temp_range == 'low':\n",
    "        query = '''SELECT COEFF_1, COEFF_2, COEFF_3, COEFF_4, COEFF_5, COEFF_6, COEFF_7 FROM LOW WHERE SPECIES_NAME=\"{}\"'''.format(species_name)\n",
    "    coeffs_list = cursor.execute(query).fetchall()\n",
    "    coeffs = np.asarray(coeffs_list)\n",
    "    return coeffs"
   ]
  },
  {
   "cell_type": "code",
   "execution_count": 12,
   "metadata": {},
   "outputs": [
    {
     "data": {
      "text/plain": [
       "array([[  2.54205966e+00,  -2.75506191e-05,  -3.10280335e-09,\n",
       "          4.55106742e-12,  -4.36805150e-16,   2.92308027e+04,\n",
       "          4.92030811e+00]])"
      ]
     },
     "execution_count": 12,
     "metadata": {},
     "output_type": "execute_result"
    }
   ],
   "source": [
    "get_coeffs('O', 'high')"
   ]
  },
  {
   "cell_type": "code",
   "execution_count": 13,
   "metadata": {},
   "outputs": [
    {
     "data": {
      "text/plain": [
       "array([[  2.50000000e+00,   0.00000000e+00,   0.00000000e+00,\n",
       "          0.00000000e+00,   0.00000000e+00,   2.54716270e+04,\n",
       "         -4.60117608e-01]])"
      ]
     },
     "execution_count": 13,
     "metadata": {},
     "output_type": "execute_result"
    }
   ],
   "source": [
    "get_coeffs('H', 'low')"
   ]
  },
  {
   "cell_type": "code",
   "execution_count": 14,
   "metadata": {
    "collapsed": true
   },
   "outputs": [],
   "source": [
    "def get_species(temp, temp_range):\n",
    "    if temp_range == 'high':\n",
    "        query = '''SELECT SPECIES_NAME FROM HIGH WHERE THIGH > \"{}\"'''.format(temp)\n",
    "    elif temp_range == 'low':\n",
    "        query = '''SELECT SPECIES_NAME FROM LOW WHERE TLOW < \"{}\"''' .format(temp)\n",
    "    names_tuple = cursor.execute(query).fetchall()\n",
    "    names = [x[0] for x in names_tuple]\n",
    "    return names"
   ]
  },
  {
   "cell_type": "code",
   "execution_count": 15,
   "metadata": {},
   "outputs": [
    {
     "data": {
      "text/plain": [
       "['OH']"
      ]
     },
     "execution_count": 15,
     "metadata": {},
     "output_type": "execute_result"
    }
   ],
   "source": [
    "get_species(5100, 'high')"
   ]
  },
  {
   "cell_type": "code",
   "execution_count": 16,
   "metadata": {},
   "outputs": [
    {
     "data": {
      "text/plain": [
       "['OH', 'HO2']"
      ]
     },
     "execution_count": 16,
     "metadata": {},
     "output_type": "execute_result"
    }
   ],
   "source": [
    "get_species(250, 'low')"
   ]
  },
  {
   "cell_type": "markdown",
   "metadata": {},
   "source": [
    "# Question 3: `JOIN` STATEMENTS"
   ]
  },
  {
   "cell_type": "markdown",
   "metadata": {},
   "source": [
    "Create a table named `ALL_TEMPS` that has the following columns:\n",
    "\n",
    "- `SPECIES_NAME`\n",
    "- `TEMP_LOW`\n",
    "- `TEMP_HIGH`\n",
    "\n",
    "This table should be created by joining the tables `LOW` and `HIGH` on the value `SPECIES_NAME`."
   ]
  },
  {
   "cell_type": "markdown",
   "metadata": {},
   "source": [
    "1. Write a `Python` function `get_range` that returns the range of temperatures for a given species_name.\n",
    "\n",
    "The range should be computed within the `SQL` query (i.e. you should subtract within the `SELECT` statement in the `SQL` query).\n",
    "```python\n",
    "def get_range(species_name):\n",
    "    '''Fill in here'''\n",
    "    return range\n",
    "```\n",
    "\n",
    "Note that `TEMP_LOW` is the lowest temperature in the `LOW` range and `TEMP_HIGH` is the highest temperature in the `HIGH` range."
   ]
  },
  {
   "cell_type": "code",
   "execution_count": 17,
   "metadata": {
    "collapsed": true
   },
   "outputs": [],
   "source": [
    "cursor.execute(\"DROP TABLE IF EXISTS ALL_TEMPS\")\n",
    "cursor.execute('''CREATE TABLE ALL_TEMPS (\n",
    "               SPECIES_NAME TEXT PRIMARY KEY NOT NULL, \n",
    "               TEMP_LOW FLOAT, \n",
    "               TEMP_HIGH FLOAT)''')\n",
    "\n",
    "db.commit()"
   ]
  },
  {
   "cell_type": "code",
   "execution_count": 18,
   "metadata": {},
   "outputs": [
    {
     "data": {
      "text/html": [
       "<div>\n",
       "<style>\n",
       "    .dataframe thead tr:only-child th {\n",
       "        text-align: right;\n",
       "    }\n",
       "\n",
       "    .dataframe thead th {\n",
       "        text-align: left;\n",
       "    }\n",
       "\n",
       "    .dataframe tbody tr th {\n",
       "        vertical-align: top;\n",
       "    }\n",
       "</style>\n",
       "<table border=\"1\" class=\"dataframe\">\n",
       "  <thead>\n",
       "    <tr style=\"text-align: right;\">\n",
       "      <th></th>\n",
       "      <th>SPECIES_NAME</th>\n",
       "      <th>TEMP_LOW</th>\n",
       "      <th>TEMP_HIGH</th>\n",
       "    </tr>\n",
       "  </thead>\n",
       "  <tbody>\n",
       "    <tr>\n",
       "      <th>0</th>\n",
       "      <td>H</td>\n",
       "      <td>300.0</td>\n",
       "      <td>5000.0</td>\n",
       "    </tr>\n",
       "    <tr>\n",
       "      <th>1</th>\n",
       "      <td>O</td>\n",
       "      <td>300.0</td>\n",
       "      <td>5000.0</td>\n",
       "    </tr>\n",
       "    <tr>\n",
       "      <th>2</th>\n",
       "      <td>OH</td>\n",
       "      <td>200.0</td>\n",
       "      <td>6000.0</td>\n",
       "    </tr>\n",
       "    <tr>\n",
       "      <th>3</th>\n",
       "      <td>H2</td>\n",
       "      <td>300.0</td>\n",
       "      <td>5000.0</td>\n",
       "    </tr>\n",
       "    <tr>\n",
       "      <th>4</th>\n",
       "      <td>O2</td>\n",
       "      <td>300.0</td>\n",
       "      <td>5000.0</td>\n",
       "    </tr>\n",
       "    <tr>\n",
       "      <th>5</th>\n",
       "      <td>H2O</td>\n",
       "      <td>300.0</td>\n",
       "      <td>5000.0</td>\n",
       "    </tr>\n",
       "    <tr>\n",
       "      <th>6</th>\n",
       "      <td>HO2</td>\n",
       "      <td>200.0</td>\n",
       "      <td>3500.0</td>\n",
       "    </tr>\n",
       "    <tr>\n",
       "      <th>7</th>\n",
       "      <td>H2O2</td>\n",
       "      <td>300.0</td>\n",
       "      <td>5000.0</td>\n",
       "    </tr>\n",
       "    <tr>\n",
       "      <th>8</th>\n",
       "      <td>N2</td>\n",
       "      <td>300.0</td>\n",
       "      <td>5000.0</td>\n",
       "    </tr>\n",
       "    <tr>\n",
       "      <th>9</th>\n",
       "      <td>Hp</td>\n",
       "      <td>300.0</td>\n",
       "      <td>5000.0</td>\n",
       "    </tr>\n",
       "    <tr>\n",
       "      <th>10</th>\n",
       "      <td>Op</td>\n",
       "      <td>300.0</td>\n",
       "      <td>5000.0</td>\n",
       "    </tr>\n",
       "  </tbody>\n",
       "</table>\n",
       "</div>"
      ],
      "text/plain": [
       "   SPECIES_NAME  TEMP_LOW  TEMP_HIGH\n",
       "0             H     300.0     5000.0\n",
       "1             O     300.0     5000.0\n",
       "2            OH     200.0     6000.0\n",
       "3            H2     300.0     5000.0\n",
       "4            O2     300.0     5000.0\n",
       "5           H2O     300.0     5000.0\n",
       "6           HO2     200.0     3500.0\n",
       "7          H2O2     300.0     5000.0\n",
       "8            N2     300.0     5000.0\n",
       "9            Hp     300.0     5000.0\n",
       "10           Op     300.0     5000.0"
      ]
     },
     "execution_count": 18,
     "metadata": {},
     "output_type": "execute_result"
    }
   ],
   "source": [
    "query_all = '''INSERT INTO ALL_TEMPS SELECT LOW.SPECIES_NAME, LOW.TLOW, HIGH.THIGH FROM LOW INNER JOIN HIGH ON LOW.SPECIES_NAME = HIGH.SPECIES_NAME'''\n",
    "cursor.execute(query_all)\n",
    "ALL_cols = [col[1] for col in cursor.execute(\"PRAGMA table_info(ALL_TEMPS)\")]\n",
    "query_ALL = '''SELECT * FROM ALL_TEMPS'''\n",
    "viz_tables(ALL_cols, query_ALL)"
   ]
  },
  {
   "cell_type": "code",
   "execution_count": 19,
   "metadata": {
    "collapsed": true
   },
   "outputs": [],
   "source": [
    "def get_range(species_name):\n",
    "    query = '''SELECT TEMP_LOW, TEMP_HIGH FROM ALL_TEMPS WHERE SPECIES_NAME = \"{}\"'''.format(species_name)\n",
    "    temp_range = cursor.execute(query).fetchall()\n",
    "    \n",
    "    return temp_range"
   ]
  },
  {
   "cell_type": "code",
   "execution_count": 20,
   "metadata": {},
   "outputs": [
    {
     "data": {
      "text/plain": [
       "[(300.0, 5000.0)]"
      ]
     },
     "execution_count": 20,
     "metadata": {},
     "output_type": "execute_result"
    }
   ],
   "source": [
    "get_range('O')"
   ]
  },
  {
   "cell_type": "code",
   "execution_count": 21,
   "metadata": {},
   "outputs": [
    {
     "data": {
      "text/plain": [
       "[(200.0, 6000.0)]"
      ]
     },
     "execution_count": 21,
     "metadata": {},
     "output_type": "execute_result"
    }
   ],
   "source": [
    "get_range('OH')"
   ]
  },
  {
   "cell_type": "code",
   "execution_count": 22,
   "metadata": {
    "collapsed": true
   },
   "outputs": [],
   "source": [
    "db.commit()"
   ]
  },
  {
   "cell_type": "code",
   "execution_count": 23,
   "metadata": {
    "collapsed": true
   },
   "outputs": [],
   "source": [
    "db.close()"
   ]
  },
  {
   "cell_type": "code",
   "execution_count": null,
   "metadata": {
    "collapsed": true
   },
   "outputs": [],
   "source": []
  }
 ],
 "metadata": {
  "kernelspec": {
   "display_name": "Python 3",
   "language": "python",
   "name": "python3"
  },
  "language_info": {
   "codemirror_mode": {
    "name": "ipython",
    "version": 3
   },
   "file_extension": ".py",
   "mimetype": "text/x-python",
   "name": "python",
   "nbconvert_exporter": "python",
   "pygments_lexer": "ipython3",
   "version": "3.6.3"
  }
 },
 "nbformat": 4,
 "nbformat_minor": 2
}
