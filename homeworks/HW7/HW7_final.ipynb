{
 "cells": [
  {
   "cell_type": "markdown",
   "metadata": {},
   "source": [
    "# Problem 1:  Linked List Class\n",
    "Write a linked list class called `LinkedList`.  Remember, a singly linked list is made up of nodes each of which contain a value and a pointer.  The first node is called the \"head node\".\n",
    "\n",
    "Here are the required methods:\n",
    "* `__init__(self, head)` where `head` is the value of the head node.  You could make the head node an attribute.\n",
    "* `__len__(self)`: Returns the number of elements in the linked list.\n",
    "* `__getitem__(self, index)` returns the value of the node corresponding to `index`.  Include checks to make sure that `index` is not out of range and that the user is not trying to index and empty list.\n",
    "* `__repr__(self)` returns `LinkedList(head_node)`.\n",
    "* `insert_front(self, element)` inserts a new node with value `element` at the beginning of the list.\n",
    "* `insert_back(self, element)` inserts a new node with value `element` at the end of the list."
   ]
  },
  {
   "cell_type": "code",
   "execution_count": 1,
   "metadata": {
    "collapsed": true
   },
   "outputs": [],
   "source": [
    "class Node:\n",
    "    def __init__(self, data, next_node = None):\n",
    "        self.data = data\n",
    "        self.next = next_node\n",
    "\n",
    "class LinkedList:\n",
    "    def __init__(self, head):\n",
    "        self.head = Node(head)\n",
    "        self.size = 1\n",
    "        \n",
    "    def __len__(self):\n",
    "        return self.size\n",
    "        \n",
    "    def __getitem__(self, index):\n",
    "        if not self.head or len(self) <= index:\n",
    "            raise IndexError\n",
    "        else:\n",
    "            iter_node = self.head\n",
    "            pos = index\n",
    "            while pos > 0 and iter_node.next:\n",
    "                iter_node = iter_node.next\n",
    "                pos -= 1\n",
    "            return iter_node.data\n",
    "                   \n",
    "    def __repr__(self):\n",
    "        out = \"\"\n",
    "        iter_node = self.head\n",
    "        while iter_node:\n",
    "            if type(iter_node.data) == str:\n",
    "                iter_node.data = \"'\" + iter_node.data + \"'\"\n",
    "            out += str(iter_node.data) + \", \"\n",
    "            iter_node = iter_node.next\n",
    "        return \"[\" + out[:-2] + \"]\"     \n",
    "               \n",
    "    def insert_front(self, element):\n",
    "        new_node = Node(element, next_node=self.head)\n",
    "        self.head = new_node\n",
    "        self.size += 1\n",
    "        \n",
    "    def insert_back(self, element):\n",
    "        new_node = Node(element)\n",
    "        if self.head == None:\n",
    "            self.head = new_node\n",
    "        else:\n",
    "            iter_node = self.head\n",
    "            while iter_node.next:\n",
    "                iter_node = iter_node.next\n",
    "            iter_node.next = new_node \n",
    "        self.size += 1"
   ]
  },
  {
   "cell_type": "code",
   "execution_count": 2,
   "metadata": {},
   "outputs": [
    {
     "name": "stdout",
     "output_type": "stream",
     "text": [
      "length of list 1\n",
      "first item 3\n",
      "length of list 2\n",
      "2 3\n"
     ]
    }
   ],
   "source": [
    "l = LinkedList(3)\n",
    "print(\"length of list\", len(l))\n",
    "print(\"first item\", l[0])\n",
    "\n",
    "l.insert_front(2)\n",
    "print(\"length of list\", len(l))\n",
    "print(l[0], l[1])"
   ]
  },
  {
   "cell_type": "code",
   "execution_count": 3,
   "metadata": {},
   "outputs": [
    {
     "name": "stdout",
     "output_type": "stream",
     "text": [
      "length of list 3\n",
      "2 3 50\n"
     ]
    }
   ],
   "source": [
    "l.insert_back(50)\n",
    "print(\"length of list\", len(l))\n",
    "print(l[0],l[1],l[2])"
   ]
  },
  {
   "cell_type": "code",
   "execution_count": 4,
   "metadata": {},
   "outputs": [
    {
     "name": "stdout",
     "output_type": "stream",
     "text": [
      "[2, 3, 50]\n"
     ]
    }
   ],
   "source": [
    "print(l)"
   ]
  },
  {
   "cell_type": "code",
   "execution_count": 5,
   "metadata": {},
   "outputs": [
    {
     "name": "stdout",
     "output_type": "stream",
     "text": [
      "length of list: 1\n",
      "first item: hi\n",
      "length of list: 2\n",
      "hello hi\n",
      "length of list: 3\n",
      "hello hi 6\n",
      "['hello', 'hi', 6]\n"
     ]
    }
   ],
   "source": [
    "lst_string = LinkedList(\"hi\")\n",
    "print(\"length of list:\", len(lst_string))\n",
    "print(\"first item:\", lst_string[0])\n",
    "lst_string.insert_front(\"hello\")\n",
    "print(\"length of list:\", len(lst_string))\n",
    "print(lst_string[0], lst_string[1])\n",
    "lst_string.insert_back(6)\n",
    "print(\"length of list:\", len(lst_string))\n",
    "print(lst_string[0],lst_string[1],lst_string[2])\n",
    "print(lst_string)"
   ]
  },
  {
   "cell_type": "code",
   "execution_count": 6,
   "metadata": {},
   "outputs": [
    {
     "name": "stdout",
     "output_type": "stream",
     "text": [
      "['hi', 'hello', 'bye']\n"
     ]
    }
   ],
   "source": [
    "lst = [\"hi\", \"hello\"] + [\"bye\"]\n",
    "print(lst)"
   ]
  },
  {
   "cell_type": "markdown",
   "metadata": {},
   "source": [
    "# Problem 2:  Binary Tree Class\n",
    "A binary search tree is a binary tree with the invariant that for any particular node the left child is smaller and the right child is larger. Create the class `BinaryTree` with the following specifications:\n",
    "\n",
    "`__init__(self)`: Constructor takes no additional arguments\n",
    "\n",
    "`insert(self, val)`: This method will insert `val` into the tree\n",
    "\n",
    "(Optional) `remove(self, val)`: This will remove `val` from the tree.\n",
    "1. If the node to be deleted has no children then just remove it.\n",
    "2. If the node to be deleted has only one child, remove the node and replace it with its child.\n",
    "3. If the node to be deleted has two children, replace the node to be deleted with the maximum value in the left subtree.  Finally, delete the node with the maximum value in the left-subtree.\n",
    "\n",
    "`getValues(self. depth)`: Return a list of the entire row of nodes at the specified depth with `None` at the index if there is no value in the tree. The length of the list should therefore be $2^{\\text{depth}}$. "
   ]
  },
  {
   "cell_type": "markdown",
   "metadata": {},
   "source": [
    "Here is a sample output:\n",
    "\n",
    "```python\n",
    "bt = BinaryTree()\n",
    "arr = [20, 10, 17, 14, 3, 0]\n",
    "for i in arr:\n",
    "    bt.insert(i)\n",
    "\n",
    "print(\"Height of binary tree is {}.\\n\".format(len(bt)))\n",
    "for i in range(len(bt)):\n",
    "    print(\"Level {0} values: {1}\".format(i, bt.getValues(i)))\n",
    "```\n",
    "\n",
    "```\n",
    "Height of binary tree is 4.\n",
    "\n",
    "Level 0 values: [20]\n",
    "Level 1 values: [10, None]\n",
    "Level 2 values: [3, 17, None, None]\n",
    "Level 3 values: [0, None, 14, None, None, None, None, None]\n",
    "```\n",
    "\n",
    "Note that you do not need to format your output in this way.  Nor are you required to implement a `__len__` method to compute the height of the tree.  I did this because it was convenient for illustration purposes.  This example is simply meant to show you some output at each level of the tree."
   ]
  },
  {
   "cell_type": "code",
   "execution_count": 7,
   "metadata": {
    "collapsed": true
   },
   "outputs": [],
   "source": [
    "class TreeNode:\n",
    "    def __init__(self, val):\n",
    "        self.left = None\n",
    "        self.right = None\n",
    "        self.val = val\n",
    "        self.parent = None"
   ]
  },
  {
   "cell_type": "code",
   "execution_count": 18,
   "metadata": {
    "collapsed": true
   },
   "outputs": [],
   "source": [
    "class BinaryTree:\n",
    "    def __init__(self):\n",
    "        self.root = None\n",
    "    \n",
    "    def insert(self, val):     \n",
    "        if self.root is None:\n",
    "            self.root = TreeNode(val)\n",
    "        else:\n",
    "            self._insert(val, self.root)\n",
    "    \n",
    "    def _insert(self, val, node):\n",
    "        if val <= node.val:\n",
    "            if node.left is not None:\n",
    "                self._insert(val, node.left)\n",
    "            else:\n",
    "                node.left = TreeNode(val)\n",
    "                node.left.parent = node\n",
    "        else:\n",
    "            if node.right is not None:\n",
    "                self._insert(val, node.right)\n",
    "            else:\n",
    "                node.right = TreeNode(val)\n",
    "                node.right.parent = node\n",
    "    \n",
    "    def find(self, val):\n",
    "        if self.root is None:\n",
    "            return None\n",
    "        else:\n",
    "            return self._find(val, self.root)\n",
    "    \n",
    "    def _find(self, val, node):\n",
    "        if val == node.val:\n",
    "            return node\n",
    "        elif val < node.val and node.left is not None:\n",
    "            return self._find(val, node.left)\n",
    "        elif val > node.val and node.right is not None:\n",
    "            return self._find(val, node.right)\n",
    "        else:\n",
    "            return None\n",
    "    \n",
    "    def remove(self, val):\n",
    "        node = self.find(val)\n",
    "        \n",
    "        if self.root.val == val:\n",
    "            parent_node = self.root\n",
    "        else:\n",
    "            parent_node = node.parent\n",
    "            \n",
    "        # the node has 0 children:\n",
    "        if node.left is None and node.right is None:\n",
    "            none = None\n",
    "        \n",
    "        # the node has 1 left child:\n",
    "        if node.left is not None and node.right is None:\n",
    "            none = node.left\n",
    "            \n",
    "        # the node has 1 right child:\n",
    "        if node.left is None and node.right is not None:\n",
    "            none = node.right\n",
    "        \n",
    "        # the node has 2 children:\n",
    "        if node.left is not None and node.right is not None:\n",
    "            current = node\n",
    "            left_child = node.left\n",
    "            while left_child.right:\n",
    "                left_max = left_child.right\n",
    "            node.val = left_max.val\n",
    "            max_node = self.find(left_max.val)\n",
    "            max_node = None\n",
    "              \n",
    "    def getValues(self, depth):\n",
    "        if self.root is None:\n",
    "            return []\n",
    "        else:\n",
    "            self._getValues(depth, self.root, [])\n",
    "            \n",
    "    def _getValues(self, depth, node, vals=[]):\n",
    "        if depth == 0:\n",
    "            vals.append(node.val)\n",
    "        else:\n",
    "            if node.left is not None:\n",
    "                self._getValues(depth-1, node.left, vals)\n",
    "            else:\n",
    "                for i in range(int(2**(depth-1))):\n",
    "                    vals.append(None)\n",
    "            if node.right is not None:\n",
    "                self._getValues(depth-1, node.right, vals)\n",
    "            else:\n",
    "                for i in range(int(2**(depth-1))):\n",
    "                    vals.append(None)\n",
    "        return vals"
   ]
  },
  {
   "cell_type": "code",
   "execution_count": 19,
   "metadata": {},
   "outputs": [
    {
     "name": "stdout",
     "output_type": "stream",
     "text": [
      "None\n"
     ]
    }
   ],
   "source": [
    "bt = BinaryTree()\n",
    "bt.insert(20)\n",
    "print(bt.getValues(0))"
   ]
  },
  {
   "cell_type": "code",
   "execution_count": null,
   "metadata": {
    "collapsed": true
   },
   "outputs": [],
   "source": []
  }
 ],
 "metadata": {
  "kernelspec": {
   "display_name": "Python 3",
   "language": "python",
   "name": "python3"
  },
  "language_info": {
   "codemirror_mode": {
    "name": "ipython",
    "version": 3
   },
   "file_extension": ".py",
   "mimetype": "text/x-python",
   "name": "python",
   "nbconvert_exporter": "python",
   "pygments_lexer": "ipython3",
   "version": "3.6.2"
  }
 },
 "nbformat": 4,
 "nbformat_minor": 2
}
