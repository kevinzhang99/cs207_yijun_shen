{
 "cells": [
  {
   "cell_type": "code",
   "execution_count": 1,
   "metadata": {},
   "outputs": [],
   "source": [
    "import xml.etree.ElementTree as ET"
   ]
  },
  {
   "cell_type": "code",
   "execution_count": 2,
   "metadata": {
    "collapsed": true
   },
   "outputs": [],
   "source": [
    "# source from https://stackoverflow.com/a/1206856/8865471\n",
    "from xml.dom import minidom\n",
    "def prettify(elem):\n",
    "    \"\"\"Return a pretty-printed XML string for the Element.\n",
    "    \"\"\"\n",
    "    rough_string = ET.tostring(elem, 'utf-8')\n",
    "    reparsed = minidom.parseString(rough_string)\n",
    "    return reparsed.toprettyxml(indent=\"\\t\")"
   ]
  },
  {
   "cell_type": "code",
   "execution_count": 3,
   "metadata": {
    "collapsed": true
   },
   "outputs": [],
   "source": [
    "p0=\"100000.0\""
   ]
  },
  {
   "cell_type": "code",
   "execution_count": 4,
   "metadata": {
    "collapsed": true
   },
   "outputs": [],
   "source": [
    "f = open('thermo.txt','r')\n",
    "lines = f.readlines()\n",
    "f.close()"
   ]
  },
  {
   "cell_type": "code",
   "execution_count": 5,
   "metadata": {},
   "outputs": [],
   "source": [
    "content = []\n",
    "for line in lines:\n",
    "    l = line.strip().split()\n",
    "    content.append(l)"
   ]
  },
  {
   "cell_type": "code",
   "execution_count": 6,
   "metadata": {
    "collapsed": true
   },
   "outputs": [],
   "source": [
    "species = ['O','O2','H','H2','OH','H2O','HO2','H2O2']"
   ]
  },
  {
   "cell_type": "code",
   "execution_count": 7,
   "metadata": {},
   "outputs": [],
   "source": [
    "species_i = []\n",
    "first = [c[0] for c in content if c]\n",
    "for i, f in enumerate(first):\n",
    "    if f == 'THERMO':\n",
    "        thermo_i = i+1\n",
    "    for j, s in enumerate(species):\n",
    "        if f == s:\n",
    "            species_i.append(i)\n",
    "            del species[j]\n",
    "# species_i"
   ]
  },
  {
   "cell_type": "code",
   "execution_count": 8,
   "metadata": {},
   "outputs": [
    {
     "data": {
      "text/plain": [
       "['300.000', '1000.000', '5000.000']"
      ]
     },
     "execution_count": 8,
     "metadata": {},
     "output_type": "execute_result"
    }
   ],
   "source": [
    "temperature = content[thermo_i]\n",
    "temperature"
   ]
  },
  {
   "cell_type": "code",
   "execution_count": 9,
   "metadata": {},
   "outputs": [],
   "source": [
    "coeffs = []\n",
    "for i in species_i:\n",
    "    numbers = content[i+1][:-1] + content[i+2][:-1] + content[i+3][:-1]\n",
    "    coeffs.append(numbers)\n",
    "# coeffs"
   ]
  },
  {
   "cell_type": "code",
   "execution_count": 10,
   "metadata": {},
   "outputs": [],
   "source": [
    "total_list = []\n",
    "for lst in coeffs:\n",
    "    new_list = []\n",
    "    for i, n in enumerate(lst):\n",
    "        if len(n) == 29:\n",
    "            lst[i] = n[:14] + ' ' + n[14:]\n",
    "        elif len(n) == 30:\n",
    "            lst[i] = n[:15] + ' ' + n[15:]\n",
    "        elif len(n) == 44:\n",
    "            lst[i] = n[:14] + ' ' + n[14:29] + ' ' + n[29:]\n",
    "        new = lst[i].strip().split()\n",
    "        new_list.append(new)\n",
    "    concat_list = [j for i in new_list for j in i]\n",
    "    total_list.append(concat_list)\n",
    "# total_list"
   ]
  },
  {
   "cell_type": "code",
   "execution_count": 11,
   "metadata": {},
   "outputs": [],
   "source": [
    "species = ['O','O2','H','H2','OH','H2O','HO2','H2O2']\n",
    "d1 = {}\n",
    "for i, t in enumerate(total_list):\n",
    "    d1[species[i]] = {}\n",
    "    d1[species[i]]['high'] = t[:7]\n",
    "    d1[species[i]]['low'] = t[7:]\n",
    "# d1"
   ]
  },
  {
   "cell_type": "code",
   "execution_count": 12,
   "metadata": {},
   "outputs": [],
   "source": [
    "root = ET.Element(\"ctml\")\n",
    "doc = ET.SubElement(root, \"phase\", id=\"gri30\")\n",
    "ET.SubElement(doc, \"speciesArray\", datasrc=\"#species_data\").text = 'O O2 H H2 OH H2O HO2 H2O2'"
   ]
  },
  {
   "cell_type": "code",
   "execution_count": 13,
   "metadata": {},
   "outputs": [],
   "source": [
    "doc2 = ET.SubElement(root, \"speciesData\", id=\"species_data\")\n",
    "for specie in species:\n",
    "    comment = ET.Comment(\"species \" + specie)\n",
    "    s = ET.SubElement(doc2, \"species\", name=specie)\n",
    "    s.append(comment)\n",
    "    s_thermo = ET.SubElement(s, \"thermo\")\n",
    "    s_NASA_high = ET.SubElement(s_thermo, \"NASA\", TMAX=temperature[2], TMIN=temperature[1], P0=p0)\n",
    "    s_fa_high = ET.SubElement(s_NASA_high, \"floatArray\", name=\"coeffs\", size=\"7\").text = ','.join(d1[specie]['high'])\n",
    "    s_NASA_low = ET.SubElement(s_thermo, \"NASA\", TMAX=temperature[1], TMIN=temperature[0], P0=p0)\n",
    "    s_fa_low = ET.SubElement(s_NASA_low, \"floatArray\", name=\"coeffs\", size=\"7\").text = ','.join(d1[specie]['low'])"
   ]
  },
  {
   "cell_type": "code",
   "execution_count": 14,
   "metadata": {},
   "outputs": [],
   "source": [
    "tree = ET.ElementTree(root)\n",
    "tree.write(\"thermo.xml\")\n",
    "with open(\"thermo.xml\", 'w') as f:\n",
    "    f.write(prettify(root))"
   ]
  },
  {
   "cell_type": "code",
   "execution_count": null,
   "metadata": {
    "collapsed": true
   },
   "outputs": [],
   "source": []
  }
 ],
 "metadata": {
  "kernelspec": {
   "display_name": "Python 3",
   "language": "python",
   "name": "python3"
  },
  "language_info": {
   "codemirror_mode": {
    "name": "ipython",
    "version": 3
   },
   "file_extension": ".py",
   "mimetype": "text/x-python",
   "name": "python",
   "nbconvert_exporter": "python",
   "pygments_lexer": "ipython3",
   "version": "3.6.3"
  }
 },
 "nbformat": 4,
 "nbformat_minor": 2
}
